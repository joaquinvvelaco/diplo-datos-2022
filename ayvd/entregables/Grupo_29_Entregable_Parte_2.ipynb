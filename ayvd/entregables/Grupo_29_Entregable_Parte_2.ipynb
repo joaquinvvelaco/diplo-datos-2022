{
  "nbformat": 4,
  "nbformat_minor": 0,
  "metadata": {
    "colab": {
      "name": "Grupo 29 - Entregable - Parte 2.ipynb",
      "provenance": [],
      "collapsed_sections": [
        "useKMdPyMod5",
        "DQqZePI6KiBW"
      ],
      "toc_visible": true,
      "include_colab_link": true
    },
    "kernelspec": {
      "name": "python3",
      "display_name": "Python 3"
    }
  },
  "cells": [
    {
      "cell_type": "markdown",
      "metadata": {
        "id": "view-in-github",
        "colab_type": "text"
      },
      "source": [
        "<a href=\"https://colab.research.google.com/github/joaquinvvelaco/diplo-datos-2022/blob/main/ayvd/entregables/Grupo_29_Entregable_Parte_2.ipynb\" target=\"_parent\"><img src=\"https://colab.research.google.com/assets/colab-badge.svg\" alt=\"Open In Colab\"/></a>"
      ]
    },
    {
      "cell_type": "markdown",
      "metadata": {
        "id": "LYvAOR2VzHmW"
      },
      "source": [
        "\n",
        "**Diplomatura en Ciencia de Datos, Aprendizaje Automático y sus Aplicaciones**\n",
        "\n",
        "**Edición 2022**\n",
        "\n",
        "---\n",
        "\n",
        "# Trabajo práctico entregable - Parte 2"
      ]
    },
    {
      "cell_type": "code",
      "metadata": {
        "id": "Xwdfo7z20TUK"
      },
      "source": [
        "import io\n",
        "import matplotlib\n",
        "import matplotlib.pyplot as plt\n",
        "import numpy as np\n",
        "import pandas as pd\n",
        "import seaborn\n",
        "import scipy.stats as st\n",
        "from math import sqrt\n",
        "\n",
        "seaborn.set_context('talk')"
      ],
      "execution_count": null,
      "outputs": []
    },
    {
      "cell_type": "markdown",
      "metadata": {
        "id": "XY2Hl-Ma07Nn"
      },
      "source": [
        "## Lectura del dataset\n",
        "\n",
        "En la notebook 00 se explican los detalles de la siguiente sección."
      ]
    },
    {
      "cell_type": "code",
      "metadata": {
        "id": "Vviv_sqXdR5W"
      },
      "source": [
        "url = 'https://cs.famaf.unc.edu.ar/~mteruel/datasets/diplodatos/sysarmy_survey_2020_processed.csv'\n",
        "df = pd.read_csv(url)"
      ],
      "execution_count": null,
      "outputs": []
    },
    {
      "cell_type": "code",
      "metadata": {
        "id": "gckNHXXLktJ4",
        "colab": {
          "base_uri": "https://localhost:8080/",
          "height": 324
        },
        "outputId": "603a69fb-b9b1-4da7-a47d-0ba765d35c61"
      },
      "source": [
        "df[:3]"
      ],
      "execution_count": null,
      "outputs": [
        {
          "output_type": "execute_result",
          "data": {
            "text/plain": [
              "  profile_gender  profile_age work_country                    work_province  \\\n",
              "0          Mujer           26    Argentina  Ciudad Autónoma de Buenos Aires   \n",
              "1         Hombre           29    Argentina                       Corrientes   \n",
              "2          Mujer           22    Argentina  Ciudad Autónoma de Buenos Aires   \n",
              "\n",
              "   profile_years_experience  work_years_in_company  \\\n",
              "0                       3.0                    3.0   \n",
              "1                       5.0                    2.0   \n",
              "2                       2.0                    0.0   \n",
              "\n",
              "   work_years_in_current_position  work_people_in_charge_of  \\\n",
              "0                             3.0                         0   \n",
              "1                             2.0                         4   \n",
              "2                             0.0                         0   \n",
              "\n",
              "  profile_studies_level profile_studies_level_state  ...  \\\n",
              "0         Universitario                    En curso  ...   \n",
              "1         Universitario                    En curso  ...   \n",
              "2            Secundario                  Completado  ...   \n",
              "\n",
              "  work_has_violence_situations profile_sexual_orientation  \\\n",
              "0         En mi trabajo actual                 Homosexual   \n",
              "1                        Jamás               Heterosexual   \n",
              "2       En un trabajo anterior           Bisexual o queer   \n",
              "\n",
              "  profile_has_disabilities profile_has_disabilities_hiring_difficulties  \\\n",
              "0                      NaN                                          NaN   \n",
              "1                   Visual                                           No   \n",
              "2                      NaN                                           No   \n",
              "\n",
              "  company_employee_number                          company_main_activity  \\\n",
              "0                501-1000  Servicios / Consultoría de Software / Digital   \n",
              "1                 201-500                               Otras industrias   \n",
              "2               2001-5000                               Otras industrias   \n",
              "\n",
              "  company_recommended company_diversity_policies  \\\n",
              "0                   7                          2   \n",
              "1                   8                          9   \n",
              "2                   6                          9   \n",
              "\n",
              "                              company_extra_benefits  \\\n",
              "0  Capacitaciones y/o cursos, Comidas pagas / sub...   \n",
              "1  Horarios flexibles, Stock options / RSUs, Viát...   \n",
              "2  Clases de gimnasia online, Comidas pagas / sub...   \n",
              "\n",
              "  company_best_companies_city  \n",
              "0                         NaN  \n",
              "1                         NaN  \n",
              "2                         NaN  \n",
              "\n",
              "[3 rows x 48 columns]"
            ],
            "text/html": [
              "\n",
              "  <div id=\"df-60d6622a-18d2-4165-8ceb-78b45abef3fc\">\n",
              "    <div class=\"colab-df-container\">\n",
              "      <div>\n",
              "<style scoped>\n",
              "    .dataframe tbody tr th:only-of-type {\n",
              "        vertical-align: middle;\n",
              "    }\n",
              "\n",
              "    .dataframe tbody tr th {\n",
              "        vertical-align: top;\n",
              "    }\n",
              "\n",
              "    .dataframe thead th {\n",
              "        text-align: right;\n",
              "    }\n",
              "</style>\n",
              "<table border=\"1\" class=\"dataframe\">\n",
              "  <thead>\n",
              "    <tr style=\"text-align: right;\">\n",
              "      <th></th>\n",
              "      <th>profile_gender</th>\n",
              "      <th>profile_age</th>\n",
              "      <th>work_country</th>\n",
              "      <th>work_province</th>\n",
              "      <th>profile_years_experience</th>\n",
              "      <th>work_years_in_company</th>\n",
              "      <th>work_years_in_current_position</th>\n",
              "      <th>work_people_in_charge_of</th>\n",
              "      <th>profile_studies_level</th>\n",
              "      <th>profile_studies_level_state</th>\n",
              "      <th>...</th>\n",
              "      <th>work_has_violence_situations</th>\n",
              "      <th>profile_sexual_orientation</th>\n",
              "      <th>profile_has_disabilities</th>\n",
              "      <th>profile_has_disabilities_hiring_difficulties</th>\n",
              "      <th>company_employee_number</th>\n",
              "      <th>company_main_activity</th>\n",
              "      <th>company_recommended</th>\n",
              "      <th>company_diversity_policies</th>\n",
              "      <th>company_extra_benefits</th>\n",
              "      <th>company_best_companies_city</th>\n",
              "    </tr>\n",
              "  </thead>\n",
              "  <tbody>\n",
              "    <tr>\n",
              "      <th>0</th>\n",
              "      <td>Mujer</td>\n",
              "      <td>26</td>\n",
              "      <td>Argentina</td>\n",
              "      <td>Ciudad Autónoma de Buenos Aires</td>\n",
              "      <td>3.0</td>\n",
              "      <td>3.0</td>\n",
              "      <td>3.0</td>\n",
              "      <td>0</td>\n",
              "      <td>Universitario</td>\n",
              "      <td>En curso</td>\n",
              "      <td>...</td>\n",
              "      <td>En mi trabajo actual</td>\n",
              "      <td>Homosexual</td>\n",
              "      <td>NaN</td>\n",
              "      <td>NaN</td>\n",
              "      <td>501-1000</td>\n",
              "      <td>Servicios / Consultoría de Software / Digital</td>\n",
              "      <td>7</td>\n",
              "      <td>2</td>\n",
              "      <td>Capacitaciones y/o cursos, Comidas pagas / sub...</td>\n",
              "      <td>NaN</td>\n",
              "    </tr>\n",
              "    <tr>\n",
              "      <th>1</th>\n",
              "      <td>Hombre</td>\n",
              "      <td>29</td>\n",
              "      <td>Argentina</td>\n",
              "      <td>Corrientes</td>\n",
              "      <td>5.0</td>\n",
              "      <td>2.0</td>\n",
              "      <td>2.0</td>\n",
              "      <td>4</td>\n",
              "      <td>Universitario</td>\n",
              "      <td>En curso</td>\n",
              "      <td>...</td>\n",
              "      <td>Jamás</td>\n",
              "      <td>Heterosexual</td>\n",
              "      <td>Visual</td>\n",
              "      <td>No</td>\n",
              "      <td>201-500</td>\n",
              "      <td>Otras industrias</td>\n",
              "      <td>8</td>\n",
              "      <td>9</td>\n",
              "      <td>Horarios flexibles, Stock options / RSUs, Viát...</td>\n",
              "      <td>NaN</td>\n",
              "    </tr>\n",
              "    <tr>\n",
              "      <th>2</th>\n",
              "      <td>Mujer</td>\n",
              "      <td>22</td>\n",
              "      <td>Argentina</td>\n",
              "      <td>Ciudad Autónoma de Buenos Aires</td>\n",
              "      <td>2.0</td>\n",
              "      <td>0.0</td>\n",
              "      <td>0.0</td>\n",
              "      <td>0</td>\n",
              "      <td>Secundario</td>\n",
              "      <td>Completado</td>\n",
              "      <td>...</td>\n",
              "      <td>En un trabajo anterior</td>\n",
              "      <td>Bisexual o queer</td>\n",
              "      <td>NaN</td>\n",
              "      <td>No</td>\n",
              "      <td>2001-5000</td>\n",
              "      <td>Otras industrias</td>\n",
              "      <td>6</td>\n",
              "      <td>9</td>\n",
              "      <td>Clases de gimnasia online, Comidas pagas / sub...</td>\n",
              "      <td>NaN</td>\n",
              "    </tr>\n",
              "  </tbody>\n",
              "</table>\n",
              "<p>3 rows × 48 columns</p>\n",
              "</div>\n",
              "      <button class=\"colab-df-convert\" onclick=\"convertToInteractive('df-60d6622a-18d2-4165-8ceb-78b45abef3fc')\"\n",
              "              title=\"Convert this dataframe to an interactive table.\"\n",
              "              style=\"display:none;\">\n",
              "        \n",
              "  <svg xmlns=\"http://www.w3.org/2000/svg\" height=\"24px\"viewBox=\"0 0 24 24\"\n",
              "       width=\"24px\">\n",
              "    <path d=\"M0 0h24v24H0V0z\" fill=\"none\"/>\n",
              "    <path d=\"M18.56 5.44l.94 2.06.94-2.06 2.06-.94-2.06-.94-.94-2.06-.94 2.06-2.06.94zm-11 1L8.5 8.5l.94-2.06 2.06-.94-2.06-.94L8.5 2.5l-.94 2.06-2.06.94zm10 10l.94 2.06.94-2.06 2.06-.94-2.06-.94-.94-2.06-.94 2.06-2.06.94z\"/><path d=\"M17.41 7.96l-1.37-1.37c-.4-.4-.92-.59-1.43-.59-.52 0-1.04.2-1.43.59L10.3 9.45l-7.72 7.72c-.78.78-.78 2.05 0 2.83L4 21.41c.39.39.9.59 1.41.59.51 0 1.02-.2 1.41-.59l7.78-7.78 2.81-2.81c.8-.78.8-2.07 0-2.86zM5.41 20L4 18.59l7.72-7.72 1.47 1.35L5.41 20z\"/>\n",
              "  </svg>\n",
              "      </button>\n",
              "      \n",
              "  <style>\n",
              "    .colab-df-container {\n",
              "      display:flex;\n",
              "      flex-wrap:wrap;\n",
              "      gap: 12px;\n",
              "    }\n",
              "\n",
              "    .colab-df-convert {\n",
              "      background-color: #E8F0FE;\n",
              "      border: none;\n",
              "      border-radius: 50%;\n",
              "      cursor: pointer;\n",
              "      display: none;\n",
              "      fill: #1967D2;\n",
              "      height: 32px;\n",
              "      padding: 0 0 0 0;\n",
              "      width: 32px;\n",
              "    }\n",
              "\n",
              "    .colab-df-convert:hover {\n",
              "      background-color: #E2EBFA;\n",
              "      box-shadow: 0px 1px 2px rgba(60, 64, 67, 0.3), 0px 1px 3px 1px rgba(60, 64, 67, 0.15);\n",
              "      fill: #174EA6;\n",
              "    }\n",
              "\n",
              "    [theme=dark] .colab-df-convert {\n",
              "      background-color: #3B4455;\n",
              "      fill: #D2E3FC;\n",
              "    }\n",
              "\n",
              "    [theme=dark] .colab-df-convert:hover {\n",
              "      background-color: #434B5C;\n",
              "      box-shadow: 0px 1px 3px 1px rgba(0, 0, 0, 0.15);\n",
              "      filter: drop-shadow(0px 1px 2px rgba(0, 0, 0, 0.3));\n",
              "      fill: #FFFFFF;\n",
              "    }\n",
              "  </style>\n",
              "\n",
              "      <script>\n",
              "        const buttonEl =\n",
              "          document.querySelector('#df-60d6622a-18d2-4165-8ceb-78b45abef3fc button.colab-df-convert');\n",
              "        buttonEl.style.display =\n",
              "          google.colab.kernel.accessAllowed ? 'block' : 'none';\n",
              "\n",
              "        async function convertToInteractive(key) {\n",
              "          const element = document.querySelector('#df-60d6622a-18d2-4165-8ceb-78b45abef3fc');\n",
              "          const dataTable =\n",
              "            await google.colab.kernel.invokeFunction('convertToInteractive',\n",
              "                                                     [key], {});\n",
              "          if (!dataTable) return;\n",
              "\n",
              "          const docLinkHtml = 'Like what you see? Visit the ' +\n",
              "            '<a target=\"_blank\" href=https://colab.research.google.com/notebooks/data_table.ipynb>data table notebook</a>'\n",
              "            + ' to learn more about interactive tables.';\n",
              "          element.innerHTML = '';\n",
              "          dataTable['output_type'] = 'display_data';\n",
              "          await google.colab.output.renderOutput(dataTable, element);\n",
              "          const docLink = document.createElement('div');\n",
              "          docLink.innerHTML = docLinkHtml;\n",
              "          element.appendChild(docLink);\n",
              "        }\n",
              "      </script>\n",
              "    </div>\n",
              "  </div>\n",
              "  "
            ]
          },
          "metadata": {},
          "execution_count": 3
        }
      ]
    },
    {
      "cell_type": "code",
      "metadata": {
        "id": "2lzmzK1NuPNT",
        "colab": {
          "base_uri": "https://localhost:8080/",
          "height": 206
        },
        "outputId": "409ca02b-212e-4978-ad82-cea45c713222"
      },
      "source": [
        "df[['profile_gender', 'salary_monthly_NETO']].groupby('profile_gender').describe()"
      ],
      "execution_count": null,
      "outputs": [
        {
          "output_type": "execute_result",
          "data": {
            "text/plain": [
              "               salary_monthly_NETO                                     \\\n",
              "                             count          mean            std   min   \n",
              "profile_gender                                                          \n",
              "Hombre                      4944.0  98836.063558  102159.664237   1.0   \n",
              "Mujer                        908.0  73501.414465   56256.880181   2.0   \n",
              "Otros                         31.0  95441.354839   88635.674358  40.0   \n",
              "\n",
              "                                                       \n",
              "                    25%      50%       75%        max  \n",
              "profile_gender                                         \n",
              "Hombre          53285.0  80000.0  110000.0  2080000.0  \n",
              "Mujer           43818.0  65000.0   92000.0   800000.0  \n",
              "Otros           39500.0  74000.0  117500.0   380000.0  "
            ],
            "text/html": [
              "\n",
              "  <div id=\"df-a61cc46f-130e-4933-b0d4-1d4fa1639172\">\n",
              "    <div class=\"colab-df-container\">\n",
              "      <div>\n",
              "<style scoped>\n",
              "    .dataframe tbody tr th:only-of-type {\n",
              "        vertical-align: middle;\n",
              "    }\n",
              "\n",
              "    .dataframe tbody tr th {\n",
              "        vertical-align: top;\n",
              "    }\n",
              "\n",
              "    .dataframe thead tr th {\n",
              "        text-align: left;\n",
              "    }\n",
              "\n",
              "    .dataframe thead tr:last-of-type th {\n",
              "        text-align: right;\n",
              "    }\n",
              "</style>\n",
              "<table border=\"1\" class=\"dataframe\">\n",
              "  <thead>\n",
              "    <tr>\n",
              "      <th></th>\n",
              "      <th colspan=\"8\" halign=\"left\">salary_monthly_NETO</th>\n",
              "    </tr>\n",
              "    <tr>\n",
              "      <th></th>\n",
              "      <th>count</th>\n",
              "      <th>mean</th>\n",
              "      <th>std</th>\n",
              "      <th>min</th>\n",
              "      <th>25%</th>\n",
              "      <th>50%</th>\n",
              "      <th>75%</th>\n",
              "      <th>max</th>\n",
              "    </tr>\n",
              "    <tr>\n",
              "      <th>profile_gender</th>\n",
              "      <th></th>\n",
              "      <th></th>\n",
              "      <th></th>\n",
              "      <th></th>\n",
              "      <th></th>\n",
              "      <th></th>\n",
              "      <th></th>\n",
              "      <th></th>\n",
              "    </tr>\n",
              "  </thead>\n",
              "  <tbody>\n",
              "    <tr>\n",
              "      <th>Hombre</th>\n",
              "      <td>4944.0</td>\n",
              "      <td>98836.063558</td>\n",
              "      <td>102159.664237</td>\n",
              "      <td>1.0</td>\n",
              "      <td>53285.0</td>\n",
              "      <td>80000.0</td>\n",
              "      <td>110000.0</td>\n",
              "      <td>2080000.0</td>\n",
              "    </tr>\n",
              "    <tr>\n",
              "      <th>Mujer</th>\n",
              "      <td>908.0</td>\n",
              "      <td>73501.414465</td>\n",
              "      <td>56256.880181</td>\n",
              "      <td>2.0</td>\n",
              "      <td>43818.0</td>\n",
              "      <td>65000.0</td>\n",
              "      <td>92000.0</td>\n",
              "      <td>800000.0</td>\n",
              "    </tr>\n",
              "    <tr>\n",
              "      <th>Otros</th>\n",
              "      <td>31.0</td>\n",
              "      <td>95441.354839</td>\n",
              "      <td>88635.674358</td>\n",
              "      <td>40.0</td>\n",
              "      <td>39500.0</td>\n",
              "      <td>74000.0</td>\n",
              "      <td>117500.0</td>\n",
              "      <td>380000.0</td>\n",
              "    </tr>\n",
              "  </tbody>\n",
              "</table>\n",
              "</div>\n",
              "      <button class=\"colab-df-convert\" onclick=\"convertToInteractive('df-a61cc46f-130e-4933-b0d4-1d4fa1639172')\"\n",
              "              title=\"Convert this dataframe to an interactive table.\"\n",
              "              style=\"display:none;\">\n",
              "        \n",
              "  <svg xmlns=\"http://www.w3.org/2000/svg\" height=\"24px\"viewBox=\"0 0 24 24\"\n",
              "       width=\"24px\">\n",
              "    <path d=\"M0 0h24v24H0V0z\" fill=\"none\"/>\n",
              "    <path d=\"M18.56 5.44l.94 2.06.94-2.06 2.06-.94-2.06-.94-.94-2.06-.94 2.06-2.06.94zm-11 1L8.5 8.5l.94-2.06 2.06-.94-2.06-.94L8.5 2.5l-.94 2.06-2.06.94zm10 10l.94 2.06.94-2.06 2.06-.94-2.06-.94-.94-2.06-.94 2.06-2.06.94z\"/><path d=\"M17.41 7.96l-1.37-1.37c-.4-.4-.92-.59-1.43-.59-.52 0-1.04.2-1.43.59L10.3 9.45l-7.72 7.72c-.78.78-.78 2.05 0 2.83L4 21.41c.39.39.9.59 1.41.59.51 0 1.02-.2 1.41-.59l7.78-7.78 2.81-2.81c.8-.78.8-2.07 0-2.86zM5.41 20L4 18.59l7.72-7.72 1.47 1.35L5.41 20z\"/>\n",
              "  </svg>\n",
              "      </button>\n",
              "      \n",
              "  <style>\n",
              "    .colab-df-container {\n",
              "      display:flex;\n",
              "      flex-wrap:wrap;\n",
              "      gap: 12px;\n",
              "    }\n",
              "\n",
              "    .colab-df-convert {\n",
              "      background-color: #E8F0FE;\n",
              "      border: none;\n",
              "      border-radius: 50%;\n",
              "      cursor: pointer;\n",
              "      display: none;\n",
              "      fill: #1967D2;\n",
              "      height: 32px;\n",
              "      padding: 0 0 0 0;\n",
              "      width: 32px;\n",
              "    }\n",
              "\n",
              "    .colab-df-convert:hover {\n",
              "      background-color: #E2EBFA;\n",
              "      box-shadow: 0px 1px 2px rgba(60, 64, 67, 0.3), 0px 1px 3px 1px rgba(60, 64, 67, 0.15);\n",
              "      fill: #174EA6;\n",
              "    }\n",
              "\n",
              "    [theme=dark] .colab-df-convert {\n",
              "      background-color: #3B4455;\n",
              "      fill: #D2E3FC;\n",
              "    }\n",
              "\n",
              "    [theme=dark] .colab-df-convert:hover {\n",
              "      background-color: #434B5C;\n",
              "      box-shadow: 0px 1px 3px 1px rgba(0, 0, 0, 0.15);\n",
              "      filter: drop-shadow(0px 1px 2px rgba(0, 0, 0, 0.3));\n",
              "      fill: #FFFFFF;\n",
              "    }\n",
              "  </style>\n",
              "\n",
              "      <script>\n",
              "        const buttonEl =\n",
              "          document.querySelector('#df-a61cc46f-130e-4933-b0d4-1d4fa1639172 button.colab-df-convert');\n",
              "        buttonEl.style.display =\n",
              "          google.colab.kernel.accessAllowed ? 'block' : 'none';\n",
              "\n",
              "        async function convertToInteractive(key) {\n",
              "          const element = document.querySelector('#df-a61cc46f-130e-4933-b0d4-1d4fa1639172');\n",
              "          const dataTable =\n",
              "            await google.colab.kernel.invokeFunction('convertToInteractive',\n",
              "                                                     [key], {});\n",
              "          if (!dataTable) return;\n",
              "\n",
              "          const docLinkHtml = 'Like what you see? Visit the ' +\n",
              "            '<a target=\"_blank\" href=https://colab.research.google.com/notebooks/data_table.ipynb>data table notebook</a>'\n",
              "            + ' to learn more about interactive tables.';\n",
              "          element.innerHTML = '';\n",
              "          dataTable['output_type'] = 'display_data';\n",
              "          await google.colab.output.renderOutput(dataTable, element);\n",
              "          const docLink = document.createElement('div');\n",
              "          docLink.innerHTML = docLinkHtml;\n",
              "          element.appendChild(docLink);\n",
              "        }\n",
              "      </script>\n",
              "    </div>\n",
              "  </div>\n",
              "  "
            ]
          },
          "metadata": {},
          "execution_count": 4
        }
      ]
    },
    {
      "cell_type": "code",
      "metadata": {
        "colab": {
          "base_uri": "https://localhost:8080/",
          "height": 206
        },
        "id": "pycKJ5jWkShW",
        "outputId": "414533b3-cf69-4cbb-bb33-b726c1a81997"
      },
      "source": [
        "df[df.salary_monthly_NETO > 1000]\\\n",
        "  [['profile_gender', 'salary_monthly_NETO']].groupby('profile_gender').describe()"
      ],
      "execution_count": null,
      "outputs": [
        {
          "output_type": "execute_result",
          "data": {
            "text/plain": [
              "               salary_monthly_NETO                                         \\\n",
              "                             count           mean            std      min   \n",
              "profile_gender                                                              \n",
              "Hombre                      4815.0  101481.624343  102215.304684   1100.0   \n",
              "Mujer                        863.0   77328.913778   55082.760570   2000.0   \n",
              "Otros                         28.0  105660.714286   87235.710235  34000.0   \n",
              "\n",
              "                                                       \n",
              "                    25%      50%       75%        max  \n",
              "profile_gender                                         \n",
              "Hombre          55000.0  80000.0  110000.0  2080000.0  \n",
              "Mujer           47850.0  67200.0   93000.0   800000.0  \n",
              "Otros           43750.0  78900.0  122750.0   380000.0  "
            ],
            "text/html": [
              "\n",
              "  <div id=\"df-f957488d-ed0b-4052-98b9-85b50b6597f6\">\n",
              "    <div class=\"colab-df-container\">\n",
              "      <div>\n",
              "<style scoped>\n",
              "    .dataframe tbody tr th:only-of-type {\n",
              "        vertical-align: middle;\n",
              "    }\n",
              "\n",
              "    .dataframe tbody tr th {\n",
              "        vertical-align: top;\n",
              "    }\n",
              "\n",
              "    .dataframe thead tr th {\n",
              "        text-align: left;\n",
              "    }\n",
              "\n",
              "    .dataframe thead tr:last-of-type th {\n",
              "        text-align: right;\n",
              "    }\n",
              "</style>\n",
              "<table border=\"1\" class=\"dataframe\">\n",
              "  <thead>\n",
              "    <tr>\n",
              "      <th></th>\n",
              "      <th colspan=\"8\" halign=\"left\">salary_monthly_NETO</th>\n",
              "    </tr>\n",
              "    <tr>\n",
              "      <th></th>\n",
              "      <th>count</th>\n",
              "      <th>mean</th>\n",
              "      <th>std</th>\n",
              "      <th>min</th>\n",
              "      <th>25%</th>\n",
              "      <th>50%</th>\n",
              "      <th>75%</th>\n",
              "      <th>max</th>\n",
              "    </tr>\n",
              "    <tr>\n",
              "      <th>profile_gender</th>\n",
              "      <th></th>\n",
              "      <th></th>\n",
              "      <th></th>\n",
              "      <th></th>\n",
              "      <th></th>\n",
              "      <th></th>\n",
              "      <th></th>\n",
              "      <th></th>\n",
              "    </tr>\n",
              "  </thead>\n",
              "  <tbody>\n",
              "    <tr>\n",
              "      <th>Hombre</th>\n",
              "      <td>4815.0</td>\n",
              "      <td>101481.624343</td>\n",
              "      <td>102215.304684</td>\n",
              "      <td>1100.0</td>\n",
              "      <td>55000.0</td>\n",
              "      <td>80000.0</td>\n",
              "      <td>110000.0</td>\n",
              "      <td>2080000.0</td>\n",
              "    </tr>\n",
              "    <tr>\n",
              "      <th>Mujer</th>\n",
              "      <td>863.0</td>\n",
              "      <td>77328.913778</td>\n",
              "      <td>55082.760570</td>\n",
              "      <td>2000.0</td>\n",
              "      <td>47850.0</td>\n",
              "      <td>67200.0</td>\n",
              "      <td>93000.0</td>\n",
              "      <td>800000.0</td>\n",
              "    </tr>\n",
              "    <tr>\n",
              "      <th>Otros</th>\n",
              "      <td>28.0</td>\n",
              "      <td>105660.714286</td>\n",
              "      <td>87235.710235</td>\n",
              "      <td>34000.0</td>\n",
              "      <td>43750.0</td>\n",
              "      <td>78900.0</td>\n",
              "      <td>122750.0</td>\n",
              "      <td>380000.0</td>\n",
              "    </tr>\n",
              "  </tbody>\n",
              "</table>\n",
              "</div>\n",
              "      <button class=\"colab-df-convert\" onclick=\"convertToInteractive('df-f957488d-ed0b-4052-98b9-85b50b6597f6')\"\n",
              "              title=\"Convert this dataframe to an interactive table.\"\n",
              "              style=\"display:none;\">\n",
              "        \n",
              "  <svg xmlns=\"http://www.w3.org/2000/svg\" height=\"24px\"viewBox=\"0 0 24 24\"\n",
              "       width=\"24px\">\n",
              "    <path d=\"M0 0h24v24H0V0z\" fill=\"none\"/>\n",
              "    <path d=\"M18.56 5.44l.94 2.06.94-2.06 2.06-.94-2.06-.94-.94-2.06-.94 2.06-2.06.94zm-11 1L8.5 8.5l.94-2.06 2.06-.94-2.06-.94L8.5 2.5l-.94 2.06-2.06.94zm10 10l.94 2.06.94-2.06 2.06-.94-2.06-.94-.94-2.06-.94 2.06-2.06.94z\"/><path d=\"M17.41 7.96l-1.37-1.37c-.4-.4-.92-.59-1.43-.59-.52 0-1.04.2-1.43.59L10.3 9.45l-7.72 7.72c-.78.78-.78 2.05 0 2.83L4 21.41c.39.39.9.59 1.41.59.51 0 1.02-.2 1.41-.59l7.78-7.78 2.81-2.81c.8-.78.8-2.07 0-2.86zM5.41 20L4 18.59l7.72-7.72 1.47 1.35L5.41 20z\"/>\n",
              "  </svg>\n",
              "      </button>\n",
              "      \n",
              "  <style>\n",
              "    .colab-df-container {\n",
              "      display:flex;\n",
              "      flex-wrap:wrap;\n",
              "      gap: 12px;\n",
              "    }\n",
              "\n",
              "    .colab-df-convert {\n",
              "      background-color: #E8F0FE;\n",
              "      border: none;\n",
              "      border-radius: 50%;\n",
              "      cursor: pointer;\n",
              "      display: none;\n",
              "      fill: #1967D2;\n",
              "      height: 32px;\n",
              "      padding: 0 0 0 0;\n",
              "      width: 32px;\n",
              "    }\n",
              "\n",
              "    .colab-df-convert:hover {\n",
              "      background-color: #E2EBFA;\n",
              "      box-shadow: 0px 1px 2px rgba(60, 64, 67, 0.3), 0px 1px 3px 1px rgba(60, 64, 67, 0.15);\n",
              "      fill: #174EA6;\n",
              "    }\n",
              "\n",
              "    [theme=dark] .colab-df-convert {\n",
              "      background-color: #3B4455;\n",
              "      fill: #D2E3FC;\n",
              "    }\n",
              "\n",
              "    [theme=dark] .colab-df-convert:hover {\n",
              "      background-color: #434B5C;\n",
              "      box-shadow: 0px 1px 3px 1px rgba(0, 0, 0, 0.15);\n",
              "      filter: drop-shadow(0px 1px 2px rgba(0, 0, 0, 0.3));\n",
              "      fill: #FFFFFF;\n",
              "    }\n",
              "  </style>\n",
              "\n",
              "      <script>\n",
              "        const buttonEl =\n",
              "          document.querySelector('#df-f957488d-ed0b-4052-98b9-85b50b6597f6 button.colab-df-convert');\n",
              "        buttonEl.style.display =\n",
              "          google.colab.kernel.accessAllowed ? 'block' : 'none';\n",
              "\n",
              "        async function convertToInteractive(key) {\n",
              "          const element = document.querySelector('#df-f957488d-ed0b-4052-98b9-85b50b6597f6');\n",
              "          const dataTable =\n",
              "            await google.colab.kernel.invokeFunction('convertToInteractive',\n",
              "                                                     [key], {});\n",
              "          if (!dataTable) return;\n",
              "\n",
              "          const docLinkHtml = 'Like what you see? Visit the ' +\n",
              "            '<a target=\"_blank\" href=https://colab.research.google.com/notebooks/data_table.ipynb>data table notebook</a>'\n",
              "            + ' to learn more about interactive tables.';\n",
              "          element.innerHTML = '';\n",
              "          dataTable['output_type'] = 'display_data';\n",
              "          await google.colab.output.renderOutput(dataTable, element);\n",
              "          const docLink = document.createElement('div');\n",
              "          docLink.innerHTML = docLinkHtml;\n",
              "          element.appendChild(docLink);\n",
              "        }\n",
              "      </script>\n",
              "    </div>\n",
              "  </div>\n",
              "  "
            ]
          },
          "metadata": {},
          "execution_count": 5
        }
      ]
    },
    {
      "cell_type": "code",
      "metadata": {
        "id": "uZ1GxkLylHx0"
      },
      "source": [
        "alpha = 0.05"
      ],
      "execution_count": null,
      "outputs": []
    },
    {
      "cell_type": "code",
      "metadata": {
        "id": "OfzFpDO-lYxk"
      },
      "source": [
        "is_man = df.profile_gender == 'Hombre'\n",
        "\n",
        "groupA = df[(df.salary_monthly_NETO > 1000) & is_man].salary_monthly_NETO\n",
        "groupB = df[(df.salary_monthly_NETO > 1000) & ~is_man].salary_monthly_NETO"
      ],
      "execution_count": null,
      "outputs": []
    },
    {
      "cell_type": "markdown",
      "metadata": {
        "id": "co_0M_ojtmUh"
      },
      "source": [
        "## Ejercicio 1: Estimación\n",
        "\n",
        "**Consigna:**  Calcular una estimación puntual y un intervalo de confianza de nivel (1-alpha) para la resta entre la media del salario Neto para Hombres menos la media del salario Neto para otros géneros(diferencia de las medias entre el grupoA y grupoB). \n",
        "¿Cómo se relaciona *este* intervalo de confianza con el test de hipótesis?"
      ]
    },
    {
      "cell_type": "markdown",
      "metadata": {
        "id": "IFi2T7Y6nM92"
      },
      "source": [
        "## Ejercicio 2: Test de hipótesis\n"
      ]
    },
    {
      "cell_type": "markdown",
      "metadata": {
        "id": "Rzxe8UYU6EfJ"
      },
      "source": [
        "\n",
        "### 2.1 Formalización\n",
        "\n",
        "Describir formalmente los distintos componentes de un test de hipótesis para comprobar si la distribución de los salarios es distinta entre los grupos A y B.\n",
        "\n",
        "**Hipótesis Nula**\n",
        "\n",
        "$H_0=...$\n",
        "\n",
        "**Estadístico (Pivote)**\n",
        "  * Identificar el estadístico\n",
        "  * Escribir qué distribución tiene bajo $H_0$\n"
      ]
    },
    {
      "cell_type": "markdown",
      "metadata": {
        "id": "3Ip_5YdenC8u"
      },
      "source": [
        "### 2.2 P-valor\n",
        "\n",
        "1. Calcule el p-valor y decida si rechazar o no la hipótesis nula.\n",
        "2. Interprete el resultado.\n",
        "\n",
        "Links útiles:\n",
        "* [Test de hipótesis usando scipy](https://docs.scipy.org/doc/scipy/reference/generated/scipy.stats.ttest_ind.html)\n",
        "* [Test de Welch](http://daniellakens.blogspot.com/2015/01/always-use-welchs-t-test-instead-of.html)"
      ]
    },
    {
      "cell_type": "markdown",
      "metadata": {
        "id": "8VxiQr5YrQYR"
      },
      "source": [
        "### [Opcional] 2.3 Potencia del test\n",
        "\n",
        "Nuestra muestra, ¿era lo suficientemente grande para detectar si existe o no una diferencia entre los grupos?\n",
        "\n",
        "1. Utilice la función `tt_ind_solve_power` para calcular el tamaño necesario de la muestra para un poder estadístico de 0.8, 0.9 y 0.95, asumiendo una significancia estadística de 0.05.\n",
        "2. ¿Cómo intepretan el poder estadístico de un test? Dado su conocimiento de dominio sobre los datos, ¿les parece que esta muestra es lo suficientemente grande para ser representativo de la tendencia general? ¿y para utilizarlo en un juicio penal contra una empresa XX por una causa de discriminación?\n",
        "\n",
        "[Documentación](https://www.statsmodels.org/stable/generated/statsmodels.stats.power.tt_ind_solve_power.html)\n",
        "\n",
        "NOTA: este análisis debería hacerse ANTES de recolectar los datos."
      ]
    },
    {
      "cell_type": "markdown",
      "metadata": {
        "id": "useKMdPyMod5"
      },
      "source": [
        "## Ejercicio 3: Comunicación y visualización\n",
        "\n",
        "**Consigna:** Seleccionen un resultado que les parezca relevante a partir de alguno de los ejercicios del entregable. Diseñe e implemente una comunicación en base a este mensaje, en un archivo PDF.\n",
        "\n",
        "Elija las palabras y visualización más adecuada para que la comunicación sea entendible, efectiva y se dapte a UNA de las siguientes situaciones:\n",
        "\n",
        "1. Una sección en un artículo de difusión a presentar como parte de una organización sin fines de lucro.\n",
        "No más de 1 página A4 (o dos si los gráficos son muy grandes).\n",
        "  1. Ejemplo: Alguna de las secciones [Los ecosistemas de emprendimiento de América Latina y el Caribe frente al COVID-19: Impactos, necesidades y recomendaciones](https://publications.iadb.org/es/los-ecosistemas-de-emprendimiento-de-america-latina-y-el-caribe-frente-al-covid-19-impactos-necesidades-y-recomendaciones), por ejemplo la sección *2.2. Reacciones de los emprendedores*.\n",
        "  2. Ejemplo: Alguna de las secciones de [The state of gender pay gap in 2021](https://www.payscale.com/data/gender-pay-gap?tk=carousel-ps-rc-job)\n",
        "  3. Puntos clave: \n",
        "    1. Simpleza de los gráficos.\n",
        "    2. Comunicación en lenguaje simple a personas que no son necesariamente expertos de dominio.\n",
        "    2. Selección de UNA oración sobre la que se hace énfasis.\n",
        "    3. No es necesario que mencionen objetivos ni descripciones del conjunto de datos, se supone que eso ya estaría explicado en otras secciones del informe.\n",
        "\n",
        "2. Una publicación científica o reporte técnico interno. No más de una página A4:\n",
        "  2. Ejemplo: La sección de resultados de [IZA DP No. 12914: The Impact of a Minimum Wage Change on the Distribution of Wages and Household Income](https://www.iza.org/publications/dp/12914/the-impact-of-a-minimum-wage-change-on-the-distribution-of-wages-and-household-income).\n",
        "  2. Ejemplo: Alguna de las secciones de [Temporary reduction in daily global CO2 emissions during the COVID-19 forced confinement](https://www.nature.com/articles/s41558-020-0797-x)\n",
        "  3. Puntos clave:\n",
        "    3. Nivel de detalle técnico requerido. Es necesario justificar la validez del análisis.\n",
        "    4. La idea presentada puede ser más compleja. Pueden asumir que la audiencia tiene conocimiento técnico y va a analizar las visualizaciones en detalle. \n",
        "    5. Pueden presentar más en detalle las limitaciones del análisis (significancia estadística, etc.)\n",
        "    2. No es necesario que mencionen objetivos ni descripciones del conjunto de datos, se supone que eso ya estaría explicado en otras secciones del informe.\n",
        "\n",
        "3. Un tweet (o post de LinkedIn) para la cuenta de su empresa consultora que hace análisis de datos. El objetivo es promocionar un análisis de datos abiertos que van a incluir en su portfolio:\n",
        "  1. Ejemplo: [Comparación vacunas covid](https://twitter.com/infobeautiful/status/1381577746527236098?s=20)\n",
        "  2. Ejemplo: [Tweet del BID](https://twitter.com/el_BID/status/1388508583944507396?s=20). Lo valioso de este tweet es que usaron un único número para transmitir un mensaje. Puede ser algo así, o con un gráfico muy simple.\n",
        "  3. Ejemplo: [Cambio climático](https://twitter.com/UNFCCC/status/1387732156190011394?s=20) Es un muy buen ejemplo, excepto que el gráfico no se lee nada y hay que entrar a la publicación original.\n",
        "  3. Ejemplo: [¿Cuánto están los programadores en las empresas?](https://www.linkedin.com/posts/denis-rothman-0b034043_tech-career-work-activity-6793861923269054464-gS6y) (No verificamos la veracidad o seriedad de la fuente).\n",
        "  4. Puntos clave:\n",
        "    1. Su audiencia no va a mirar la visualización por más de unos segundos, y no tiene conocimiento técnico.\n",
        "  3. Tienen que incluir además una *breve* descripción de cómo obtuvieron los datos que están presentando, que no entraría en el tweet.\n"
      ]
    },
    {
      "cell_type": "code",
      "metadata": {
        "id": "twwYHUztt45L"
      },
      "source": [
        ""
      ],
      "execution_count": null,
      "outputs": []
    },
    {
      "cell_type": "markdown",
      "source": [
        "# Actividades del Grupo 29"
      ],
      "metadata": {
        "id": "1-R2JeqjKJOm"
      }
    },
    {
      "cell_type": "markdown",
      "source": [
        "## Resolución ejercicio 1\n",
        "\n",
        "\n"
      ],
      "metadata": {
        "id": "ENi8xUW2Kb0M"
      }
    },
    {
      "cell_type": "markdown",
      "source": [
        "### Funciones de filtrado"
      ],
      "metadata": {
        "id": "cwd_UW-6aywH"
      }
    },
    {
      "cell_type": "markdown",
      "source": [
        "#### Funciones genéricas\n",
        "_Estas funciones van a aplicar las máscaras o filtros definidos en las siguientes subsecciones.Las mismas ya fueron utilizadas en la parte 1_"
      ],
      "metadata": {
        "id": "bmpJtIVba9TG"
      }
    },
    {
      "cell_type": "code",
      "source": [
        "# Funciones genéricas\n",
        "def preprocess_dataset(dataset, masks):\n",
        "  return filter(dataset, masks)\n",
        "\n",
        "def filter(dataset, masks):\n",
        "  filters = get_filter(dataset, masks)\n",
        "  return dataset[filters]\n",
        "\n",
        "def get_filter(dataset, masks):\n",
        "  filters = np.full((len(dataset),), True)\n",
        "  for mask in masks:\n",
        "    filters &= mask\n",
        "  return filters"
      ],
      "metadata": {
        "id": "7ihUdGFVbLEm"
      },
      "execution_count": null,
      "outputs": []
    },
    {
      "cell_type": "markdown",
      "source": [
        "#### Funciones para el filtrado inicial\n",
        "_Funciones para generar máscaras o filtros. Las mismas ya fueron utilizadas en la parte 1_"
      ],
      "metadata": {
        "id": "zTnPS0wYbO7m"
      }
    },
    {
      "cell_type": "code",
      "source": [
        "\n",
        "# Funciones para generar máscaras de filtrado\n",
        "def mask_for_clean_outliers_q3(dataset, column_name):\n",
        "    \"\"\"Returns dataset removing the outlier rows from column @column_name.\"\"\"\n",
        "    interesting_col = dataset[column_name]\n",
        "    # Here we can remove the outliers from both ends, or even add more restrictions.\n",
        "    mask_outlier = (interesting_col <= (2.5 * interesting_col.quantile(.75)))\n",
        "    return mask_outlier\n",
        "\n",
        "def mask_for_clean_outliers_q3_multiple(dataset, column_names):\n",
        "  \"\"\"Returns dataset removing the outlier rows from one or multiple columns\"\"\"\n",
        "  if type(column_names) is str:\n",
        "    return mask_for_clean_outliers_q3(dataset, column_names)\n",
        "  else:\n",
        "    masks = [\n",
        "            mask_for_clean_outliers_q3(dataset, column_name)\n",
        "            for column_name in column_names\n",
        "            ]\n",
        "    return get_filter(dataset, masks)\n",
        "    \n",
        "def calc_iqr(dataset, column_name):\n",
        "  \"\"\"Returns interquartile range of a dataset\"\"\"\n",
        "  q1 = dataset[column_name].quantile(0.25)\n",
        "  q3 = dataset[column_name].quantile(0.75)\n",
        "  return q1, q3, q3 - q1\n",
        "\n",
        "def mask_for_clean_outliers(dataset, column_name):\n",
        "  \"\"\"Returns dataset removing the outlier rows from column @column_name.\n",
        "  References: \n",
        "  [1] https://towardsdatascience.com/why-1-5-in-iqr-method-of-outlier-detection-5d07fdc82097\n",
        "  [2] http://www.cs.uni.edu/~campbell/stat/normfact.html\n",
        "  \"\"\"\n",
        "  iqr = calc_iqr(dataset, column_name)\n",
        "  lower_bound = iqr[0] - 1.5 * iqr[2]  # Q1 - 1.5 * IQR \n",
        "  upper_bound = iqr[1] + 1.5 * iqr[2]  # Q3 + 1.5 * IQR\n",
        "\n",
        "  interest_col = dataset[column_name]\n",
        "  \n",
        "  mask_outlier = ((interest_col >= lower_bound) & (interest_col <= upper_bound))\n",
        "  \n",
        "  return mask_outlier\n",
        "def mask_for_remove_work_contract_type_different_to(dataset, work_contract_type):\n",
        "  return (dataset.work_contract_type == work_contract_type)\n",
        "\n",
        "def mask_for_remove_noninteresting_languages(dataset, interesting_languages):\n",
        "  return dataset.programming_language.isin(interesting_languages)\n",
        "\n",
        "def mask_for_remove_usd_salary(dataset, max_usd_salary):\n",
        "  return ~((dataset.salary_monthly_NETO < max_usd_salary) & (~(dataset.salary_in_usd.isna())))\n",
        "\n",
        "def mask_for_remove_thousand_sep_error(dataset):\n",
        "  return (dataset.salary_monthly_NETO > 1000)\n",
        "\n",
        "\n",
        "# Hacemos el primer filtrado de los datos\n",
        "def filtrado_de_datos(dataset, outlier_cols):\n",
        "  mask_preprocess = [\n",
        "    mask_for_remove_work_contract_type_different_to(dataset, \"Full-Time\"),\n",
        "    mask_for_remove_thousand_sep_error(dataset),\n",
        "    mask_for_remove_usd_salary(dataset, 10000),    \n",
        "    mask_for_clean_outliers_q3_multiple(dataset, outlier_cols),\n",
        "    ]\n",
        "\n",
        "  clean_df = preprocess_dataset(dataset, mask_preprocess)\n",
        "  \n",
        "  print(f\"Cantidad de observaciones filtradas: {len(clean_df)}\\n\")\n",
        "  print(clean_df.head())\n",
        "\n",
        "  return clean_df"
      ],
      "metadata": {
        "id": "S8_DEMAlbYpa"
      },
      "execution_count": null,
      "outputs": []
    },
    {
      "cell_type": "markdown",
      "source": [
        "### Aplicación de los filtros sobre la data"
      ],
      "metadata": {
        "id": "BZS_Mmi6bhzm"
      }
    },
    {
      "cell_type": "code",
      "source": [
        "columns_for_outlier_removal = [ 'salary_monthly_NETO', 'salary_monthly_BRUTO']\n",
        "df_clean = filtrado_de_datos(df, columns_for_outlier_removal)"
      ],
      "metadata": {
        "colab": {
          "base_uri": "https://localhost:8080/"
        },
        "id": "MHcphgEtbuD_",
        "outputId": "8fd15348-b263-498f-9065-5ee6b5446bff"
      },
      "execution_count": null,
      "outputs": [
        {
          "output_type": "stream",
          "name": "stdout",
          "text": [
            "Cantidad de observaciones filtradas: 4768\n",
            "\n",
            "  profile_gender  profile_age work_country                    work_province  \\\n",
            "0          Mujer           26    Argentina  Ciudad Autónoma de Buenos Aires   \n",
            "1         Hombre           29    Argentina                       Corrientes   \n",
            "2          Mujer           22    Argentina  Ciudad Autónoma de Buenos Aires   \n",
            "3         Hombre           39    Argentina                       Corrientes   \n",
            "4         Hombre           32    Argentina  Ciudad Autónoma de Buenos Aires   \n",
            "\n",
            "   profile_years_experience  work_years_in_company  \\\n",
            "0                       3.0                    3.0   \n",
            "1                       5.0                    2.0   \n",
            "2                       2.0                    0.0   \n",
            "3                      15.0                   15.0   \n",
            "4                       9.0                    6.0   \n",
            "\n",
            "   work_years_in_current_position  work_people_in_charge_of  \\\n",
            "0                             3.0                         0   \n",
            "1                             2.0                         4   \n",
            "2                             0.0                         0   \n",
            "3                            13.0                         5   \n",
            "4                             6.0                         0   \n",
            "\n",
            "  profile_studies_level profile_studies_level_state  ...  \\\n",
            "0         Universitario                    En curso  ...   \n",
            "1         Universitario                    En curso  ...   \n",
            "2            Secundario                  Completado  ...   \n",
            "3              Posgrado                  Incompleto  ...   \n",
            "4         Universitario                    En curso  ...   \n",
            "\n",
            "  work_has_violence_situations profile_sexual_orientation  \\\n",
            "0         En mi trabajo actual                 Homosexual   \n",
            "1                        Jamás               Heterosexual   \n",
            "2       En un trabajo anterior           Bisexual o queer   \n",
            "3         En mi trabajo actual               Heterosexual   \n",
            "4                        Jamás               Heterosexual   \n",
            "\n",
            "  profile_has_disabilities profile_has_disabilities_hiring_difficulties  \\\n",
            "0                      NaN                                          NaN   \n",
            "1                   Visual                                           No   \n",
            "2                      NaN                                           No   \n",
            "3                      NaN                                          NaN   \n",
            "4                      NaN                                          NaN   \n",
            "\n",
            "  company_employee_number                          company_main_activity  \\\n",
            "0                501-1000  Servicios / Consultoría de Software / Digital   \n",
            "1                 201-500                               Otras industrias   \n",
            "2               2001-5000                               Otras industrias   \n",
            "3                501-1000                               Otras industrias   \n",
            "4                   11-50  Servicios / Consultoría de Software / Digital   \n",
            "\n",
            "  company_recommended company_diversity_policies  \\\n",
            "0                   7                          2   \n",
            "1                   8                          9   \n",
            "2                   6                          9   \n",
            "3                   7                          6   \n",
            "4                   6                          6   \n",
            "\n",
            "                              company_extra_benefits  \\\n",
            "0  Capacitaciones y/o cursos, Comidas pagas / sub...   \n",
            "1  Horarios flexibles, Stock options / RSUs, Viát...   \n",
            "2  Clases de gimnasia online, Comidas pagas / sub...   \n",
            "3  Abono de celular, Capacitaciones y/o cursos, C...   \n",
            "4  Clases de idiomas, Horarios flexibles, Vacacio...   \n",
            "\n",
            "  company_best_companies_city  \n",
            "0                         NaN  \n",
            "1                         NaN  \n",
            "2                         NaN  \n",
            "3                         NaN  \n",
            "4                         NaN  \n",
            "\n",
            "[5 rows x 48 columns]\n"
          ]
        }
      ]
    },
    {
      "cell_type": "code",
      "source": [
        "df_clean[['profile_gender', 'salary_monthly_NETO']].groupby('profile_gender').describe()"
      ],
      "metadata": {
        "colab": {
          "base_uri": "https://localhost:8080/",
          "height": 206
        },
        "id": "_8DqsuVvbv4F",
        "outputId": "b1bbcaef-e9e3-4f0b-97e8-b38da56b45d7"
      },
      "execution_count": null,
      "outputs": [
        {
          "output_type": "execute_result",
          "data": {
            "text/plain": [
              "               salary_monthly_NETO                                       \\\n",
              "                             count          mean           std      min   \n",
              "profile_gender                                                            \n",
              "Hombre                      4029.0  86362.680705  39877.248829   2000.0   \n",
              "Mujer                        716.0  75286.996229  32447.155233  10000.0   \n",
              "Otros                         23.0  92934.782609  57206.163119  35900.0   \n",
              "\n",
              "                                                      \n",
              "                    25%      50%       75%       max  \n",
              "profile_gender                                        \n",
              "Hombre          58000.0  80000.0  105000.0  265000.0  \n",
              "Mujer           51000.0  70000.0   94125.0  230000.0  \n",
              "Otros           45000.0  81000.0  117500.0  260000.0  "
            ],
            "text/html": [
              "\n",
              "  <div id=\"df-ba038a7e-afc5-4a00-a7d6-323cb1dcc5e1\">\n",
              "    <div class=\"colab-df-container\">\n",
              "      <div>\n",
              "<style scoped>\n",
              "    .dataframe tbody tr th:only-of-type {\n",
              "        vertical-align: middle;\n",
              "    }\n",
              "\n",
              "    .dataframe tbody tr th {\n",
              "        vertical-align: top;\n",
              "    }\n",
              "\n",
              "    .dataframe thead tr th {\n",
              "        text-align: left;\n",
              "    }\n",
              "\n",
              "    .dataframe thead tr:last-of-type th {\n",
              "        text-align: right;\n",
              "    }\n",
              "</style>\n",
              "<table border=\"1\" class=\"dataframe\">\n",
              "  <thead>\n",
              "    <tr>\n",
              "      <th></th>\n",
              "      <th colspan=\"8\" halign=\"left\">salary_monthly_NETO</th>\n",
              "    </tr>\n",
              "    <tr>\n",
              "      <th></th>\n",
              "      <th>count</th>\n",
              "      <th>mean</th>\n",
              "      <th>std</th>\n",
              "      <th>min</th>\n",
              "      <th>25%</th>\n",
              "      <th>50%</th>\n",
              "      <th>75%</th>\n",
              "      <th>max</th>\n",
              "    </tr>\n",
              "    <tr>\n",
              "      <th>profile_gender</th>\n",
              "      <th></th>\n",
              "      <th></th>\n",
              "      <th></th>\n",
              "      <th></th>\n",
              "      <th></th>\n",
              "      <th></th>\n",
              "      <th></th>\n",
              "      <th></th>\n",
              "    </tr>\n",
              "  </thead>\n",
              "  <tbody>\n",
              "    <tr>\n",
              "      <th>Hombre</th>\n",
              "      <td>4029.0</td>\n",
              "      <td>86362.680705</td>\n",
              "      <td>39877.248829</td>\n",
              "      <td>2000.0</td>\n",
              "      <td>58000.0</td>\n",
              "      <td>80000.0</td>\n",
              "      <td>105000.0</td>\n",
              "      <td>265000.0</td>\n",
              "    </tr>\n",
              "    <tr>\n",
              "      <th>Mujer</th>\n",
              "      <td>716.0</td>\n",
              "      <td>75286.996229</td>\n",
              "      <td>32447.155233</td>\n",
              "      <td>10000.0</td>\n",
              "      <td>51000.0</td>\n",
              "      <td>70000.0</td>\n",
              "      <td>94125.0</td>\n",
              "      <td>230000.0</td>\n",
              "    </tr>\n",
              "    <tr>\n",
              "      <th>Otros</th>\n",
              "      <td>23.0</td>\n",
              "      <td>92934.782609</td>\n",
              "      <td>57206.163119</td>\n",
              "      <td>35900.0</td>\n",
              "      <td>45000.0</td>\n",
              "      <td>81000.0</td>\n",
              "      <td>117500.0</td>\n",
              "      <td>260000.0</td>\n",
              "    </tr>\n",
              "  </tbody>\n",
              "</table>\n",
              "</div>\n",
              "      <button class=\"colab-df-convert\" onclick=\"convertToInteractive('df-ba038a7e-afc5-4a00-a7d6-323cb1dcc5e1')\"\n",
              "              title=\"Convert this dataframe to an interactive table.\"\n",
              "              style=\"display:none;\">\n",
              "        \n",
              "  <svg xmlns=\"http://www.w3.org/2000/svg\" height=\"24px\"viewBox=\"0 0 24 24\"\n",
              "       width=\"24px\">\n",
              "    <path d=\"M0 0h24v24H0V0z\" fill=\"none\"/>\n",
              "    <path d=\"M18.56 5.44l.94 2.06.94-2.06 2.06-.94-2.06-.94-.94-2.06-.94 2.06-2.06.94zm-11 1L8.5 8.5l.94-2.06 2.06-.94-2.06-.94L8.5 2.5l-.94 2.06-2.06.94zm10 10l.94 2.06.94-2.06 2.06-.94-2.06-.94-.94-2.06-.94 2.06-2.06.94z\"/><path d=\"M17.41 7.96l-1.37-1.37c-.4-.4-.92-.59-1.43-.59-.52 0-1.04.2-1.43.59L10.3 9.45l-7.72 7.72c-.78.78-.78 2.05 0 2.83L4 21.41c.39.39.9.59 1.41.59.51 0 1.02-.2 1.41-.59l7.78-7.78 2.81-2.81c.8-.78.8-2.07 0-2.86zM5.41 20L4 18.59l7.72-7.72 1.47 1.35L5.41 20z\"/>\n",
              "  </svg>\n",
              "      </button>\n",
              "      \n",
              "  <style>\n",
              "    .colab-df-container {\n",
              "      display:flex;\n",
              "      flex-wrap:wrap;\n",
              "      gap: 12px;\n",
              "    }\n",
              "\n",
              "    .colab-df-convert {\n",
              "      background-color: #E8F0FE;\n",
              "      border: none;\n",
              "      border-radius: 50%;\n",
              "      cursor: pointer;\n",
              "      display: none;\n",
              "      fill: #1967D2;\n",
              "      height: 32px;\n",
              "      padding: 0 0 0 0;\n",
              "      width: 32px;\n",
              "    }\n",
              "\n",
              "    .colab-df-convert:hover {\n",
              "      background-color: #E2EBFA;\n",
              "      box-shadow: 0px 1px 2px rgba(60, 64, 67, 0.3), 0px 1px 3px 1px rgba(60, 64, 67, 0.15);\n",
              "      fill: #174EA6;\n",
              "    }\n",
              "\n",
              "    [theme=dark] .colab-df-convert {\n",
              "      background-color: #3B4455;\n",
              "      fill: #D2E3FC;\n",
              "    }\n",
              "\n",
              "    [theme=dark] .colab-df-convert:hover {\n",
              "      background-color: #434B5C;\n",
              "      box-shadow: 0px 1px 3px 1px rgba(0, 0, 0, 0.15);\n",
              "      filter: drop-shadow(0px 1px 2px rgba(0, 0, 0, 0.3));\n",
              "      fill: #FFFFFF;\n",
              "    }\n",
              "  </style>\n",
              "\n",
              "      <script>\n",
              "        const buttonEl =\n",
              "          document.querySelector('#df-ba038a7e-afc5-4a00-a7d6-323cb1dcc5e1 button.colab-df-convert');\n",
              "        buttonEl.style.display =\n",
              "          google.colab.kernel.accessAllowed ? 'block' : 'none';\n",
              "\n",
              "        async function convertToInteractive(key) {\n",
              "          const element = document.querySelector('#df-ba038a7e-afc5-4a00-a7d6-323cb1dcc5e1');\n",
              "          const dataTable =\n",
              "            await google.colab.kernel.invokeFunction('convertToInteractive',\n",
              "                                                     [key], {});\n",
              "          if (!dataTable) return;\n",
              "\n",
              "          const docLinkHtml = 'Like what you see? Visit the ' +\n",
              "            '<a target=\"_blank\" href=https://colab.research.google.com/notebooks/data_table.ipynb>data table notebook</a>'\n",
              "            + ' to learn more about interactive tables.';\n",
              "          element.innerHTML = '';\n",
              "          dataTable['output_type'] = 'display_data';\n",
              "          await google.colab.output.renderOutput(dataTable, element);\n",
              "          const docLink = document.createElement('div');\n",
              "          docLink.innerHTML = docLinkHtml;\n",
              "          element.appendChild(docLink);\n",
              "        }\n",
              "      </script>\n",
              "    </div>\n",
              "  </div>\n",
              "  "
            ]
          },
          "metadata": {},
          "execution_count": 11
        }
      ]
    },
    {
      "cell_type": "code",
      "source": [
        "alpha = 0.05"
      ],
      "metadata": {
        "id": "sP8hj1uEcUC5"
      },
      "execution_count": null,
      "outputs": []
    },
    {
      "cell_type": "code",
      "source": [
        "is_man = df.profile_gender == 'Hombre'\n",
        "\n",
        "groupA = df_clean[is_man].salary_monthly_NETO\n",
        "groupB = df_clean[~is_man].salary_monthly_NETO"
      ],
      "metadata": {
        "colab": {
          "base_uri": "https://localhost:8080/"
        },
        "id": "XBYJnIwpcVrJ",
        "outputId": "463ae0d6-af43-4ee6-d638-68c5b8c76296"
      },
      "execution_count": null,
      "outputs": [
        {
          "output_type": "stream",
          "name": "stderr",
          "text": [
            "/usr/local/lib/python3.7/dist-packages/ipykernel_launcher.py:3: UserWarning: Boolean Series key will be reindexed to match DataFrame index.\n",
            "  This is separate from the ipykernel package so we can avoid doing imports until\n",
            "/usr/local/lib/python3.7/dist-packages/ipykernel_launcher.py:4: UserWarning: Boolean Series key will be reindexed to match DataFrame index.\n",
            "  after removing the cwd from sys.path.\n"
          ]
        }
      ]
    },
    {
      "cell_type": "markdown",
      "source": [
        "### Calculo"
      ],
      "metadata": {
        "id": "0CNEghlVck-4"
      }
    },
    {
      "cell_type": "markdown",
      "source": [
        "#### Estimación puntual"
      ],
      "metadata": {
        "id": "U3ICRazJdNem"
      }
    },
    {
      "cell_type": "markdown",
      "source": [
        "Calculamos la media muestral de `salary_difference_men_others`, dado que la diferencia entre las medias es igual a la media de las diferencias.\n"
      ],
      "metadata": {
        "id": "kA7s2C2mdUUQ"
      }
    },
    {
      "cell_type": "code",
      "source": [
        "salary_difference_men_others_mean = groupA.mean() - groupB.mean() # Estimador puntual del parámetro media poblacional\n",
        "print(\"{:.2f}\".format(salary_difference_men_others_mean) + \" es la media muestral correspondiente a la estimación de la diferencia entre la media del salario neto de los hombres y el salario neto de el resto de géneros.\")"
      ],
      "metadata": {
        "colab": {
          "base_uri": "https://localhost:8080/"
        },
        "id": "dDATiaEYdZI9",
        "outputId": "5ee78b58-6e0c-4697-975f-70a58a73caef"
      },
      "execution_count": null,
      "outputs": [
        {
          "output_type": "stream",
          "name": "stdout",
          "text": [
            "10526.43 es la media muestral correspondiente a la estimación de la diferencia entre la media del salario neto de los hombres y el salario neto de el resto de géneros.\n"
          ]
        }
      ]
    },
    {
      "cell_type": "markdown",
      "source": [
        "#### Estimación por intervalos"
      ],
      "metadata": {
        "id": "RrfyZ6EmeDbo"
      }
    },
    {
      "cell_type": "markdown",
      "source": [
        "Calculamos los estadisticos necesarios para construir los limites del intervalo."
      ],
      "metadata": {
        "id": "EcSZVIQfeSRm"
      }
    },
    {
      "cell_type": "code",
      "source": [
        "mean_A = groupA.mean() # Estadístico media muestral del Grupo A\n",
        "mean_B = groupB.mean() # Estadístico media muestral del Grupo B\n",
        "var_A = groupA.var() # Estadístico varianza muestral del Grupo A\n",
        "var_B = groupB.var() # Estadístico varianza muestral del Grupo B\n",
        "n_A = len(groupA) # Tamaño de muestra del Grupo A\n",
        "n_B = len(groupB) # Tamaño de muestra del Grupo B\n",
        "\n",
        "welch_correction = ((n_B-1)*(var_A/n_A) - (n_A-1)*(var_B/n_B))**2 / ( (n_B-1)*(var_A/n_A)**2 + (n_A-1)*(var_B/n_B)**2)\n",
        "v = n_A+n_B-2-welch_correction # Grados de libertad\n",
        "\n",
        "t_0975 = st.t.ppf(1-alpha/2, v) # Valor T para confianza de 0.975 y v grados de libertad\n",
        "print(\"Media muestral Grupo A: {:.2f}\".format(mean_A))\n",
        "print(\"Media muestral Grupo B: {:.2f}\".format(mean_B))\n",
        "print(\"Varianza Grupo A: {:.2f}\".format(var_A))\n",
        "print(\"Varianza Grupo B: {:.2f}\".format(var_B))\n",
        "print(\"Tamaño muestra Grupo A: {:.2f}\".format(n_A))\n",
        "print(\"Tamaño muestra Grupo B: {:.2f}\".format(n_B))\n",
        "print(\"Grados de libertad: {:.2f}\".format(v))\n",
        "print(\"Valor T: {:.2f}\".format(t_0975))"
      ],
      "metadata": {
        "colab": {
          "base_uri": "https://localhost:8080/"
        },
        "id": "WG_3TGDpeWdW",
        "outputId": "5007b205-591f-4436-fb0f-31c5b527e6e5"
      },
      "execution_count": null,
      "outputs": [
        {
          "output_type": "stream",
          "name": "stdout",
          "text": [
            "Media muestral Grupo A: 86362.68\n",
            "Media muestral Grupo B: 75836.25\n",
            "Varianza Grupo A: 1590194974.20\n",
            "Varianza Grupo B: 1126966201.61\n",
            "Tamaño muestra Grupo A: 4029.00\n",
            "Tamaño muestra Grupo B: 739.00\n",
            "Grados de libertad: 1155.26\n",
            "Valor T: 1.96\n"
          ]
        }
      ]
    },
    {
      "cell_type": "markdown",
      "source": [
        "Calculamos los límites inferior y superior, y construimos el intervalo de confianza."
      ],
      "metadata": {
        "id": "RECKoShFeeqg"
      }
    },
    {
      "cell_type": "code",
      "source": [
        "sqrt_var_n = sqrt(var_A/n_A+var_B/n_B)\n",
        "\n",
        "inf_limit = (mean_A-mean_B) - t_0975*sqrt_var_n\n",
        "sup_limit = (mean_A-mean_B) + t_0975*sqrt_var_n\n",
        "\n",
        "print(\"Con un nivel de confianza de \" + str(1-alpha) + \" el intervalo de confianza que estima la diferencia entre la media del salario de\\n\" \n",
        "\"hombres y la media del salario de muejeres es: (${:.2f}\".format(inf_limit)+ \", \" + \"${:.2f}\".format(sup_limit) + \")\")"
      ],
      "metadata": {
        "colab": {
          "base_uri": "https://localhost:8080/"
        },
        "id": "2saBKI1UekTm",
        "outputId": "e1703a70-b738-4cca-9e00-fc2c0905ea0e"
      },
      "execution_count": null,
      "outputs": [
        {
          "output_type": "stream",
          "name": "stdout",
          "text": [
            "Con un nivel de confianza de 0.95 el intervalo de confianza que estima la diferencia entre la media del salario de\n",
            "hombres y la media del salario de muejeres es: ($7808.01, $13244.85)\n"
          ]
        }
      ]
    },
    {
      "cell_type": "markdown",
      "source": [
        "## Resolución ejercicio 2\n"
      ],
      "metadata": {
        "id": "DQqZePI6KiBW"
      }
    },
    {
      "cell_type": "markdown",
      "source": [
        "### Formalización"
      ],
      "metadata": {
        "id": "gUqPayY3MRPh"
      }
    },
    {
      "cell_type": "markdown",
      "source": [
        "**Hipotesis nula (H0):** El salario medio de los hombres es igual al salario medio del resto de géneros.\n",
        "\n",
        "**Estadístico:** t con v grados de libertad y distribución t de student![estadistico.png](data:image/png;base64,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)\n",
        "\n",
        "**Regla de decisión**: Definido el nivel de significancia en 0.05, se rechazará la hipótesis nula si el p-valor no supera el umbral de significancia. \n"
      ],
      "metadata": {
        "id": "6m5Ap-eaMU0g"
      }
    },
    {
      "cell_type": "markdown",
      "source": [
        "### P-valor"
      ],
      "metadata": {
        "id": "LP67QIoEQ7wp"
      }
    },
    {
      "cell_type": "code",
      "source": [
        "st.ttest_ind(groupA, groupB, 0, False)"
      ],
      "metadata": {
        "colab": {
          "base_uri": "https://localhost:8080/"
        },
        "id": "01Z0F_nsRSwS",
        "outputId": "ce8e1f3f-f2b1-42f9-8bcc-cd5b817fc324"
      },
      "execution_count": null,
      "outputs": [
        {
          "output_type": "execute_result",
          "data": {
            "text/plain": [
              "Ttest_indResult(statistic=7.597438801216719, pvalue=6.217970550887654e-14)"
            ]
          },
          "metadata": {},
          "execution_count": 17
        }
      ]
    },
    {
      "cell_type": "markdown",
      "source": [
        "Dado que el p-valor es menor al nivel de significancia fijado en la formulación del test, se decide rechazar la hipótesis nula concluyendo que el salario medio de los hombres es distinto al salario medio del resto de géneros"
      ],
      "metadata": {
        "id": "OoZrUkf1Txrz"
      }
    },
    {
      "cell_type": "markdown",
      "source": [
        "### Potencia del test"
      ],
      "metadata": {
        "id": "sItJDMZnXFUo"
      }
    },
    {
      "cell_type": "code",
      "metadata": {
        "id": "_IiqGfo4t6Db",
        "colab": {
          "base_uri": "https://localhost:8080/"
        },
        "outputId": "719c5a06-628a-4da2-af61-7ac48e46e618"
      },
      "source": [
        "from statsmodels.stats.power import tt_ind_solve_power"
      ],
      "execution_count": null,
      "outputs": [
        {
          "output_type": "stream",
          "name": "stderr",
          "text": [
            "/usr/local/lib/python3.7/dist-packages/statsmodels/tools/_testing.py:19: FutureWarning: pandas.util.testing is deprecated. Use the functions in the public API at pandas.testing instead.\n",
            "  import pandas.util.testing as tm\n"
          ]
        }
      ]
    },
    {
      "cell_type": "code",
      "metadata": {
        "id": "LUQ7MA2Apj9x"
      },
      "source": [
        "effect_size = (groupA.mean() - groupB.mean()) / groupB.std()\n",
        "# nobs1=None  - What we want to know\n",
        "alpha = 0.05\n",
        "ratio = len(groupB) / len(groupA)"
      ],
      "execution_count": null,
      "outputs": []
    },
    {
      "cell_type": "code",
      "metadata": {
        "id": "cvHcpY-3ty8Q",
        "colab": {
          "base_uri": "https://localhost:8080/"
        },
        "outputId": "24b3a244-3208-4a9e-f8aa-db36f38d1775"
      },
      "source": [
        "\n",
        "p_8 = tt_ind_solve_power(effect_size=effect_size, alpha=alpha, power=0.8, ratio=ratio)\n",
        "p_9 = tt_ind_solve_power(effect_size=effect_size, alpha=alpha, power=0.9, ratio=ratio)\n",
        "p_95 = tt_ind_solve_power(effect_size=effect_size, alpha=alpha, power=0.95, ratio=ratio)\n",
        "\n",
        "print(\"Tamaño de muestra para potencia 0.8 y significancia 0.05:  {:.2f}\".format(p_8))\n",
        "print(\"Tamaño de muestra para potencia 0.9 y significancia 0.05: {:.2f}\".format(p_9))\n",
        "print(\"Tamaño de muestra para potencia 0.95 y significancia 0.05: {:.2f}\".format(p_95))"
      ],
      "execution_count": null,
      "outputs": [
        {
          "output_type": "stream",
          "name": "stdout",
          "text": [
            "Tamaño de muestra para potencia 0.8 y significancia 0.05:  516.68\n",
            "Tamaño de muestra para potencia 0.9 y significancia 0.05: 691.13\n",
            "Tamaño de muestra para potencia 0.95 y significancia 0.05: 854.35\n"
          ]
        }
      ]
    },
    {
      "cell_type": "markdown",
      "source": [
        "La potencia del test es la probabilidad rechazar la hipótesis nula cuando esta es falsa, es decir, la probabilidad de no cometer el error tipo 2. \n",
        "\n",
        "A partir de los tamaños de muestras calculados para las diferentes potencias, concluimos que el tamaño de muestra es lo suficientemente grande. Sin embargo, esta conclusión no implica que la muestra realizada sea significativa de la población, definiendo a la población como el conjunto de profesionales que viven en Argentina y trabajan en el sector IT. Al desconocer el criterio que se utilizó para difundir la encuesta, no es posible afirmar que la muestra es realmente significativa. \n",
        "En caso de que la muestra sea significativa, se podría analizar la diferencia del salario medio entre hombres y otros géneros para una empresa en particular y determinar si se encuentra dentro de intervalo de confianza calculado. Si la diferencia supera el limite superior, entonces esto indicaría que la empresa favorece a hombres respecto a otros géneros en comparación a la diferencia a nivel poblacional. "
      ],
      "metadata": {
        "id": "qnBKI_3YYBQP"
      }
    },
    {
      "cell_type": "markdown",
      "source": [
        "## Resolución ejercicio 3"
      ],
      "metadata": {
        "id": "A9xXVsGlKmho"
      }
    },
    {
      "cell_type": "markdown",
      "source": [
        "Reimportamos funciones y módulos necesarios de la Parte 1"
      ],
      "metadata": {
        "id": "oMCkQUh0N7kQ"
      }
    }
  ]
}