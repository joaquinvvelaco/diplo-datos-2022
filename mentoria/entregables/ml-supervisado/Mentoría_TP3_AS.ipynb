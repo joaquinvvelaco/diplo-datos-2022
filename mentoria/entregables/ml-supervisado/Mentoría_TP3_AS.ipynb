{
 "cells": [
  {
   "cell_type": "markdown",
   "metadata": {},
   "source": [
    "# Selección de cripto activos para una cartera de inversión"
   ]
  },
  {
   "cell_type": "markdown",
   "metadata": {},
   "source": [
    "![picture](https://drive.google.com/uc?export=view&id=1ihM3JEKP-XPaoX9b5bwymu_IF4ntTlz-)"
   ]
  },
  {
   "cell_type": "markdown",
   "metadata": {},
   "source": [
    "# Trabajo Práctico 3 -  Aprendizaje Supervisado"
   ]
  },
  {
   "cell_type": "markdown",
   "metadata": {},
   "source": [
    "# Introducción\n",
    "\n",
    "Una tarea fundamental en el modelado financiero es la predicción del comportamiento de los precios en un futuro cercano. Usando la serie de precios histórica de los activos como datos de entrenamiento, deseamos predecir si el precio subirá o no, y en qué medida, es decir, nos interesa también el rendimiento.\n",
    "\n",
    "La predicción de retornos de criptoactivos es un gran desafío para la comunidad de aprendizaje automático debido a la alta volatilidad de los activos, la manipulación del mercado y la naturaleza no estacionaria de los datos, entre otras cuestiones.  \n",
    "\n",
    "En este práctico aplicaremos algunas técnicas de aprendizaje automático supervisado para predecir el movimiento de activos, a partir de los features que hemos trabajado en el práctico anterior. Exploraremos modelos simples de regresión y clasificación. Para validar los modelos procedemos a evaluar su bondad de ajuste, es decir, que \"tan bueno\" es el poder predictivo del modelo y comparar su desempeño.\n",
    "\n",
    "📌 **Conjunto de Entrenamiento y Test**\n",
    "\n",
    "Para entrenar modelos de ML y seleccionar el más adecuado, debemos particionar los datos en conjuntos de entrenamiento y test (o entrenamiento, validación y test). Si bien la práctica más habitual es seleccionar estos conjuntos al azar, esta metodología no es conveniente cuando trabajamos con series de tiempo, ya que romper la estructura de los datos significa romper la autocorrelación, que es lo que da sentido al análisis. Frente a esto, una posibilidad es realizar la división de datos a partir del procedimiento [Walk-Forward Validation](https://machinelearningmastery.com/backtest-machine-learning-models-time-series-forecasting/), otra es implementar lo que se conoce como [timeSeriesSplit](https://scikit-learn.org/stable/modules/cross_validation.html#time-series-split).\n",
    "\n",
    "¡Los invito a indagar sobre estas metodologías!\n",
    "\n",
    "\n",
    "📌 **Variables Predictoras**\n",
    "\n",
    "Los predictores son datos que consideramos relevantes para el comportamiento del mercado. En nuestro caso, trabajaremos con los indicadores técnicos calculados en el trabajo práctico anterior y algunos que sumaremos al análisis, pero estos pueden ser muy diversos, como datos de sentimiento, datos de amplitud, datos básicos, gubernamentales, etc., que nos ayudarán a hacer nuestras predicciones. \n",
    "\n",
    "\n",
    "\n",
    "📌 **Modelo Baseline**\n",
    "\n",
    "Establecer un baseline es esencial para cualquier problema de predicción. Este modelo nos brinda un punto de comparación, nos da una idea de cuan bien otros modelos rindieron en el problema en cuestión.\n",
    "\n",
    "Si la performance de un modelo no alcanza o es similiar a la del baseline, entonces debemos seguir trabajando para mejorar el modelo u optar por algún otro. Nuestro baseline debe ser fácil de implementar y naive. \n",
    "\n",
    "\n",
    "Algunas opciones simples para baseline: [link](https://medium.com/analytics-vidhya/benchmarking-methods-for-deep-learning-based-time-series-forecast-ec45f78b61e2)."
   ]
  },
  {
   "cell_type": "code",
   "execution_count": null,
   "metadata": {},
   "outputs": [],
   "source": []
  },
  {
   "cell_type": "markdown",
   "metadata": {},
   "source": [
    "# 📖 ¡Actividades!\n",
    "\n",
    "En este práctico evaluaremos el potencial de modelos predictivos simples sobre algunos activos. Esta será la base para construir una canasta de activos con riesgo controlado. \n",
    "\n",
    "**Objetivo: predecir el movimiento del precio de cada activo para los próximos n días (tomaremos n=1, n=7)**\n",
    "\n",
    "## Parte 0 - Feature Engineer\n",
    "\n",
    "Los invito a explorar y agregar otras características además de las trabajadas anteriormente. Como en el práctico pasado, pueden usar la librería talib o calcularlos ustedes.\n",
    "\n",
    "- [Indicadores técnicos](https://coinmarketcap.com/alexandria/article/technical-analysis-101-the-best-technical-indicators-for-crypto-and-stocks)\n",
    "- [Indicadores técnicos en python](https://towardsdatascience.com/building-a-comprehensive-set-of-technical-indicators-in-python-for-quantitative-trading-8d98751b5fb)\n",
    "\n",
    "## Parte I - Clasificación\n",
    "\n",
    "Por ahora nos concentraremos en predecir si el precio del activo subirá o bajará (es decir, si el retorno a n días será positivo o negativo). Para ello entrenaremos algunos modelos de clasificación.\n",
    "\n",
    "- DecisionTreeClassifier\n",
    "- RandomForestClassifier\n",
    "- XGBClassifier\n",
    "\n",
    "En este caso, podemos definir nuestro target como 1 o 0:\n",
    "\n",
    "- Si el rendimiento a n días fue positivo el target tomará el valor 1.\n",
    "- Si el rendimiento a n días fue negativo o cero el target tomará el valor 0.\n",
    "\n",
    "Utilicen métricas adecuadas para la evaluación de los modelos (accuracy, recall, precision, etc) \n",
    "\n",
    "\n",
    "## Parte II - Regresión\n",
    "\n",
    "Ahora nuestro objetivo es implementar modelos sobre los activos para predecir su tasa de cambio (ya sea respecto al precio open o close). Consideren los modelos de regresión:\n",
    "\n",
    "- Desicion tree\n",
    "- Randon Forest\n",
    "- XGBoost\n",
    "\n",
    "\n",
    "Evalúen los resultados, con algunas métricas útiles, tales como Error Cuadrático Medio (RMSE) y el Error Absoluto Medio (MAE). ¿Qué pueden decir?\n",
    "\n",
    "\n",
    "### ¡Para tener en cuenta!\n",
    "\n",
    "- Para los modelos de regresión y clasificación elijan un modelo baseline.\n",
    "- Definir periodos de entrenamiento y test: utilizar librerías adecuadas para series de tiempo.\n",
    "- Dado el periodo de entrenamiento, chequeen si los datos están balaceados.  \n",
    "- Analicen la necesidad de estandarizar los datos, según los modelos empleados.\n",
    "- Ajuste de hiperparámetros de los modelos: dado que los parámetros pueden tomar valores en un amplio rango es recomendable uilizar GridSearchCV. \n",
    "\n",
    "\n",
    "\n",
    "## Opcional - Predicción usando Long short-term memory (LSTM)\n",
    "\n",
    "Las redes de este tipo son adecuadas para clasificar, procesar y hacer predicciones basadas en datos de series temporales, ya que pueden almacenar información pasada. Esto es importante en nuestro caso porque el precio anterior de una acción es crucial para predecir su precio futuro.\n",
    "\n",
    "Comparen la performance de los modelos anteriores (regresión y/o clasificación) con una red neuronal recurrente (LSTM). "
   ]
  },
  {
   "cell_type": "markdown",
   "metadata": {},
   "source": [
    "# Fecha de entrega\n",
    "\n",
    "- __Versión preliminar: 29/7__ "
   ]
  },
  {
   "cell_type": "markdown",
   "metadata": {},
   "source": [
    "# Condiciones de entrega\n",
    "\n",
    "Realizar un informe en el cual se presenten los resultados y conclusiones del análisis desarrollado. El mismo debe estar pensado para un público técnico pero que desconoce los aspectos propios del problema a resolver. Dicho informe puede ser un notebook, a condición de que en el mismo se efectúe un análisis escrito suficientemente detallado de los resultados. "
   ]
  },
  {
   "cell_type": "markdown",
   "metadata": {},
   "source": [
    "# Resolución"
   ]
  },
  {
   "cell_type": "markdown",
   "metadata": {
    "id": "uFyAdGmulDWj"
   },
   "source": [
    "## Inicialización\n"
   ]
  },
  {
   "cell_type": "markdown",
   "metadata": {
    "id": "OYB3ccY9lV02"
   },
   "source": [
    "### Importar librerías"
   ]
  },
  {
   "cell_type": "code",
   "execution_count": 2,
   "metadata": {
    "id": "6rLNe6yploMb"
   },
   "outputs": [],
   "source": [
    "import io\n",
    "import matplotlib\n",
    "import matplotlib.pyplot as plt\n",
    "import numpy as np\n",
    "import pandas as pd\n",
    "import seaborn\n",
    "import datetime\n",
    "import time\n",
    "import os\n",
    "import talib as ta\n",
    "from sklearn.preprocessing import StandardScaler\n",
    "from sklearn.model_selection import TimeSeriesSplit\n",
    "from sklearn.metrics import accuracy_score, confusion_matrix\n",
    "from sklearn.metrics import precision_score, recall_score, f1_score\n",
    "from sklearn.tree import DecisionTreeClassifier\n",
    "from sklearn.ensemble import RandomForestClassifier\n",
    "from sklearn.model_selection import GridSearchCV\n",
    "import xgboost as xgb\n",
    "import itertools"
   ]
  },
  {
   "cell_type": "markdown",
   "metadata": {
    "id": "PCn-Nxn0lcl5"
   },
   "source": [
    "### Cargar datasets"
   ]
  },
  {
   "cell_type": "code",
   "execution_count": 3,
   "metadata": {
    "id": "HcRpNYKemOJ4"
   },
   "outputs": [],
   "source": [
    "pairs = [\"AAVEUSDT\", \"ADAUSDT\", \"AXSUSDT\", \"BCHUSDT\", \"BNBUSDT\", \"BTCUSDT\", \"COMPUSDT\", \"DASHUSDT\", \n",
    "          \"DOGEUSDT\", \"DOTUSDT\", \"EOSUSDT\", \"ETCUSDT\", \"ETHUSDT\", \"LINKUSDT\", \"LTCUSDT\", \"LUNAUSDT\", \"NEOUSDT\", \"XMRUSDT\", \"XRPUSDT\"]\n",
    "interesting_pairs = [\"BTCUSDT\", \"ETHUSDT\", \"ADAUSDT\"]\n",
    "\n",
    "def add_pair_to_dictionary(dictionary, pair):\n",
    "  dictionary[pair] = pd.read_csv(f\"https://raw.githubusercontent.com/joaquinvvelaco/diplo-datos-2022/main/mentoria/entregables/ayc/output/{pair}_features.csv\", index_col=0, parse_dates=True, dayfirst= True)\n",
    "\n",
    "def get_dataframes():\n",
    "  dataframes = dict()\n",
    "  \n",
    "  for pair in pairs:\n",
    "    add_pair_to_dictionary(dataframes, pair)\n",
    "    \n",
    "  return dataframes\n",
    "\n",
    "raw_dataframes = get_dataframes() # No agregar columnas en estos dataframes. La idea es mantener los dataframes originales.\n",
    "dataframes = raw_dataframes.copy() # Cualquier modificación de algún dataframe, realizarlo en estos.\n",
    "sample_dataframe = dataframes[\"BTCUSDT\"]"
   ]
  },
  {
   "cell_type": "code",
   "execution_count": 4,
   "metadata": {
    "colab": {
     "base_uri": "https://localhost:8080/"
    },
    "id": "rG-4XE-vvIhy",
    "outputId": "2067d87e-9007-45c4-e2dc-2890d9ab94e1"
   },
   "outputs": [
    {
     "name": "stdout",
     "output_type": "stream",
     "text": [
      "19\n"
     ]
    }
   ],
   "source": [
    "print(len(pairs))"
   ]
  },
  {
   "cell_type": "markdown",
   "metadata": {
    "id": "-91rkqfGm3cN"
   },
   "source": [
    "## Funciones\n",
    "Definimos un conjunto de funciones comunes para todos los ejercicios."
   ]
  },
  {
   "cell_type": "markdown",
   "metadata": {
    "id": "DKxpNfZCnEjQ"
   },
   "source": [
    "### Funciones compuestas"
   ]
  },
  {
   "cell_type": "code",
   "execution_count": 4,
   "metadata": {
    "id": "9AAF302mnIa8"
   },
   "outputs": [],
   "source": [
    "def do(func, *args):\n",
    "  for pair in pairs:\n",
    "    func(pair, *args)  \n",
    "\n",
    "\n",
    "def do_interesting(func, *args):\n",
    "  for pair in interesting_pairs:\n",
    "    func(pair, *args)"
   ]
  },
  {
   "cell_type": "markdown",
   "metadata": {
    "id": "VCTT7xoOt-66"
   },
   "source": [
    "### Funciones para graficar"
   ]
  },
  {
   "cell_type": "code",
   "execution_count": 5,
   "metadata": {
    "id": "4gCobLQ1uArz"
   },
   "outputs": [],
   "source": [
    "def plot_multiple_temporal_serie(dataframe, variables, title, xlabel, ylabel, legends=None, together=False):\n",
    "  if(not together):\n",
    "    plt.figure(figsize=(20, 6))\n",
    "\n",
    "  for variable in variables:\n",
    "    seaborn.lineplot(x=dataframe.index, y=variable, data=dataframe)\n",
    "\n",
    "  plt.suptitle(f\"{title}\")\n",
    "  plt.xlabel(xlabel)\n",
    "  plt.ylabel(ylabel)\n",
    "\n",
    "  if(legends != None):\n",
    "    plt.legend(title='Serie', loc='upper left', labels=legends)\n",
    "\n",
    "def plot_temporal_serie(dataframe, variable, together=False, title=None, with_trendline=False, add=None):\n",
    "  if(not together):\n",
    "    plt.figure(figsize=(20, 6))\n",
    "  \n",
    "  if(title==None):\n",
    "    title = f\"Serie temporal\"\n",
    "  \n",
    "  seaborn.lineplot(x=dataframe.index, y=variable, data=dataframe).set(\n",
    "      xlabel=\"Fecha\", \n",
    "      ylabel=variable,\n",
    "      title=title\n",
    "  )\n",
    "  if(with_trendline):\n",
    "    seaborn.regplot(x=dataframe.index.map(pd.Timestamp.toordinal), y=variable, data=dataframe, ci=None)\n",
    "  \n",
    "  if(add!=None):\n",
    "    seaborn.lineplot(x=dataframe.index, y=add, data=dataframe)"
   ]
  },
  {
   "cell_type": "markdown",
   "metadata": {},
   "source": [
    "## Parte 0"
   ]
  },
  {
   "cell_type": "markdown",
   "metadata": {},
   "source": [
    "### Nuevas features"
   ]
  },
  {
   "cell_type": "code",
   "execution_count": null,
   "metadata": {},
   "outputs": [],
   "source": [
    "def add_bollinger_bands(pair):\n",
    "    dataframe = dataframes[pair]\n",
    "    dataframe['15MA'] = dataframe.groupby('symbol')['close'].transform(lambda x: x.rolling(window=15).mean())\n",
    "    dataframe['SD'] = dataframe.groupby('symbol')['close'].transform(lambda x: x.rolling(window=15).std())\n",
    "    dataframe['upperband'] = dataframe['15MA'] + 2*dataframe['SD']\n",
    "    dataframe['lowerband'] = dataframe['15MA'] - 2*dataframe['SD']\n",
    "\n",
    "#do(add_stochastic_oscillator)"
   ]
  },
  {
   "cell_type": "markdown",
   "metadata": {},
   "source": [
    "## Parte 1"
   ]
  },
  {
   "cell_type": "markdown",
   "metadata": {},
   "source": [
    "### Preprocesamiento"
   ]
  },
  {
   "cell_type": "code",
   "execution_count": 6,
   "metadata": {},
   "outputs": [
    {
     "name": "stdout",
     "output_type": "stream",
     "text": [
      "<class 'pandas.core.frame.DataFrame'>\n",
      "DatetimeIndex: 7307 entries, 2019-01-01 00:00:00 to 2022-05-05 12:00:00\n",
      "Data columns (total 16 columns):\n",
      " #   Column                Non-Null Count  Dtype  \n",
      "---  ------                --------------  -----  \n",
      " 0   open                  7307 non-null   float64\n",
      " 1   high                  7307 non-null   float64\n",
      " 2   low                   7307 non-null   float64\n",
      " 3   close                 7307 non-null   float64\n",
      " 4   volume                7307 non-null   float64\n",
      " 5   exchange_rate_open    7306 non-null   float64\n",
      " 6   exchange_rate_high    7306 non-null   float64\n",
      " 7   exchange_rate_low     7306 non-null   float64\n",
      " 8   exchange_rate_close   7306 non-null   float64\n",
      " 9   exchange_rate_volume  7306 non-null   float64\n",
      " 10  moving_average_close  7140 non-null   float64\n",
      " 11  rsi                   7293 non-null   float64\n",
      " 12  adx                   7280 non-null   float64\n",
      " 13  macd                  7274 non-null   float64\n",
      " 14  macd_signal           7274 non-null   float64\n",
      " 15  macd_hist             7274 non-null   float64\n",
      "dtypes: float64(16)\n",
      "memory usage: 970.5 KB\n"
     ]
    }
   ],
   "source": [
    "sample_dataframe.info()"
   ]
  },
  {
   "cell_type": "markdown",
   "metadata": {},
   "source": [
    "Al momento de generar las features, se agregaron valores NaN a cada dataframe. Esto se debe a que el cálculo de la mayoría de las features son móviles, por lo que no es posible calcularlos para los primeros valores de las series. A partir de esto, y considerando que en el análisis exploratorio identifiamos que no existía un comportamiento estacional en las series, decidimos \"dropear\" los primeros valores de las series. "
   ]
  },
  {
   "cell_type": "code",
   "execution_count": 7,
   "metadata": {},
   "outputs": [],
   "source": [
    "def drop_na(pair):\n",
    "    dataframes[pair] = dataframes[pair].dropna()\n",
    "\n",
    "do(drop_na)"
   ]
  },
  {
   "cell_type": "code",
   "execution_count": 8,
   "metadata": {},
   "outputs": [
    {
     "name": "stdout",
     "output_type": "stream",
     "text": [
      "<class 'pandas.core.frame.DataFrame'>\n",
      "DatetimeIndex: 3234 entries, 2020-11-11 20:00:00 to 2022-05-05 12:00:00\n",
      "Data columns (total 16 columns):\n",
      " #   Column                Non-Null Count  Dtype  \n",
      "---  ------                --------------  -----  \n",
      " 0   open                  3234 non-null   float64\n",
      " 1   high                  3234 non-null   float64\n",
      " 2   low                   3234 non-null   float64\n",
      " 3   close                 3234 non-null   float64\n",
      " 4   volume                3234 non-null   float64\n",
      " 5   exchange_rate_open    3234 non-null   float64\n",
      " 6   exchange_rate_high    3234 non-null   float64\n",
      " 7   exchange_rate_low     3234 non-null   float64\n",
      " 8   exchange_rate_close   3234 non-null   float64\n",
      " 9   exchange_rate_volume  3234 non-null   float64\n",
      " 10  moving_average_close  3234 non-null   float64\n",
      " 11  rsi                   3234 non-null   float64\n",
      " 12  adx                   3234 non-null   float64\n",
      " 13  macd                  3234 non-null   float64\n",
      " 14  macd_signal           3234 non-null   float64\n",
      " 15  macd_hist             3234 non-null   float64\n",
      "dtypes: float64(16)\n",
      "memory usage: 429.5 KB\n"
     ]
    }
   ],
   "source": [
    "dataframes[\"AAVEUSDT\"].info()"
   ]
  },
  {
   "cell_type": "code",
   "execution_count": 9,
   "metadata": {},
   "outputs": [
    {
     "name": "stdout",
     "output_type": "stream",
     "text": [
      "date\n",
      "2022-05-04 20:00:00    39773.33\n",
      "2022-05-05 00:00:00    39549.28\n",
      "2022-05-05 04:00:00    39513.66\n",
      "2022-05-05 08:00:00    38209.00\n",
      "2022-05-05 12:00:00    38209.00\n",
      "Name: close, dtype: float64\n",
      "\n",
      "\n",
      "date\n",
      "2022-05-04 20:00:00    39549.28\n",
      "2022-05-05 00:00:00    39513.66\n",
      "2022-05-05 04:00:00    38209.00\n",
      "2022-05-05 08:00:00    38209.00\n",
      "2022-05-05 12:00:00    38209.00\n",
      "Name: close, dtype: float64\n"
     ]
    },
    {
     "data": {
      "text/plain": [
       "date\n",
       "2022-05-04 20:00:00    0\n",
       "2022-05-05 00:00:00    0\n",
       "2022-05-05 04:00:00    0\n",
       "2022-05-05 08:00:00    0\n",
       "2022-05-05 12:00:00    0\n",
       "Name: close, dtype: int32"
      ]
     },
     "execution_count": 9,
     "metadata": {},
     "output_type": "execute_result"
    }
   ],
   "source": [
    "dataframe = dataframes[\"BTCUSDT\"]\n",
    "\n",
    "dataframe_offset = dataframe.shift(-1)\n",
    "\n",
    "print(dataframe.close.tail())\n",
    "print(\"\\n\")\n",
    "print(dataframe_offset.close.tail().fillna(method=\"ffill\"))\n",
    "\n",
    "\n",
    "(dataframe.close.tail()<dataframe_offset.close.tail().fillna(method=\"ffill\")).astype(int)"
   ]
  },
  {
   "cell_type": "markdown",
   "metadata": {},
   "source": [
    "Agregamos la columna target `{column}_will_be_greater_{period}`"
   ]
  },
  {
   "cell_type": "code",
   "execution_count": 10,
   "metadata": {},
   "outputs": [],
   "source": [
    "dataframes_y = dict()\n",
    "\n",
    "def build_target_dataframe(pair, column, period):\n",
    "    dataframe = dataframes[pair]\n",
    "    dataframe_column_offset = dataframe[column].shift(-period).fillna(method=\"ffill\")\n",
    "    dataframe_y = pd.DataFrame()\n",
    "    dataframe_y[f\"{column}_will_be_greater_{period}\"] = (dataframe[column] < dataframe_column_offset).astype(int)\n",
    "    dataframes_y[pair] = dataframe_y\n",
    "\n",
    "    \n",
    "    \n",
    "do(build_target_dataframe, \"close\", 6*10) # 6 observaciones es 1 día, por lo que el periodo será 10 días\n"
   ]
  },
  {
   "cell_type": "code",
   "execution_count": 11,
   "metadata": {},
   "outputs": [
    {
     "name": "stdout",
     "output_type": "stream",
     "text": [
      "<class 'pandas.core.frame.DataFrame'>\n",
      "DatetimeIndex: 7140 entries, 2019-01-28 20:00:00 to 2022-05-05 12:00:00\n",
      "Data columns (total 1 columns):\n",
      " #   Column                    Non-Null Count  Dtype\n",
      "---  ------                    --------------  -----\n",
      " 0   close_will_be_greater_60  7140 non-null   int32\n",
      "dtypes: int32(1)\n",
      "memory usage: 83.7 KB\n"
     ]
    }
   ],
   "source": [
    "dataframes_y[\"BTCUSDT\"].info()"
   ]
  },
  {
   "cell_type": "markdown",
   "metadata": {},
   "source": [
    "Estandarizamos los dataframes"
   ]
  },
  {
   "cell_type": "code",
   "execution_count": 12,
   "metadata": {},
   "outputs": [
    {
     "name": "stderr",
     "output_type": "stream",
     "text": [
      "C:\\Users\\Joaquin\\AppData\\Local\\Temp\\ipykernel_20236\\635600892.py:4: SettingWithCopyWarning: \n",
      "A value is trying to be set on a copy of a slice from a DataFrame.\n",
      "Try using .loc[row_indexer,col_indexer] = value instead\n",
      "\n",
      "See the caveats in the documentation: https://pandas.pydata.org/pandas-docs/stable/user_guide/indexing.html#returning-a-view-versus-a-copy\n",
      "  dataframe[columns] = StandardScaler().fit_transform(dataframe)\n",
      "C:\\Users\\Joaquin\\AppData\\Local\\Temp\\ipykernel_20236\\635600892.py:4: SettingWithCopyWarning: \n",
      "A value is trying to be set on a copy of a slice from a DataFrame.\n",
      "Try using .loc[row_indexer,col_indexer] = value instead\n",
      "\n",
      "See the caveats in the documentation: https://pandas.pydata.org/pandas-docs/stable/user_guide/indexing.html#returning-a-view-versus-a-copy\n",
      "  dataframe[columns] = StandardScaler().fit_transform(dataframe)\n",
      "C:\\Users\\Joaquin\\AppData\\Local\\Temp\\ipykernel_20236\\635600892.py:4: SettingWithCopyWarning: \n",
      "A value is trying to be set on a copy of a slice from a DataFrame.\n",
      "Try using .loc[row_indexer,col_indexer] = value instead\n",
      "\n",
      "See the caveats in the documentation: https://pandas.pydata.org/pandas-docs/stable/user_guide/indexing.html#returning-a-view-versus-a-copy\n",
      "  dataframe[columns] = StandardScaler().fit_transform(dataframe)\n",
      "C:\\Users\\Joaquin\\AppData\\Local\\Temp\\ipykernel_20236\\635600892.py:4: SettingWithCopyWarning: \n",
      "A value is trying to be set on a copy of a slice from a DataFrame.\n",
      "Try using .loc[row_indexer,col_indexer] = value instead\n",
      "\n",
      "See the caveats in the documentation: https://pandas.pydata.org/pandas-docs/stable/user_guide/indexing.html#returning-a-view-versus-a-copy\n",
      "  dataframe[columns] = StandardScaler().fit_transform(dataframe)\n",
      "C:\\Users\\Joaquin\\AppData\\Local\\Temp\\ipykernel_20236\\635600892.py:4: SettingWithCopyWarning: \n",
      "A value is trying to be set on a copy of a slice from a DataFrame.\n",
      "Try using .loc[row_indexer,col_indexer] = value instead\n",
      "\n",
      "See the caveats in the documentation: https://pandas.pydata.org/pandas-docs/stable/user_guide/indexing.html#returning-a-view-versus-a-copy\n",
      "  dataframe[columns] = StandardScaler().fit_transform(dataframe)\n",
      "C:\\Users\\Joaquin\\AppData\\Local\\Temp\\ipykernel_20236\\635600892.py:4: SettingWithCopyWarning: \n",
      "A value is trying to be set on a copy of a slice from a DataFrame.\n",
      "Try using .loc[row_indexer,col_indexer] = value instead\n",
      "\n",
      "See the caveats in the documentation: https://pandas.pydata.org/pandas-docs/stable/user_guide/indexing.html#returning-a-view-versus-a-copy\n",
      "  dataframe[columns] = StandardScaler().fit_transform(dataframe)\n",
      "C:\\Users\\Joaquin\\AppData\\Local\\Temp\\ipykernel_20236\\635600892.py:4: SettingWithCopyWarning: \n",
      "A value is trying to be set on a copy of a slice from a DataFrame.\n",
      "Try using .loc[row_indexer,col_indexer] = value instead\n",
      "\n",
      "See the caveats in the documentation: https://pandas.pydata.org/pandas-docs/stable/user_guide/indexing.html#returning-a-view-versus-a-copy\n",
      "  dataframe[columns] = StandardScaler().fit_transform(dataframe)\n",
      "C:\\Users\\Joaquin\\AppData\\Local\\Temp\\ipykernel_20236\\635600892.py:4: SettingWithCopyWarning: \n",
      "A value is trying to be set on a copy of a slice from a DataFrame.\n",
      "Try using .loc[row_indexer,col_indexer] = value instead\n",
      "\n",
      "See the caveats in the documentation: https://pandas.pydata.org/pandas-docs/stable/user_guide/indexing.html#returning-a-view-versus-a-copy\n",
      "  dataframe[columns] = StandardScaler().fit_transform(dataframe)\n",
      "C:\\Users\\Joaquin\\AppData\\Local\\Temp\\ipykernel_20236\\635600892.py:4: SettingWithCopyWarning: \n",
      "A value is trying to be set on a copy of a slice from a DataFrame.\n",
      "Try using .loc[row_indexer,col_indexer] = value instead\n",
      "\n",
      "See the caveats in the documentation: https://pandas.pydata.org/pandas-docs/stable/user_guide/indexing.html#returning-a-view-versus-a-copy\n",
      "  dataframe[columns] = StandardScaler().fit_transform(dataframe)\n",
      "C:\\Users\\Joaquin\\AppData\\Local\\Temp\\ipykernel_20236\\635600892.py:4: SettingWithCopyWarning: \n",
      "A value is trying to be set on a copy of a slice from a DataFrame.\n",
      "Try using .loc[row_indexer,col_indexer] = value instead\n",
      "\n",
      "See the caveats in the documentation: https://pandas.pydata.org/pandas-docs/stable/user_guide/indexing.html#returning-a-view-versus-a-copy\n",
      "  dataframe[columns] = StandardScaler().fit_transform(dataframe)\n",
      "C:\\Users\\Joaquin\\AppData\\Local\\Temp\\ipykernel_20236\\635600892.py:4: SettingWithCopyWarning: \n",
      "A value is trying to be set on a copy of a slice from a DataFrame.\n",
      "Try using .loc[row_indexer,col_indexer] = value instead\n",
      "\n",
      "See the caveats in the documentation: https://pandas.pydata.org/pandas-docs/stable/user_guide/indexing.html#returning-a-view-versus-a-copy\n",
      "  dataframe[columns] = StandardScaler().fit_transform(dataframe)\n",
      "C:\\Users\\Joaquin\\AppData\\Local\\Temp\\ipykernel_20236\\635600892.py:4: SettingWithCopyWarning: \n",
      "A value is trying to be set on a copy of a slice from a DataFrame.\n",
      "Try using .loc[row_indexer,col_indexer] = value instead\n",
      "\n",
      "See the caveats in the documentation: https://pandas.pydata.org/pandas-docs/stable/user_guide/indexing.html#returning-a-view-versus-a-copy\n",
      "  dataframe[columns] = StandardScaler().fit_transform(dataframe)\n",
      "C:\\Users\\Joaquin\\AppData\\Local\\Temp\\ipykernel_20236\\635600892.py:4: SettingWithCopyWarning: \n",
      "A value is trying to be set on a copy of a slice from a DataFrame.\n",
      "Try using .loc[row_indexer,col_indexer] = value instead\n",
      "\n",
      "See the caveats in the documentation: https://pandas.pydata.org/pandas-docs/stable/user_guide/indexing.html#returning-a-view-versus-a-copy\n",
      "  dataframe[columns] = StandardScaler().fit_transform(dataframe)\n",
      "C:\\Users\\Joaquin\\AppData\\Local\\Temp\\ipykernel_20236\\635600892.py:4: SettingWithCopyWarning: \n",
      "A value is trying to be set on a copy of a slice from a DataFrame.\n",
      "Try using .loc[row_indexer,col_indexer] = value instead\n",
      "\n",
      "See the caveats in the documentation: https://pandas.pydata.org/pandas-docs/stable/user_guide/indexing.html#returning-a-view-versus-a-copy\n",
      "  dataframe[columns] = StandardScaler().fit_transform(dataframe)\n",
      "C:\\Users\\Joaquin\\AppData\\Local\\Temp\\ipykernel_20236\\635600892.py:4: SettingWithCopyWarning: \n",
      "A value is trying to be set on a copy of a slice from a DataFrame.\n",
      "Try using .loc[row_indexer,col_indexer] = value instead\n",
      "\n",
      "See the caveats in the documentation: https://pandas.pydata.org/pandas-docs/stable/user_guide/indexing.html#returning-a-view-versus-a-copy\n",
      "  dataframe[columns] = StandardScaler().fit_transform(dataframe)\n",
      "C:\\Users\\Joaquin\\AppData\\Local\\Temp\\ipykernel_20236\\635600892.py:4: SettingWithCopyWarning: \n",
      "A value is trying to be set on a copy of a slice from a DataFrame.\n",
      "Try using .loc[row_indexer,col_indexer] = value instead\n",
      "\n",
      "See the caveats in the documentation: https://pandas.pydata.org/pandas-docs/stable/user_guide/indexing.html#returning-a-view-versus-a-copy\n",
      "  dataframe[columns] = StandardScaler().fit_transform(dataframe)\n",
      "C:\\Users\\Joaquin\\AppData\\Local\\Temp\\ipykernel_20236\\635600892.py:4: SettingWithCopyWarning: \n",
      "A value is trying to be set on a copy of a slice from a DataFrame.\n",
      "Try using .loc[row_indexer,col_indexer] = value instead\n",
      "\n",
      "See the caveats in the documentation: https://pandas.pydata.org/pandas-docs/stable/user_guide/indexing.html#returning-a-view-versus-a-copy\n",
      "  dataframe[columns] = StandardScaler().fit_transform(dataframe)\n",
      "C:\\Users\\Joaquin\\AppData\\Local\\Temp\\ipykernel_20236\\635600892.py:4: SettingWithCopyWarning: \n",
      "A value is trying to be set on a copy of a slice from a DataFrame.\n",
      "Try using .loc[row_indexer,col_indexer] = value instead\n",
      "\n",
      "See the caveats in the documentation: https://pandas.pydata.org/pandas-docs/stable/user_guide/indexing.html#returning-a-view-versus-a-copy\n",
      "  dataframe[columns] = StandardScaler().fit_transform(dataframe)\n",
      "C:\\Users\\Joaquin\\AppData\\Local\\Temp\\ipykernel_20236\\635600892.py:4: SettingWithCopyWarning: \n",
      "A value is trying to be set on a copy of a slice from a DataFrame.\n",
      "Try using .loc[row_indexer,col_indexer] = value instead\n",
      "\n",
      "See the caveats in the documentation: https://pandas.pydata.org/pandas-docs/stable/user_guide/indexing.html#returning-a-view-versus-a-copy\n",
      "  dataframe[columns] = StandardScaler().fit_transform(dataframe)\n"
     ]
    }
   ],
   "source": [
    "def standardize(pair):\n",
    "    dataframe = dataframes[pair]\n",
    "    columns = dataframe.columns\n",
    "    dataframe[columns] = StandardScaler().fit_transform(dataframe)\n",
    "\n",
    "do(standardize)\n"
   ]
  },
  {
   "cell_type": "code",
   "execution_count": 19,
   "metadata": {},
   "outputs": [
    {
     "data": {
      "text/html": [
       "<div>\n",
       "<style scoped>\n",
       "    .dataframe tbody tr th:only-of-type {\n",
       "        vertical-align: middle;\n",
       "    }\n",
       "\n",
       "    .dataframe tbody tr th {\n",
       "        vertical-align: top;\n",
       "    }\n",
       "\n",
       "    .dataframe thead th {\n",
       "        text-align: right;\n",
       "    }\n",
       "</style>\n",
       "<table border=\"1\" class=\"dataframe\">\n",
       "  <thead>\n",
       "    <tr style=\"text-align: right;\">\n",
       "      <th></th>\n",
       "      <th>open</th>\n",
       "      <th>high</th>\n",
       "      <th>low</th>\n",
       "      <th>close</th>\n",
       "      <th>volume</th>\n",
       "      <th>exchange_rate_open</th>\n",
       "      <th>exchange_rate_high</th>\n",
       "      <th>exchange_rate_low</th>\n",
       "      <th>exchange_rate_close</th>\n",
       "      <th>exchange_rate_volume</th>\n",
       "      <th>moving_average_close</th>\n",
       "      <th>rsi</th>\n",
       "      <th>adx</th>\n",
       "      <th>macd</th>\n",
       "      <th>macd_signal</th>\n",
       "      <th>macd_hist</th>\n",
       "    </tr>\n",
       "    <tr>\n",
       "      <th>date</th>\n",
       "      <th></th>\n",
       "      <th></th>\n",
       "      <th></th>\n",
       "      <th></th>\n",
       "      <th></th>\n",
       "      <th></th>\n",
       "      <th></th>\n",
       "      <th></th>\n",
       "      <th></th>\n",
       "      <th></th>\n",
       "      <th></th>\n",
       "      <th></th>\n",
       "      <th></th>\n",
       "      <th></th>\n",
       "      <th></th>\n",
       "      <th></th>\n",
       "    </tr>\n",
       "  </thead>\n",
       "  <tbody>\n",
       "    <tr>\n",
       "      <th>2022-05-04 20:00:00</th>\n",
       "      <td>-0.929293</td>\n",
       "      <td>-0.906154</td>\n",
       "      <td>-0.902362</td>\n",
       "      <td>-0.887746</td>\n",
       "      <td>-0.408704</td>\n",
       "      <td>0.317697</td>\n",
       "      <td>0.931549</td>\n",
       "      <td>0.397357</td>\n",
       "      <td>1.014975</td>\n",
       "      <td>-0.625505</td>\n",
       "      <td>-0.819672</td>\n",
       "      <td>1.173452</td>\n",
       "      <td>0.177938</td>\n",
       "      <td>0.025008</td>\n",
       "      <td>-0.253460</td>\n",
       "      <td>0.829564</td>\n",
       "    </tr>\n",
       "    <tr>\n",
       "      <th>2022-05-05 00:00:00</th>\n",
       "      <td>-0.887163</td>\n",
       "      <td>-0.908615</td>\n",
       "      <td>-0.893673</td>\n",
       "      <td>-0.909661</td>\n",
       "      <td>-0.598411</td>\n",
       "      <td>1.033955</td>\n",
       "      <td>-0.093051</td>\n",
       "      <td>0.163511</td>\n",
       "      <td>-0.560338</td>\n",
       "      <td>-0.527846</td>\n",
       "      <td>-0.821936</td>\n",
       "      <td>0.849984</td>\n",
       "      <td>0.206971</td>\n",
       "      <td>0.093347</td>\n",
       "      <td>-0.182963</td>\n",
       "      <td>0.837084</td>\n",
       "    </tr>\n",
       "    <tr>\n",
       "      <th>2022-05-05 04:00:00</th>\n",
       "      <td>-0.910756</td>\n",
       "      <td>-0.921739</td>\n",
       "      <td>-0.899755</td>\n",
       "      <td>-0.910504</td>\n",
       "      <td>-0.614074</td>\n",
       "      <td>-0.598894</td>\n",
       "      <td>-0.389305</td>\n",
       "      <td>-0.158476</td>\n",
       "      <td>-0.046097</td>\n",
       "      <td>-0.238516</td>\n",
       "      <td>-0.824102</td>\n",
       "      <td>0.837434</td>\n",
       "      <td>0.210903</td>\n",
       "      <td>0.144766</td>\n",
       "      <td>-0.115574</td>\n",
       "      <td>0.800268</td>\n",
       "    </tr>\n",
       "    <tr>\n",
       "      <th>2022-05-05 08:00:00</th>\n",
       "      <td>-0.910756</td>\n",
       "      <td>-0.914357</td>\n",
       "      <td>-0.976218</td>\n",
       "      <td>-0.995636</td>\n",
       "      <td>0.789766</td>\n",
       "      <td>-0.024514</td>\n",
       "      <td>0.182218</td>\n",
       "      <td>-1.694321</td>\n",
       "      <td>-2.139442</td>\n",
       "      <td>3.285405</td>\n",
       "      <td>-0.826594</td>\n",
       "      <td>-0.231628</td>\n",
       "      <td>0.029537</td>\n",
       "      <td>0.101190</td>\n",
       "      <td>-0.070978</td>\n",
       "      <td>0.530342</td>\n",
       "    </tr>\n",
       "    <tr>\n",
       "      <th>2022-05-05 12:00:00</th>\n",
       "      <td>-0.995015</td>\n",
       "      <td>-0.914357</td>\n",
       "      <td>-0.976218</td>\n",
       "      <td>-0.995636</td>\n",
       "      <td>0.789766</td>\n",
       "      <td>-2.112087</td>\n",
       "      <td>-0.024840</td>\n",
       "      <td>-0.026391</td>\n",
       "      <td>-0.025177</td>\n",
       "      <td>-0.200884</td>\n",
       "      <td>-0.829480</td>\n",
       "      <td>-0.231628</td>\n",
       "      <td>-0.138875</td>\n",
       "      <td>0.065648</td>\n",
       "      <td>-0.042898</td>\n",
       "      <td>0.334740</td>\n",
       "    </tr>\n",
       "  </tbody>\n",
       "</table>\n",
       "</div>"
      ],
      "text/plain": [
       "                         open      high       low     close    volume  \\\n",
       "date                                                                    \n",
       "2022-05-04 20:00:00 -0.929293 -0.906154 -0.902362 -0.887746 -0.408704   \n",
       "2022-05-05 00:00:00 -0.887163 -0.908615 -0.893673 -0.909661 -0.598411   \n",
       "2022-05-05 04:00:00 -0.910756 -0.921739 -0.899755 -0.910504 -0.614074   \n",
       "2022-05-05 08:00:00 -0.910756 -0.914357 -0.976218 -0.995636  0.789766   \n",
       "2022-05-05 12:00:00 -0.995015 -0.914357 -0.976218 -0.995636  0.789766   \n",
       "\n",
       "                     exchange_rate_open  exchange_rate_high  \\\n",
       "date                                                          \n",
       "2022-05-04 20:00:00            0.317697            0.931549   \n",
       "2022-05-05 00:00:00            1.033955           -0.093051   \n",
       "2022-05-05 04:00:00           -0.598894           -0.389305   \n",
       "2022-05-05 08:00:00           -0.024514            0.182218   \n",
       "2022-05-05 12:00:00           -2.112087           -0.024840   \n",
       "\n",
       "                     exchange_rate_low  exchange_rate_close  \\\n",
       "date                                                          \n",
       "2022-05-04 20:00:00           0.397357             1.014975   \n",
       "2022-05-05 00:00:00           0.163511            -0.560338   \n",
       "2022-05-05 04:00:00          -0.158476            -0.046097   \n",
       "2022-05-05 08:00:00          -1.694321            -2.139442   \n",
       "2022-05-05 12:00:00          -0.026391            -0.025177   \n",
       "\n",
       "                     exchange_rate_volume  moving_average_close       rsi  \\\n",
       "date                                                                        \n",
       "2022-05-04 20:00:00             -0.625505             -0.819672  1.173452   \n",
       "2022-05-05 00:00:00             -0.527846             -0.821936  0.849984   \n",
       "2022-05-05 04:00:00             -0.238516             -0.824102  0.837434   \n",
       "2022-05-05 08:00:00              3.285405             -0.826594 -0.231628   \n",
       "2022-05-05 12:00:00             -0.200884             -0.829480 -0.231628   \n",
       "\n",
       "                          adx      macd  macd_signal  macd_hist  \n",
       "date                                                             \n",
       "2022-05-04 20:00:00  0.177938  0.025008    -0.253460   0.829564  \n",
       "2022-05-05 00:00:00  0.206971  0.093347    -0.182963   0.837084  \n",
       "2022-05-05 04:00:00  0.210903  0.144766    -0.115574   0.800268  \n",
       "2022-05-05 08:00:00  0.029537  0.101190    -0.070978   0.530342  \n",
       "2022-05-05 12:00:00 -0.138875  0.065648    -0.042898   0.334740  "
      ]
     },
     "execution_count": 19,
     "metadata": {},
     "output_type": "execute_result"
    }
   ],
   "source": [
    "dataframes[\"AAVEUSDT\"].tail()"
   ]
  },
  {
   "cell_type": "markdown",
   "metadata": {},
   "source": [
    "Separamos en train y test"
   ]
  },
  {
   "cell_type": "code",
   "execution_count": 13,
   "metadata": {},
   "outputs": [],
   "source": [
    "dataframes_X_train = dict()\n",
    "dataframes_y_train = dict()\n",
    "dataframes_X_test = dict()\n",
    "dataframes_y_test = dict()\n",
    "\n",
    "\n",
    "def split_train_test(pair):\n",
    "    tss = TimeSeriesSplit(n_splits = 3)\n",
    "    for train_index, test_index in tss.split(dataframes[pair]):\n",
    "        dataframes_X_train[pair], dataframes_X_test[pair] = dataframes[pair].iloc[train_index, :], dataframes[pair].iloc[test_index,:]\n",
    "        dataframes_y_train[pair], dataframes_y_test[pair] = dataframes_y[pair].iloc[train_index], dataframes_y[pair].iloc[test_index]\n",
    "\n",
    "do(split_train_test)"
   ]
  },
  {
   "cell_type": "markdown",
   "metadata": {},
   "source": [
    "### Clasificaciones"
   ]
  },
  {
   "cell_type": "markdown",
   "metadata": {
    "id": "KJCF-F_YgoJG"
   },
   "source": [
    "Definimos las entidades ModelEvaluation y Model para encpasular la lógica relacionada a entrenamiento, ajuste de hiperparámetros, predicciones y evaluación de modelos"
   ]
  },
  {
   "cell_type": "code",
   "execution_count": 14,
   "metadata": {},
   "outputs": [],
   "source": [
    "class ModelEvaluation:\n",
    "    def __init__(self, X_train, y_train, X_test, y_test, model, pair):\n",
    "        self.X_train = X_train\n",
    "        self.y_train = y_train\n",
    "        self.X_test = X_test\n",
    "        self.y_test = y_test\n",
    "        self.model = model\n",
    "        self.pair = pair\n",
    "\n",
    "    def evaluate(self):\n",
    "        print(\"\\n\")\n",
    "        print(f\"Evaluación del modelo {self.model.name} en el par {self.pair}\")\n",
    "        print(\"=\"*50)\n",
    "        best_hyperparameters = self.model.get_best_hyperparameters(self.X_train, self.y_train)\n",
    "        self.model.evaluate(\n",
    "            best_hyperparameters,\n",
    "            self.X_train,\n",
    "            self.y_train,\n",
    "            self.X_test,\n",
    "            self.y_test,\n",
    "        )\n",
    "        print(\"=\"*50)\n",
    "        print(\"\\n\")\n",
    "\n",
    "class Model:\n",
    "    def __init__(self, name, model, hyperparameters_grid):\n",
    "        self.name = name\n",
    "        self.model = model\n",
    "        self.hyperparameters_grid = hyperparameters_grid\n",
    "\n",
    "    def evaluate(self, best_params, X_train, y_train, X_test, y_test):\n",
    "        pred_classes = [1, 0]\n",
    "\n",
    "        self.model.set_params(**best_params)\n",
    "\n",
    "        self.model.fit(X_train, y_train)\n",
    "\n",
    "        y_pred_test = self.model.predict(X_test)\n",
    "        y_pred_train = self.model.predict(X_train)\n",
    "\n",
    "        self.report_metrics(y_train, y_pred_train, pred_classes,\n",
    "                        description=\"Conjunto de entrenamiento\")\n",
    "\n",
    "        self.report_metrics(y_test, y_pred_test, pred_classes, \n",
    "                        description=\"Conjunto de evaluación\")\n",
    "\n",
    "    def get_best_hyperparameters(self, X_train, y_train, scoring='accuracy', cv=5, print_values=False, print_results=False, print_best=False):\n",
    "        grid_cv = GridSearchCV(\n",
    "            estimator= self.model,\n",
    "            param_grid= self.hyperparameters_grid,\n",
    "            cv=cv,\n",
    "            scoring=scoring,\n",
    "            n_jobs=5, \n",
    "            refit=True, \n",
    "            return_train_score=True, \n",
    "            verbose=1\n",
    "        )\n",
    "\n",
    "        # Fit to the training data\n",
    "        grid_cv.fit(X_train, y_train)\n",
    "\n",
    "        best_params = grid_cv.best_params_\n",
    "\n",
    "        if print_values:\n",
    "        # Print the values used for hyperparameters\n",
    "            print(f\"\"\"\n",
    "            The values used for the hyperparameters:\n",
    "            {grid_cv.cv_results_}\n",
    "            \"\"\")\n",
    "\n",
    "        if print_best:\n",
    "        # Print best score and params\n",
    "            print(\"\\nMejor configuración:\")\n",
    "            display(pd.DataFrame([best_params]))\n",
    "            print(\"\\nAccuracy promedio (mejor configuración) %.3f\" % grid_cv.best_score_)\n",
    "\n",
    "        if print_results:\n",
    "            results = self.format_results(grid_cv.cv_results_, self.hyperparameters_grid)\n",
    "            print(\"\\nAccuracy promedio y varianza para todas las configuraciones \"\n",
    "            \"(ordernadas en forma descendiente):\")\n",
    "            display(results)\n",
    "\n",
    "        return best_params\n",
    "\n",
    "    def format_results(self, results, params):\n",
    "        results_df = pd.DataFrame(results)\n",
    "        cols = ['param_' + param for param in params.keys()] \n",
    "        cols += ['mean_test_score', 'std_test_score']\n",
    "        results_df = results_df[cols].sort_values(by='mean_test_score', \n",
    "                                                    ascending=False)\n",
    "        results_df['variance'] = results_df['std_test_score']**2\n",
    "        return results_df\n",
    "\n",
    "    def report_metrics(self, y_true, y_predicted, cm_labels, description=None):\n",
    "        if description:\n",
    "            print(description)\n",
    "\n",
    "        print(\"\\tAccuracy (exactitud):  %.2f\" % accuracy_score(y_true, y_predicted))\n",
    "        print(\"\\tPrecision (precisión):  %.2f\" % precision_score(y_true, y_predicted))\n",
    "        print(\"\\tRecall (cobertura/exhaustividad):  %.2f\" % \n",
    "                recall_score(y_true, y_predicted))\n",
    "        print(\"\\tF1:  %.2f\" % f1_score(y_true, y_predicted))\n",
    "\n",
    "        cm = confusion_matrix(y_true, y_predicted)\n",
    "        \n",
    "        self.plot_confusion_matrix(cm, cm_labels, \n",
    "                                title=f\"Confusion matrix ({description})\")          \n",
    "\n",
    "    def plot_confusion_matrix(self, cm, classes,\n",
    "                          normalize=False,\n",
    "                          title='Confusion matrix',\n",
    "                          cmap=plt.cm.Blues):\n",
    "        \"\"\"\n",
    "        This function prints and plots the confusion matrix.\n",
    "        Normalization can be applied by setting `normalize=True`.\n",
    "        \"\"\"\n",
    "        plt.figure().clear()\n",
    "        if normalize:\n",
    "            cm = cm.astype('float') / cm.sum(axis=1)[:, np.newaxis]\n",
    "\n",
    "        plt.imshow(cm, interpolation='nearest', cmap=cmap)\n",
    "        plt.title(title)\n",
    "        plt.colorbar()\n",
    "        tick_marks = np.arange(len(classes))\n",
    "        plt.xticks(tick_marks, classes, rotation=45)\n",
    "        plt.yticks(tick_marks, classes)\n",
    "\n",
    "        fmt = '.2f' if normalize else 'd'\n",
    "        thresh = cm.max() / 2.\n",
    "        for i, j in itertools.product(range(cm.shape[0]), range(cm.shape[1])):\n",
    "            plt.text(j, i, format(cm[i, j], fmt),\n",
    "                    horizontalalignment=\"center\",\n",
    "                    color=\"white\" if cm[i, j] > thresh else \"black\")\n",
    "\n",
    "        plt.tight_layout()\n",
    "        plt.ylabel('Etiqueta correcta')\n",
    "        plt.xlabel('Etiqueta predicha')          "
   ]
  },
  {
   "cell_type": "markdown",
   "metadata": {},
   "source": [
    "Creamos un array con las instancias de cada modelo"
   ]
  },
  {
   "cell_type": "code",
   "execution_count": 15,
   "metadata": {},
   "outputs": [],
   "source": [
    "decision_tree_classifier = DecisionTreeClassifier(random_state=0)\n",
    "hiperparams_decision_tree_classifier = {\n",
    "    'criterion': ['gini', 'entropy'],\n",
    "    'splitter': ['best', 'random'],\n",
    "    'max_depth': np.arange(4, 25, 4),\n",
    "    'max_features': ['auto', 'log2', 'sqrt']\n",
    "}\n",
    "\n",
    "random_forest_classifier = RandomForestClassifier(random_state=0)\n",
    "hiperparams_random_forest_classifier = {\n",
    "    'criterion': ['gini', 'entropy'],\n",
    "    'max_depth': np.arange(4, 25, 4),\n",
    "    'n_estimators': np.arange(10, 100, 10),\n",
    "    'max_features': ['log2', 'sqrt']\n",
    "}\n",
    "\n",
    "xg_boost = xgb.XGBClassifier(random_state=0)\n",
    "hiperparams_xg_boost = {\n",
    "    \"learning_rate\": np.linspace(0.1, 0.2, 3), \n",
    "    'max_depth': np.arange(4, 25, 4),\n",
    "    'n_estimators': np.arange(10, 100, 10),\n",
    "}\n",
    "\n",
    "\n",
    "models = [\n",
    "    Model(\"DecisionTreeClassifier\", decision_tree_classifier, hiperparams_decision_tree_classifier),\n",
    "    Model(\"RandomForestClassifier\", random_forest_classifier, hiperparams_random_forest_classifier),\n",
    "    Model(\"XGBClassifier\", xg_boost, hiperparams_xg_boost)\n",
    "]"
   ]
  },
  {
   "cell_type": "code",
   "execution_count": 16,
   "metadata": {},
   "outputs": [],
   "source": [
    "evaluation_models = []\n",
    "\n",
    "def add_evaluation_model(pair, models, evaluation_models, ):\n",
    "    X_train = dataframes_X_train[pair]\n",
    "    y_train = dataframes_y_train[pair]\n",
    "    X_test = dataframes_X_test[pair]\n",
    "    y_test = dataframes_y_test[pair]\n",
    "\n",
    "    for model in models:\n",
    "        evaluation_models.append(ModelEvaluation(X_train, y_train, X_test, y_test, model, pair))\n",
    "\n",
    "do(add_evaluation_model, models, evaluation_models)\n",
    "\n",
    "\n",
    "\n"
   ]
  },
  {
   "cell_type": "code",
   "execution_count": 18,
   "metadata": {},
   "outputs": [
    {
     "name": "stdout",
     "output_type": "stream",
     "text": [
      "\n",
      "\n",
      "Evaluación del modelo RandomForestClassifier en el par ADAUSDT\n",
      "==================================================\n",
      "Fitting 5 folds for each of 216 candidates, totalling 1080 fits\n"
     ]
    },
    {
     "name": "stderr",
     "output_type": "stream",
     "text": [
      "C:\\Users\\Joaquin\\AppData\\Local\\Packages\\PythonSoftwareFoundation.Python.3.10_qbz5n2kfra8p0\\LocalCache\\local-packages\\Python310\\site-packages\\sklearn\\model_selection\\_search.py:910: DataConversionWarning: A column-vector y was passed when a 1d array was expected. Please change the shape of y to (n_samples,), for example using ravel().\n",
      "  self.best_estimator_.fit(X, y, **fit_params)\n",
      "C:\\Users\\Joaquin\\AppData\\Local\\Temp\\ipykernel_20236\\323788234.py:36: DataConversionWarning: A column-vector y was passed when a 1d array was expected. Please change the shape of y to (n_samples,), for example using ravel().\n",
      "  self.model.fit(X_train, y_train)\n"
     ]
    },
    {
     "name": "stdout",
     "output_type": "stream",
     "text": [
      "Conjunto de entrenamiento\n",
      "\tAccuracy (exactitud):  0.70\n",
      "\tPrecision (precisión):  0.67\n",
      "\tRecall (cobertura/exhaustividad):  0.95\n",
      "\tF1:  0.79\n",
      "Conjunto de evaluación\n",
      "\tAccuracy (exactitud):  0.57\n",
      "\tPrecision (precisión):  0.47\n",
      "\tRecall (cobertura/exhaustividad):  0.64\n",
      "\tF1:  0.54\n",
      "==================================================\n",
      "\n",
      "\n"
     ]
    },
    {
     "data": {
      "image/png": "[encoded data removed]",
      "text/plain": [
       "<Figure size 432x288 with 2 Axes>"
      ]
     },
     "metadata": {
      "needs_background": "light"
     },
     "output_type": "display_data"
    },
    {
     "data": {
      "image/png": "[encoded data removed]",
      "text/plain": [
       "<Figure size 432x288 with 2 Axes>"
      ]
     },
     "metadata": {
      "needs_background": "light"
     },
     "output_type": "display_data"
    }
   ],
   "source": [
    "evaluation_models[4].evaluate()"
   ]
  },
  {
   "cell_type": "markdown",
   "metadata": {},
   "source": [
    "## Parte 2"
   ]
  }
 ],
 "metadata": {
  "kernelspec": {
   "display_name": "Python 3.10.6 64-bit (windows store)",
   "language": "python",
   "name": "python3"
  },
  "language_info": {
   "codemirror_mode": {
    "name": "ipython",
    "version": 3
   },
   "file_extension": ".py",
   "mimetype": "text/x-python",
   "name": "python",
   "nbconvert_exporter": "python",
   "pygments_lexer": "ipython3",
   "version": "3.10.6"
  },
  "vscode": {
   "interpreter": {
    "hash": "91d5fa0733a3b6ae75b1f47bdf7ad85541360fca3257db01da4aa0636bba48a8"
   }
  }
 },
 "nbformat": 4,
 "nbformat_minor": 4
}
