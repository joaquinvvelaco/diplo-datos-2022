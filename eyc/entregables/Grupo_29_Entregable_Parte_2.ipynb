{
  "nbformat": 4,
  "nbformat_minor": 0,
  "metadata": {
    "colab": {
      "name": "Grupo_29_Entregable_Parte_2.ipynb",
      "provenance": [],
      "collapsed_sections": [],
      "toc_visible": true,
      "include_colab_link": true
    },
    "kernelspec": {
      "name": "python3",
      "display_name": "Python 3"
    },
    "language_info": {
      "name": "python"
    }
  },
  "cells": [
    {
      "cell_type": "markdown",
      "metadata": {
        "id": "view-in-github",
        "colab_type": "text"
      },
      "source": [
        "<a href=\"https://colab.research.google.com/github/joaquinvvelaco/diplo-datos-2022/blob/main/eyc/entregables/Grupo_29_Entregable_Parte_2.ipynb\" target=\"_parent\"><img src=\"https://colab.research.google.com/assets/colab-badge.svg\" alt=\"Open In Colab\"/></a>"
      ]
    },
    {
      "cell_type": "markdown",
      "metadata": {
        "id": "zO4bRoxr2Apy"
      },
      "source": [
        "**Diplomatura en Ciencia de Datos, Aprendizaje Automático y sus Aplicaciones**\n",
        "\n",
        "**Exploración y Curación de Datos**\n",
        "\n",
        "*Edición 2021*\n",
        "\n",
        "----\n",
        "\n",
        "# Trabajo práctico entregable - parte 2\n",
        "\n",
        "\n",
        "En el ejercicio 2 de la parte 1 del entregable seleccionaron las filas y columnas relevantes al problema de predicción de precios de una propiedad e imputaron los valores faltantes de las columnas `Suburb` y las columnas obtenidas a partir del conjunto de datos `airbnb`.\n",
        "\n",
        "En esta notebook, **se utilizará resultado de dichas operaciones.** que fue guardado en un archivo (Ejercicio 3 entregable 1). \n"
      ]
    },
    {
      "cell_type": "code",
      "metadata": {
        "id": "4udjxjk1EtVU"
      },
      "source": [
        "import matplotlib.pyplot as plt\n",
        "import numpy\n",
        "import pandas \n",
        "\n",
        "import seaborn\n",
        "seaborn.set_context('talk')"
      ],
      "execution_count": 1,
      "outputs": []
    },
    {
      "cell_type": "code",
      "source": [
        "file_key = 'melb_data_extended.csv'  # Replace for correspoing key\n",
        "\n",
        "# Acá deberían leer el conjunto de datos que ya tienen.\n",
        "melb_df = pandas.read_csv(\"https://raw.githubusercontent.com/joaquinvvelaco/diplo-datos-2022/main/eyc/entregables/melb_data_extended.csv\")\n",
        "melb_df[:3]"
      ],
      "metadata": {
        "colab": {
          "base_uri": "https://localhost:8080/",
          "height": 307
        },
        "id": "POEdVt9vgZbT",
        "outputId": "612c26cf-0f9f-41c2-9bdf-20551d3e137a"
      },
      "execution_count": 2,
      "outputs": [
        {
          "output_type": "execute_result",
          "data": {
            "text/plain": [
              "       Suburb          Address  Rooms Type      Price Method SellerG  \\\n",
              "0  Abbotsford     85 Turner St      2    h  1480000.0      S  Biggin   \n",
              "1  Abbotsford  25 Bloomburg St      2    h  1035000.0      S  Biggin   \n",
              "2  Abbotsford     5 Charles St      3    h  1465000.0     SP  Biggin   \n",
              "\n",
              "        Date  Distance  Postcode  ...  Bathroom  Car  Landsize  BuildingArea  \\\n",
              "0  3/12/2016       2.5    3067.0  ...       1.0  1.0     202.0           NaN   \n",
              "1  4/02/2016       2.5    3067.0  ...       1.0  0.0     156.0          79.0   \n",
              "2  4/03/2017       2.5    3067.0  ...       2.0  0.0     134.0         150.0   \n",
              "\n",
              "   YearBuilt  CouncilArea Lattitude  Longtitude             Regionname  \\\n",
              "0        NaN        Yarra  -37.7996    144.9984  Northern Metropolitan   \n",
              "1     1900.0        Yarra  -37.8079    144.9934  Northern Metropolitan   \n",
              "2     1900.0        Yarra  -37.8093    144.9944  Northern Metropolitan   \n",
              "\n",
              "  Propertycount  \n",
              "0        4019.0  \n",
              "1        4019.0  \n",
              "2        4019.0  \n",
              "\n",
              "[3 rows x 21 columns]"
            ],
            "text/html": [
              "\n",
              "  <div id=\"df-0f3bf828-2848-4f02-bdbc-f472c67cfe41\">\n",
              "    <div class=\"colab-df-container\">\n",
              "      <div>\n",
              "<style scoped>\n",
              "    .dataframe tbody tr th:only-of-type {\n",
              "        vertical-align: middle;\n",
              "    }\n",
              "\n",
              "    .dataframe tbody tr th {\n",
              "        vertical-align: top;\n",
              "    }\n",
              "\n",
              "    .dataframe thead th {\n",
              "        text-align: right;\n",
              "    }\n",
              "</style>\n",
              "<table border=\"1\" class=\"dataframe\">\n",
              "  <thead>\n",
              "    <tr style=\"text-align: right;\">\n",
              "      <th></th>\n",
              "      <th>Suburb</th>\n",
              "      <th>Address</th>\n",
              "      <th>Rooms</th>\n",
              "      <th>Type</th>\n",
              "      <th>Price</th>\n",
              "      <th>Method</th>\n",
              "      <th>SellerG</th>\n",
              "      <th>Date</th>\n",
              "      <th>Distance</th>\n",
              "      <th>Postcode</th>\n",
              "      <th>...</th>\n",
              "      <th>Bathroom</th>\n",
              "      <th>Car</th>\n",
              "      <th>Landsize</th>\n",
              "      <th>BuildingArea</th>\n",
              "      <th>YearBuilt</th>\n",
              "      <th>CouncilArea</th>\n",
              "      <th>Lattitude</th>\n",
              "      <th>Longtitude</th>\n",
              "      <th>Regionname</th>\n",
              "      <th>Propertycount</th>\n",
              "    </tr>\n",
              "  </thead>\n",
              "  <tbody>\n",
              "    <tr>\n",
              "      <th>0</th>\n",
              "      <td>Abbotsford</td>\n",
              "      <td>85 Turner St</td>\n",
              "      <td>2</td>\n",
              "      <td>h</td>\n",
              "      <td>1480000.0</td>\n",
              "      <td>S</td>\n",
              "      <td>Biggin</td>\n",
              "      <td>3/12/2016</td>\n",
              "      <td>2.5</td>\n",
              "      <td>3067.0</td>\n",
              "      <td>...</td>\n",
              "      <td>1.0</td>\n",
              "      <td>1.0</td>\n",
              "      <td>202.0</td>\n",
              "      <td>NaN</td>\n",
              "      <td>NaN</td>\n",
              "      <td>Yarra</td>\n",
              "      <td>-37.7996</td>\n",
              "      <td>144.9984</td>\n",
              "      <td>Northern Metropolitan</td>\n",
              "      <td>4019.0</td>\n",
              "    </tr>\n",
              "    <tr>\n",
              "      <th>1</th>\n",
              "      <td>Abbotsford</td>\n",
              "      <td>25 Bloomburg St</td>\n",
              "      <td>2</td>\n",
              "      <td>h</td>\n",
              "      <td>1035000.0</td>\n",
              "      <td>S</td>\n",
              "      <td>Biggin</td>\n",
              "      <td>4/02/2016</td>\n",
              "      <td>2.5</td>\n",
              "      <td>3067.0</td>\n",
              "      <td>...</td>\n",
              "      <td>1.0</td>\n",
              "      <td>0.0</td>\n",
              "      <td>156.0</td>\n",
              "      <td>79.0</td>\n",
              "      <td>1900.0</td>\n",
              "      <td>Yarra</td>\n",
              "      <td>-37.8079</td>\n",
              "      <td>144.9934</td>\n",
              "      <td>Northern Metropolitan</td>\n",
              "      <td>4019.0</td>\n",
              "    </tr>\n",
              "    <tr>\n",
              "      <th>2</th>\n",
              "      <td>Abbotsford</td>\n",
              "      <td>5 Charles St</td>\n",
              "      <td>3</td>\n",
              "      <td>h</td>\n",
              "      <td>1465000.0</td>\n",
              "      <td>SP</td>\n",
              "      <td>Biggin</td>\n",
              "      <td>4/03/2017</td>\n",
              "      <td>2.5</td>\n",
              "      <td>3067.0</td>\n",
              "      <td>...</td>\n",
              "      <td>2.0</td>\n",
              "      <td>0.0</td>\n",
              "      <td>134.0</td>\n",
              "      <td>150.0</td>\n",
              "      <td>1900.0</td>\n",
              "      <td>Yarra</td>\n",
              "      <td>-37.8093</td>\n",
              "      <td>144.9944</td>\n",
              "      <td>Northern Metropolitan</td>\n",
              "      <td>4019.0</td>\n",
              "    </tr>\n",
              "  </tbody>\n",
              "</table>\n",
              "<p>3 rows × 21 columns</p>\n",
              "</div>\n",
              "      <button class=\"colab-df-convert\" onclick=\"convertToInteractive('df-0f3bf828-2848-4f02-bdbc-f472c67cfe41')\"\n",
              "              title=\"Convert this dataframe to an interactive table.\"\n",
              "              style=\"display:none;\">\n",
              "        \n",
              "  <svg xmlns=\"http://www.w3.org/2000/svg\" height=\"24px\"viewBox=\"0 0 24 24\"\n",
              "       width=\"24px\">\n",
              "    <path d=\"M0 0h24v24H0V0z\" fill=\"none\"/>\n",
              "    <path d=\"M18.56 5.44l.94 2.06.94-2.06 2.06-.94-2.06-.94-.94-2.06-.94 2.06-2.06.94zm-11 1L8.5 8.5l.94-2.06 2.06-.94-2.06-.94L8.5 2.5l-.94 2.06-2.06.94zm10 10l.94 2.06.94-2.06 2.06-.94-2.06-.94-.94-2.06-.94 2.06-2.06.94z\"/><path d=\"M17.41 7.96l-1.37-1.37c-.4-.4-.92-.59-1.43-.59-.52 0-1.04.2-1.43.59L10.3 9.45l-7.72 7.72c-.78.78-.78 2.05 0 2.83L4 21.41c.39.39.9.59 1.41.59.51 0 1.02-.2 1.41-.59l7.78-7.78 2.81-2.81c.8-.78.8-2.07 0-2.86zM5.41 20L4 18.59l7.72-7.72 1.47 1.35L5.41 20z\"/>\n",
              "  </svg>\n",
              "      </button>\n",
              "      \n",
              "  <style>\n",
              "    .colab-df-container {\n",
              "      display:flex;\n",
              "      flex-wrap:wrap;\n",
              "      gap: 12px;\n",
              "    }\n",
              "\n",
              "    .colab-df-convert {\n",
              "      background-color: #E8F0FE;\n",
              "      border: none;\n",
              "      border-radius: 50%;\n",
              "      cursor: pointer;\n",
              "      display: none;\n",
              "      fill: #1967D2;\n",
              "      height: 32px;\n",
              "      padding: 0 0 0 0;\n",
              "      width: 32px;\n",
              "    }\n",
              "\n",
              "    .colab-df-convert:hover {\n",
              "      background-color: #E2EBFA;\n",
              "      box-shadow: 0px 1px 2px rgba(60, 64, 67, 0.3), 0px 1px 3px 1px rgba(60, 64, 67, 0.15);\n",
              "      fill: #174EA6;\n",
              "    }\n",
              "\n",
              "    [theme=dark] .colab-df-convert {\n",
              "      background-color: #3B4455;\n",
              "      fill: #D2E3FC;\n",
              "    }\n",
              "\n",
              "    [theme=dark] .colab-df-convert:hover {\n",
              "      background-color: #434B5C;\n",
              "      box-shadow: 0px 1px 3px 1px rgba(0, 0, 0, 0.15);\n",
              "      filter: drop-shadow(0px 1px 2px rgba(0, 0, 0, 0.3));\n",
              "      fill: #FFFFFF;\n",
              "    }\n",
              "  </style>\n",
              "\n",
              "      <script>\n",
              "        const buttonEl =\n",
              "          document.querySelector('#df-0f3bf828-2848-4f02-bdbc-f472c67cfe41 button.colab-df-convert');\n",
              "        buttonEl.style.display =\n",
              "          google.colab.kernel.accessAllowed ? 'block' : 'none';\n",
              "\n",
              "        async function convertToInteractive(key) {\n",
              "          const element = document.querySelector('#df-0f3bf828-2848-4f02-bdbc-f472c67cfe41');\n",
              "          const dataTable =\n",
              "            await google.colab.kernel.invokeFunction('convertToInteractive',\n",
              "                                                     [key], {});\n",
              "          if (!dataTable) return;\n",
              "\n",
              "          const docLinkHtml = 'Like what you see? Visit the ' +\n",
              "            '<a target=\"_blank\" href=https://colab.research.google.com/notebooks/data_table.ipynb>data table notebook</a>'\n",
              "            + ' to learn more about interactive tables.';\n",
              "          element.innerHTML = '';\n",
              "          dataTable['output_type'] = 'display_data';\n",
              "          await google.colab.output.renderOutput(dataTable, element);\n",
              "          const docLink = document.createElement('div');\n",
              "          docLink.innerHTML = docLinkHtml;\n",
              "          element.appendChild(docLink);\n",
              "        }\n",
              "      </script>\n",
              "    </div>\n",
              "  </div>\n",
              "  "
            ]
          },
          "metadata": {},
          "execution_count": 2
        }
      ]
    },
    {
      "cell_type": "markdown",
      "metadata": {
        "id": "s-mixICN22kA"
      },
      "source": [
        "## Ejercicio 1: Encoding\n",
        "\n",
        "1. Seleccionar todas las filas y columnas del conjunto de datos obtenido en la parte 1 del entregable, **excepto** `BuildingArea` y `YearBuilt`, que volveremos a imputar más adelante.\n",
        "\n",
        "2. Aplicar una codificación One-hot encoding a cada fila, tanto para variables numéricas como categóricas. Si lo consideran necesario, pueden volver a reducir el número de categorías únicas.\n",
        "\n",
        "Algunas opciones:\n",
        "  1. Utilizar `OneHotEncoder` junto con el parámetro `categories` para las variables categóricas y luego usar `numpy.hstack` para concatenar el resultado con las variables numéricas. \n",
        "  2. `DictVectorizer` con algunos pasos de pre-proceso previo.\n",
        "\n",
        "Recordar también que el atributo `pandas.DataFrame.values` permite acceder a la matriz de numpy subyacente a un DataFrame.\n"
      ]
    },
    {
      "cell_type": "code",
      "source": [
        "#Ejercicio 1.1\n",
        "melb_df_2 = melb_df.drop(['BuildingArea', 'YearBuilt'], axis=1)\n",
        "melb_df_2.head()"
      ],
      "metadata": {
        "colab": {
          "base_uri": "https://localhost:8080/",
          "height": 392
        },
        "id": "2GaUskG50CbP",
        "outputId": "b40c8006-3a98-4970-e588-7ea9932dd122"
      },
      "execution_count": 3,
      "outputs": [
        {
          "output_type": "execute_result",
          "data": {
            "text/plain": [
              "       Suburb           Address  Rooms Type      Price Method SellerG  \\\n",
              "0  Abbotsford      85 Turner St      2    h  1480000.0      S  Biggin   \n",
              "1  Abbotsford   25 Bloomburg St      2    h  1035000.0      S  Biggin   \n",
              "2  Abbotsford      5 Charles St      3    h  1465000.0     SP  Biggin   \n",
              "3  Abbotsford  40 Federation La      3    h   850000.0     PI  Biggin   \n",
              "4  Abbotsford       55a Park St      4    h  1600000.0     VB  Nelson   \n",
              "\n",
              "        Date  Distance  Postcode  Bedroom2  Bathroom  Car  Landsize  \\\n",
              "0  3/12/2016       2.5    3067.0       2.0       1.0  1.0     202.0   \n",
              "1  4/02/2016       2.5    3067.0       2.0       1.0  0.0     156.0   \n",
              "2  4/03/2017       2.5    3067.0       3.0       2.0  0.0     134.0   \n",
              "3  4/03/2017       2.5    3067.0       3.0       2.0  1.0      94.0   \n",
              "4  4/06/2016       2.5    3067.0       3.0       1.0  2.0     120.0   \n",
              "\n",
              "  CouncilArea  Lattitude  Longtitude             Regionname  Propertycount  \n",
              "0       Yarra   -37.7996    144.9984  Northern Metropolitan         4019.0  \n",
              "1       Yarra   -37.8079    144.9934  Northern Metropolitan         4019.0  \n",
              "2       Yarra   -37.8093    144.9944  Northern Metropolitan         4019.0  \n",
              "3       Yarra   -37.7969    144.9969  Northern Metropolitan         4019.0  \n",
              "4       Yarra   -37.8072    144.9941  Northern Metropolitan         4019.0  "
            ],
            "text/html": [
              "\n",
              "  <div id=\"df-7f02c857-9928-437d-a54e-881bff84e7b3\">\n",
              "    <div class=\"colab-df-container\">\n",
              "      <div>\n",
              "<style scoped>\n",
              "    .dataframe tbody tr th:only-of-type {\n",
              "        vertical-align: middle;\n",
              "    }\n",
              "\n",
              "    .dataframe tbody tr th {\n",
              "        vertical-align: top;\n",
              "    }\n",
              "\n",
              "    .dataframe thead th {\n",
              "        text-align: right;\n",
              "    }\n",
              "</style>\n",
              "<table border=\"1\" class=\"dataframe\">\n",
              "  <thead>\n",
              "    <tr style=\"text-align: right;\">\n",
              "      <th></th>\n",
              "      <th>Suburb</th>\n",
              "      <th>Address</th>\n",
              "      <th>Rooms</th>\n",
              "      <th>Type</th>\n",
              "      <th>Price</th>\n",
              "      <th>Method</th>\n",
              "      <th>SellerG</th>\n",
              "      <th>Date</th>\n",
              "      <th>Distance</th>\n",
              "      <th>Postcode</th>\n",
              "      <th>Bedroom2</th>\n",
              "      <th>Bathroom</th>\n",
              "      <th>Car</th>\n",
              "      <th>Landsize</th>\n",
              "      <th>CouncilArea</th>\n",
              "      <th>Lattitude</th>\n",
              "      <th>Longtitude</th>\n",
              "      <th>Regionname</th>\n",
              "      <th>Propertycount</th>\n",
              "    </tr>\n",
              "  </thead>\n",
              "  <tbody>\n",
              "    <tr>\n",
              "      <th>0</th>\n",
              "      <td>Abbotsford</td>\n",
              "      <td>85 Turner St</td>\n",
              "      <td>2</td>\n",
              "      <td>h</td>\n",
              "      <td>1480000.0</td>\n",
              "      <td>S</td>\n",
              "      <td>Biggin</td>\n",
              "      <td>3/12/2016</td>\n",
              "      <td>2.5</td>\n",
              "      <td>3067.0</td>\n",
              "      <td>2.0</td>\n",
              "      <td>1.0</td>\n",
              "      <td>1.0</td>\n",
              "      <td>202.0</td>\n",
              "      <td>Yarra</td>\n",
              "      <td>-37.7996</td>\n",
              "      <td>144.9984</td>\n",
              "      <td>Northern Metropolitan</td>\n",
              "      <td>4019.0</td>\n",
              "    </tr>\n",
              "    <tr>\n",
              "      <th>1</th>\n",
              "      <td>Abbotsford</td>\n",
              "      <td>25 Bloomburg St</td>\n",
              "      <td>2</td>\n",
              "      <td>h</td>\n",
              "      <td>1035000.0</td>\n",
              "      <td>S</td>\n",
              "      <td>Biggin</td>\n",
              "      <td>4/02/2016</td>\n",
              "      <td>2.5</td>\n",
              "      <td>3067.0</td>\n",
              "      <td>2.0</td>\n",
              "      <td>1.0</td>\n",
              "      <td>0.0</td>\n",
              "      <td>156.0</td>\n",
              "      <td>Yarra</td>\n",
              "      <td>-37.8079</td>\n",
              "      <td>144.9934</td>\n",
              "      <td>Northern Metropolitan</td>\n",
              "      <td>4019.0</td>\n",
              "    </tr>\n",
              "    <tr>\n",
              "      <th>2</th>\n",
              "      <td>Abbotsford</td>\n",
              "      <td>5 Charles St</td>\n",
              "      <td>3</td>\n",
              "      <td>h</td>\n",
              "      <td>1465000.0</td>\n",
              "      <td>SP</td>\n",
              "      <td>Biggin</td>\n",
              "      <td>4/03/2017</td>\n",
              "      <td>2.5</td>\n",
              "      <td>3067.0</td>\n",
              "      <td>3.0</td>\n",
              "      <td>2.0</td>\n",
              "      <td>0.0</td>\n",
              "      <td>134.0</td>\n",
              "      <td>Yarra</td>\n",
              "      <td>-37.8093</td>\n",
              "      <td>144.9944</td>\n",
              "      <td>Northern Metropolitan</td>\n",
              "      <td>4019.0</td>\n",
              "    </tr>\n",
              "    <tr>\n",
              "      <th>3</th>\n",
              "      <td>Abbotsford</td>\n",
              "      <td>40 Federation La</td>\n",
              "      <td>3</td>\n",
              "      <td>h</td>\n",
              "      <td>850000.0</td>\n",
              "      <td>PI</td>\n",
              "      <td>Biggin</td>\n",
              "      <td>4/03/2017</td>\n",
              "      <td>2.5</td>\n",
              "      <td>3067.0</td>\n",
              "      <td>3.0</td>\n",
              "      <td>2.0</td>\n",
              "      <td>1.0</td>\n",
              "      <td>94.0</td>\n",
              "      <td>Yarra</td>\n",
              "      <td>-37.7969</td>\n",
              "      <td>144.9969</td>\n",
              "      <td>Northern Metropolitan</td>\n",
              "      <td>4019.0</td>\n",
              "    </tr>\n",
              "    <tr>\n",
              "      <th>4</th>\n",
              "      <td>Abbotsford</td>\n",
              "      <td>55a Park St</td>\n",
              "      <td>4</td>\n",
              "      <td>h</td>\n",
              "      <td>1600000.0</td>\n",
              "      <td>VB</td>\n",
              "      <td>Nelson</td>\n",
              "      <td>4/06/2016</td>\n",
              "      <td>2.5</td>\n",
              "      <td>3067.0</td>\n",
              "      <td>3.0</td>\n",
              "      <td>1.0</td>\n",
              "      <td>2.0</td>\n",
              "      <td>120.0</td>\n",
              "      <td>Yarra</td>\n",
              "      <td>-37.8072</td>\n",
              "      <td>144.9941</td>\n",
              "      <td>Northern Metropolitan</td>\n",
              "      <td>4019.0</td>\n",
              "    </tr>\n",
              "  </tbody>\n",
              "</table>\n",
              "</div>\n",
              "      <button class=\"colab-df-convert\" onclick=\"convertToInteractive('df-7f02c857-9928-437d-a54e-881bff84e7b3')\"\n",
              "              title=\"Convert this dataframe to an interactive table.\"\n",
              "              style=\"display:none;\">\n",
              "        \n",
              "  <svg xmlns=\"http://www.w3.org/2000/svg\" height=\"24px\"viewBox=\"0 0 24 24\"\n",
              "       width=\"24px\">\n",
              "    <path d=\"M0 0h24v24H0V0z\" fill=\"none\"/>\n",
              "    <path d=\"M18.56 5.44l.94 2.06.94-2.06 2.06-.94-2.06-.94-.94-2.06-.94 2.06-2.06.94zm-11 1L8.5 8.5l.94-2.06 2.06-.94-2.06-.94L8.5 2.5l-.94 2.06-2.06.94zm10 10l.94 2.06.94-2.06 2.06-.94-2.06-.94-.94-2.06-.94 2.06-2.06.94z\"/><path d=\"M17.41 7.96l-1.37-1.37c-.4-.4-.92-.59-1.43-.59-.52 0-1.04.2-1.43.59L10.3 9.45l-7.72 7.72c-.78.78-.78 2.05 0 2.83L4 21.41c.39.39.9.59 1.41.59.51 0 1.02-.2 1.41-.59l7.78-7.78 2.81-2.81c.8-.78.8-2.07 0-2.86zM5.41 20L4 18.59l7.72-7.72 1.47 1.35L5.41 20z\"/>\n",
              "  </svg>\n",
              "      </button>\n",
              "      \n",
              "  <style>\n",
              "    .colab-df-container {\n",
              "      display:flex;\n",
              "      flex-wrap:wrap;\n",
              "      gap: 12px;\n",
              "    }\n",
              "\n",
              "    .colab-df-convert {\n",
              "      background-color: #E8F0FE;\n",
              "      border: none;\n",
              "      border-radius: 50%;\n",
              "      cursor: pointer;\n",
              "      display: none;\n",
              "      fill: #1967D2;\n",
              "      height: 32px;\n",
              "      padding: 0 0 0 0;\n",
              "      width: 32px;\n",
              "    }\n",
              "\n",
              "    .colab-df-convert:hover {\n",
              "      background-color: #E2EBFA;\n",
              "      box-shadow: 0px 1px 2px rgba(60, 64, 67, 0.3), 0px 1px 3px 1px rgba(60, 64, 67, 0.15);\n",
              "      fill: #174EA6;\n",
              "    }\n",
              "\n",
              "    [theme=dark] .colab-df-convert {\n",
              "      background-color: #3B4455;\n",
              "      fill: #D2E3FC;\n",
              "    }\n",
              "\n",
              "    [theme=dark] .colab-df-convert:hover {\n",
              "      background-color: #434B5C;\n",
              "      box-shadow: 0px 1px 3px 1px rgba(0, 0, 0, 0.15);\n",
              "      filter: drop-shadow(0px 1px 2px rgba(0, 0, 0, 0.3));\n",
              "      fill: #FFFFFF;\n",
              "    }\n",
              "  </style>\n",
              "\n",
              "      <script>\n",
              "        const buttonEl =\n",
              "          document.querySelector('#df-7f02c857-9928-437d-a54e-881bff84e7b3 button.colab-df-convert');\n",
              "        buttonEl.style.display =\n",
              "          google.colab.kernel.accessAllowed ? 'block' : 'none';\n",
              "\n",
              "        async function convertToInteractive(key) {\n",
              "          const element = document.querySelector('#df-7f02c857-9928-437d-a54e-881bff84e7b3');\n",
              "          const dataTable =\n",
              "            await google.colab.kernel.invokeFunction('convertToInteractive',\n",
              "                                                     [key], {});\n",
              "          if (!dataTable) return;\n",
              "\n",
              "          const docLinkHtml = 'Like what you see? Visit the ' +\n",
              "            '<a target=\"_blank\" href=https://colab.research.google.com/notebooks/data_table.ipynb>data table notebook</a>'\n",
              "            + ' to learn more about interactive tables.';\n",
              "          element.innerHTML = '';\n",
              "          dataTable['output_type'] = 'display_data';\n",
              "          await google.colab.output.renderOutput(dataTable, element);\n",
              "          const docLink = document.createElement('div');\n",
              "          docLink.innerHTML = docLinkHtml;\n",
              "          element.appendChild(docLink);\n",
              "        }\n",
              "      </script>\n",
              "    </div>\n",
              "  </div>\n",
              "  "
            ]
          },
          "metadata": {},
          "execution_count": 3
        }
      ]
    },
    {
      "cell_type": "code",
      "source": [
        "col_groups = melb_df_2.columns.to_series().groupby(melb_df_2.dtypes).groups\n",
        "group_types = {k.name: v.tolist() for k, v in col_groups.items()}\n",
        "\n",
        "group_types"
      ],
      "metadata": {
        "colab": {
          "base_uri": "https://localhost:8080/"
        },
        "id": "itafnYHWGb_K",
        "outputId": "14b26ccb-71c0-4113-bea8-6f43b825b072"
      },
      "execution_count": 4,
      "outputs": [
        {
          "output_type": "execute_result",
          "data": {
            "text/plain": [
              "{'int64': ['Rooms'],\n",
              " 'float64': ['Price',\n",
              "  'Distance',\n",
              "  'Postcode',\n",
              "  'Bedroom2',\n",
              "  'Bathroom',\n",
              "  'Car',\n",
              "  'Landsize',\n",
              "  'Lattitude',\n",
              "  'Longtitude',\n",
              "  'Propertycount'],\n",
              " 'object': ['Suburb',\n",
              "  'Address',\n",
              "  'Type',\n",
              "  'Method',\n",
              "  'SellerG',\n",
              "  'Date',\n",
              "  'CouncilArea',\n",
              "  'Regionname']}"
            ]
          },
          "metadata": {},
          "execution_count": 4
        }
      ]
    },
    {
      "cell_type": "code",
      "metadata": {
        "id": "K_Qk43aLIl4d"
      },
      "source": [
        "categorical_cols = [x for x in group_types['object'] if x not in ['Address', 'Date']]#['Type']\n",
        "numerical_cols = group_types['float64'] + group_types['int64']"
      ],
      "execution_count": 5,
      "outputs": []
    },
    {
      "cell_type": "code",
      "metadata": {
        "colab": {
          "base_uri": "https://localhost:8080/"
        },
        "id": "oSNfW1BBJnV0",
        "outputId": "c834b969-ce30-4ee1-ec3e-cf1b0c27c5bc"
      },
      "source": [
        "melb_df_2[categorical_cols].nunique()"
      ],
      "execution_count": 6,
      "outputs": [
        {
          "output_type": "execute_result",
          "data": {
            "text/plain": [
              "Suburb         314\n",
              "Type             3\n",
              "Method           5\n",
              "SellerG        268\n",
              "CouncilArea     33\n",
              "Regionname       8\n",
              "dtype: int64"
            ]
          },
          "metadata": {},
          "execution_count": 6
        }
      ]
    },
    {
      "cell_type": "code",
      "metadata": {
        "colab": {
          "base_uri": "https://localhost:8080/"
        },
        "id": "XPDDOVHNNywn",
        "outputId": "b5e8a1f0-cb4b-494e-8ea8-2795a879385f"
      },
      "source": [
        "# Check for nulls\n",
        "melb_df_2[categorical_cols].isna().sum()"
      ],
      "execution_count": 7,
      "outputs": [
        {
          "output_type": "execute_result",
          "data": {
            "text/plain": [
              "Suburb            0\n",
              "Type              0\n",
              "Method            0\n",
              "SellerG           0\n",
              "CouncilArea    1369\n",
              "Regionname        0\n",
              "dtype: int64"
            ]
          },
          "metadata": {},
          "execution_count": 7
        }
      ]
    },
    {
      "cell_type": "code",
      "source": [
        "cat_dict = [melb_df_2[k].unique().tolist() for k in categorical_cols]\n",
        "#cat_dict"
      ],
      "metadata": {
        "id": "6LkgECS8L04W"
      },
      "execution_count": 8,
      "outputs": []
    },
    {
      "cell_type": "code",
      "source": [
        "# Ejercicio 1.2\n",
        "from sklearn.preprocessing import OneHotEncoder\n",
        "\n",
        "encoder = OneHotEncoder(sparse=False, categories=cat_dict)\n",
        "encoder.fit(melb_df_2[categorical_cols])\n",
        "# We can inspect the categories found by the encoder \n",
        "encoder.categories_"
      ],
      "metadata": {
        "id": "yHw0DjZEDvTe",
        "colab": {
          "base_uri": "https://localhost:8080/"
        },
        "outputId": "3c557d3a-ce2c-4a8c-d9c5-6132156c925a"
      },
      "execution_count": 9,
      "outputs": [
        {
          "output_type": "execute_result",
          "data": {
            "text/plain": [
              "[array(['Abbotsford', 'Airport West', 'Albert Park', 'Alphington',\n",
              "        'Altona', 'Altona North', 'Armadale', 'Ascot Vale', 'Ashburton',\n",
              "        'Ashwood', 'Avondale Heights', 'Balaclava', 'Balwyn',\n",
              "        'Balwyn North', 'Bentleigh', 'Bentleigh East', 'Box Hill',\n",
              "        'Braybrook', 'Brighton', 'Brighton East', 'Brunswick',\n",
              "        'Brunswick West', 'Bulleen', 'Burwood', 'Camberwell', 'Canterbury',\n",
              "        'Carlton North', 'Carnegie', 'Caulfield', 'Caulfield North',\n",
              "        'Caulfield South', 'Chadstone', 'Clifton Hill', 'Coburg',\n",
              "        'Coburg North', 'Collingwood', 'Doncaster', 'Eaglemont',\n",
              "        'Elsternwick', 'Elwood', 'Essendon', 'Essendon North', 'Fairfield',\n",
              "        'Fitzroy', 'Fitzroy North', 'Flemington', 'Footscray', 'Glen Iris',\n",
              "        'Glenroy', 'Gowanbrae', 'Hadfield', 'Hampton', 'Hampton East',\n",
              "        'Hawthorn', 'Heidelberg Heights', 'Heidelberg West', 'Hughesdale',\n",
              "        'Ivanhoe', 'Kealba', 'Keilor East', 'Kensington', 'Kew',\n",
              "        'Kew East', 'Kooyong', 'Maidstone', 'Malvern', 'Malvern East',\n",
              "        'Maribyrnong', 'Melbourne', 'Middle Park', 'Mont Albert',\n",
              "        'Moonee Ponds', 'Moorabbin', 'Newport', 'Niddrie',\n",
              "        'North Melbourne', 'Northcote', 'Oak Park', 'Oakleigh South',\n",
              "        'Parkville', 'Pascoe Vale', 'Port Melbourne', 'Prahran', 'Preston',\n",
              "        'Reservoir', 'Richmond', 'Rosanna', 'Seddon', 'South Melbourne',\n",
              "        'South Yarra', 'Southbank', 'Spotswood', 'St Kilda', 'Strathmore',\n",
              "        'Sunshine', 'Sunshine North', 'Sunshine West', 'Surrey Hills',\n",
              "        'Templestowe Lower', 'Thornbury', 'Toorak', 'Viewbank', 'Watsonia',\n",
              "        'West Melbourne', 'Williamstown', 'Williamstown North', 'Windsor',\n",
              "        'Yallambie', 'Yarraville', 'Aberfeldie', 'Bellfield',\n",
              "        'Brunswick East', 'Burnley', 'Campbellfield', 'Carlton',\n",
              "        'East Melbourne', 'Essendon West', 'Fawkner', 'Hawthorn East',\n",
              "        'Heidelberg', 'Ivanhoe East', 'Jacana', 'Kingsbury', 'Kingsville',\n",
              "        'Murrumbeena', 'Ormond', 'West Footscray', 'Albion', 'Brooklyn',\n",
              "        'Glen Huntly', 'Oakleigh', 'Ripponlea', 'Cremorne', 'Docklands',\n",
              "        'South Kingsville', 'Strathmore Heights', 'Travancore',\n",
              "        'Caulfield East', 'Seaholme', 'Keilor Park', 'Gardenvale',\n",
              "        'Princes Hill', 'Bayswater', 'Bayswater North', 'Beaumaris',\n",
              "        'Berwick', 'Boronia', 'Briar Hill', 'Broadmeadows', 'Bundoora',\n",
              "        'Burnside Heights', 'Burwood East', 'Cairnlea', 'Caroline Springs',\n",
              "        'Cheltenham', 'Craigieburn', 'Cranbourne', 'Croydon', 'Dandenong',\n",
              "        'Dandenong North', 'Diamond Creek', 'Dingley Village',\n",
              "        'Doncaster East', 'Donvale', 'Doreen', 'Eltham', 'Epping',\n",
              "        'Forest Hill', 'Frankston', 'Frankston North', 'Frankston South',\n",
              "        'Gisborne', 'Gladstone Park', 'Greensborough', 'Hallam',\n",
              "        'Healesville', 'Highett', 'Hillside', 'Huntingdale',\n",
              "        'Keilor Downs', 'Keilor Lodge', 'Keysborough', 'Kings Park',\n",
              "        'Lalor', 'Lower Plenty', 'Melton', 'Mernda', 'Mill Park',\n",
              "        'Mitcham', 'Montmorency', 'Mordialloc', 'Mount Waverley',\n",
              "        'Narre Warren', 'Nunawading', 'Oakleigh East', 'Parkdale',\n",
              "        'Point Cook', 'Ringwood East', 'Rockbank', 'Rowville',\n",
              "        'Sandringham', 'Seaford', 'Skye', 'South Morang', 'Springvale',\n",
              "        'St Albans', 'Sunbury', 'Tarneit', 'Taylors Hill', 'Taylors Lakes',\n",
              "        'The Basin', 'Thomastown', 'Truganina', 'Tullamarine', 'Vermont',\n",
              "        'Wantirna', 'Wantirna South', 'Werribee', 'Westmeadows',\n",
              "        'Williams Landing', 'Wollert', 'Wyndham Vale', 'Black Rock',\n",
              "        'Blackburn', 'Blackburn North', 'Bonbeach', 'Carrum', 'Chelsea',\n",
              "        'Clayton', 'Doveton', 'Ferntree Gully', 'Glen Waverley',\n",
              "        'Greenvale', 'Heathmont', 'Hoppers Crossing', 'McKinnon',\n",
              "        'Melton South', 'Melton West', 'Mentone', 'Mooroolbark',\n",
              "        'Mulgrave', 'Ringwood', 'Roxburgh Park', 'Seabrook', 'Templestowe',\n",
              "        'Vermont South', 'Warrandyte', 'Watsonia North', 'Wheelers Hill',\n",
              "        'Altona Meadows', 'Blackburn South', 'Carrum Downs',\n",
              "        'Clayton South', 'Croydon North', 'Langwarrin', 'Noble Park',\n",
              "        'Notting Hill', 'Ringwood North', 'Sydenham', 'Albanvale',\n",
              "        'Beaconsfield Upper', 'Chelsea Heights', 'Dallas', 'Deer Park',\n",
              "        'Eltham North', 'Keilor', 'Meadow Heights', 'Mount Evelyn',\n",
              "        'North Warrandyte', 'Pakenham', 'Riddells Creek', 'Sandhurst',\n",
              "        'Scoresby', 'Silvan', 'Aspendale', 'Chirnside Park',\n",
              "        'Croydon Hills', 'Croydon South', 'Derrimut', 'Diggers Rest',\n",
              "        'Edithvale', 'Hampton Park', 'Knoxfield', 'St Helena', 'Upwey',\n",
              "        'Bacchus Marsh', 'Coolaroo', 'Cranbourne North', 'Kilsyth',\n",
              "        'Montrose', 'Aspendale Gardens', 'Bullengarook', 'Clarinda',\n",
              "        'Deepdene', 'Delahey', 'Hurstbridge', 'Kurunjang', 'Wonga Park',\n",
              "        'Endeavour Hills', 'Officer', 'Waterways', 'Ardeer',\n",
              "        'Beaconsfield', 'Springvale South', 'Yarra Glen', 'Brookfield',\n",
              "        'Emerald', 'Whittlesea', 'Burnside', 'Attwood', 'Wallan',\n",
              "        'New Gisborne', 'Plumpton', 'Monbulk'], dtype=object),\n",
              " array(['h', 'u', 't'], dtype=object),\n",
              " array(['S', 'SP', 'PI', 'VB', 'SA'], dtype=object),\n",
              " array(['Biggin', 'Nelson', 'Jellis', 'Greg', 'LITTLE', 'Collins', 'Kay',\n",
              "        'Beller', 'Marshall', 'Brad', 'Maddison', 'Barry', 'Considine',\n",
              "        'Rendina', 'Propertyau', 'McDonald', 'Prof.', 'Harcourts',\n",
              "        'hockingstuart', 'Thomson', 'Buxton', 'RT', \"Sotheby's\", 'Cayzer',\n",
              "        'Chisholm', 'Brace', 'Miles', 'McGrath', 'Love', 'Barlow',\n",
              "        'Sweeney', 'Village', 'Jas', 'Gunn&Co', 'Burnham', 'Williams',\n",
              "        'Compton', 'FN', 'Raine&Horne', 'Hunter', 'Noel', 'Hodges', 'Ray',\n",
              "        'Gary', 'Fletchers', 'Woodards', 'Raine', 'Walshe', 'Alexkarbon',\n",
              "        'Weda', 'Frank', 'Stockdale', 'Tim', 'Purplebricks', 'Moonee',\n",
              "        'HAR', 'Edward', 'Philip', 'RW', 'North', 'Ascend', 'Christopher',\n",
              "        'Mandy', 'R&H', 'Fletchers/One', 'Assisi', 'One', \"O'Brien\", 'C21',\n",
              "        'Bayside', 'Paul', 'First', 'Matthew', 'Anderson', 'Nick',\n",
              "        'Lindellas', 'Allens', 'Bells', 'Trimson', 'Douglas', 'YPA', 'GL',\n",
              "        \"Tiernan's\", 'J', 'Harrington', 'Dingle', 'Chambers', 'Peter',\n",
              "        'Grantham', 'hockingstuart/Advantage', \"O'Donoghues\", 'Bekdon',\n",
              "        'Ross', 'Garvey', 'Weast', 'Century', 'Kelly', 'Property',\n",
              "        \"Private/Tiernan's\", 'Australian', 'Rodney', \"Abercromby's\",\n",
              "        'Castran', 'iTRAK', 'Del', 'Nicholson', 'ASL', 'Re', 'RE',\n",
              "        'Darren', 'Parkes', 'Vic', 'Holland', 'Scott', 'Pride', 'Owen',\n",
              "        'Morleys', 'Wilson', 'Buxton/Advantage', 'Pagan', 'Joe', 'Red',\n",
              "        'Thomas', 'Caine', 'Naison', 'Sweeney/Advantage', 'Jason', 'Eview',\n",
              "        'Melbourne', \"D'Aprano\", 'CASTRAN', 'Morrison', 'Wood', 'Haughton',\n",
              "        'William', 'Coventry', 'Buckingham', 'Domain', 'Nardella', 'Reach',\n",
              "        'Walsh', 'LJ', 'Nguyen', 'Direct', 'Besser', 'Johnston', 'Redina',\n",
              "        'Clairmont', 'Changing', 'Galldon', 'MICM', 'Elite', 'Buxton/Find',\n",
              "        'W.B.', 'Leased', 'New', 'Geoff', 'hockingstuart/Barry', 'Blue',\n",
              "        'Whiting', 'Steveway', 'Parkinson', 'VICPROP', 'Charlton', 'S&L',\n",
              "        'Calder', 'Homes', 'Zahn', 'Mason', 'David', 'Dixon', 'Luxe',\n",
              "        'Prowse', 'Ken', 'iOne', 'hockingstuart/Village', 'JMRE', 'Iconek',\n",
              "        'Crane', 'Luxton', 'Hooper', 'Oak', 'White', 'Weston', 'Reed',\n",
              "        'Oriental', 'Craig', 'Max', 'Rosin', 'Real', 'Hall', 'Ham',\n",
              "        'buyMyplace', 'WHITEFOX', 'Metro', 'Hoskins', 'McLennan',\n",
              "        'PRDNationwide', 'Only', 'Obrien', 'Reliance', 'Lucas', 'Rounds',\n",
              "        'Millership', 'iSell', 'Appleby', '@Realty', 'Jim', 'Ace', 'JRW',\n",
              "        'Carter', 'M.J', 'iProperty', 'Triwest', 'Hayeswinckle',\n",
              "        'Schroeder', 'VICProp', 'REMAX', 'Victory', 'Smart', 'Mindacom',\n",
              "        'Ryder', 'Win', 'Asset', 'LLC', 'Mitchell', 'U', 'Leyton',\n",
              "        'Conquest', 'Prime', 'Community', 'Free', 'Veitch', 'Peake',\n",
              "        'Sell', 'Ristic', 'Ash', 'Upper', 'Daniel', 'Xynergy', 'Westside',\n",
              "        'Leeburn', 'TRUE', 'Keatings', 'Leading', 'Bullen', 'Better',\n",
              "        'Aquire', 'Langwell', 'Gardiner', 'Kaye', 'Nicholls', 'Bowman',\n",
              "        'Meadows', 'McNaughton', 'The', 'L', 'Darras', 'Roger', 'Follett',\n",
              "        'Le', 'Joseph', 'Boutique', 'Area', 'SN', 'PRD', 'Rexhepi',\n",
              "        'Point'], dtype=object),\n",
              " array(['Yarra', 'Moonee Valley', 'Port Phillip', 'Darebin', 'Hobsons Bay',\n",
              "        'Stonnington', 'Boroondara', 'Monash', 'Glen Eira', 'Whitehorse',\n",
              "        'Maribyrnong', 'Bayside', 'Moreland', 'Manningham', 'Banyule',\n",
              "        'Melbourne', 'Kingston', 'Brimbank', 'Hume', nan, 'Knox',\n",
              "        'Maroondah', 'Casey', 'Melton', 'Greater Dandenong', 'Nillumbik',\n",
              "        'Whittlesea', 'Frankston', 'Macedon Ranges', 'Yarra Ranges',\n",
              "        'Wyndham', 'Cardinia', 'Unavailable', 'Moorabool'], dtype=object),\n",
              " array(['Northern Metropolitan', 'Western Metropolitan',\n",
              "        'Southern Metropolitan', 'Eastern Metropolitan',\n",
              "        'South-Eastern Metropolitan', 'Eastern Victoria',\n",
              "        'Northern Victoria', 'Western Victoria'], dtype=object)]"
            ]
          },
          "metadata": {},
          "execution_count": 9
        }
      ]
    },
    {
      "cell_type": "code",
      "source": [
        "melb_cat_encoded = encoder.transform(melb_df_2[categorical_cols])\n",
        "melb_cat_encoded[:10]"
      ],
      "metadata": {
        "colab": {
          "base_uri": "https://localhost:8080/"
        },
        "id": "bNmkcQpnNhVh",
        "outputId": "8552406d-d01c-482a-9712-f7077a881976"
      },
      "execution_count": 10,
      "outputs": [
        {
          "output_type": "execute_result",
          "data": {
            "text/plain": [
              "array([[1., 0., 0., ..., 0., 0., 0.],\n",
              "       [1., 0., 0., ..., 0., 0., 0.],\n",
              "       [1., 0., 0., ..., 0., 0., 0.],\n",
              "       ...,\n",
              "       [1., 0., 0., ..., 0., 0., 0.],\n",
              "       [1., 0., 0., ..., 0., 0., 0.],\n",
              "       [1., 0., 0., ..., 0., 0., 0.]])"
            ]
          },
          "metadata": {},
          "execution_count": 10
        }
      ]
    },
    {
      "cell_type": "code",
      "source": [
        "# Pasamos los valores numéricos a un array\n",
        "melb_num = melb_df_2[numerical_cols].values\n",
        "# Juntamos los arrays de columnas categóricas y numéricas\n",
        "encoded_df = numpy.hstack((melb_cat_encoded, melb_num))"
      ],
      "metadata": {
        "id": "8Hm0Fq6ajFwY"
      },
      "execution_count": 11,
      "outputs": []
    },
    {
      "cell_type": "markdown",
      "source": [
        "Rearmamos el DataFrame a partir de la matriz encoded"
      ],
      "metadata": {
        "id": "-ZpzRiPmNTVs"
      }
    },
    {
      "cell_type": "markdown",
      "source": [
        "Primero obtenemos los nombres de las columnas de la matriz expandida"
      ],
      "metadata": {
        "id": "SxwPS6gGRX35"
      }
    },
    {
      "cell_type": "code",
      "source": [
        "new_columns_names = [] \n",
        "\n",
        "for i, group in enumerate(encoder.categories_):\n",
        "  categorical_col = categorical_cols[i]\n",
        "  for value in group:\n",
        "    new_columns_names.append(f\"{categorical_col}={value}\")\n",
        "\n",
        "new_columns_names += numerical_cols\n",
        "\n",
        "len(new_columns_names)"
      ],
      "metadata": {
        "colab": {
          "base_uri": "https://localhost:8080/"
        },
        "id": "BbNhfIn7Naf7",
        "outputId": "49bec3f7-b6e0-4bf9-9782-12c69cf5d7c6"
      },
      "execution_count": 12,
      "outputs": [
        {
          "output_type": "execute_result",
          "data": {
            "text/plain": [
              "643"
            ]
          },
          "metadata": {},
          "execution_count": 12
        }
      ]
    },
    {
      "cell_type": "markdown",
      "source": [
        "Luego creamos el DataFrame"
      ],
      "metadata": {
        "id": "N2exs7uKRd7d"
      }
    },
    {
      "cell_type": "code",
      "source": [
        "encoded_df = pandas.DataFrame(encoded_df,columns=new_columns_names)\n"
      ],
      "metadata": {
        "id": "e8SZ4zBsRhae"
      },
      "execution_count": 13,
      "outputs": []
    },
    {
      "cell_type": "markdown",
      "metadata": {
        "id": "ismngxPcfoWb"
      },
      "source": [
        "## Ejercicio 2: Imputación por KNN\n",
        "\n",
        "En el teórico se presentó el método `IterativeImputer` para imputar valores faltantes en variables numéricas. Sin embargo, los ejemplos presentados sólo utilizaban algunas variables numéricas presentes en el conjunto de datos. En este ejercicio, utilizaremos la matriz de datos codificada para imputar datos faltantes de manera más precisa.\n",
        "\n",
        "1. Agregue a la matriz obtenida en el punto anterior las columnas `YearBuilt` y `BuildingArea`.\n",
        "2. Aplique una instancia de `IterativeImputer` con un estimador `KNeighborsRegressor` para imputar los valores de las variables. ¿Es necesario estandarizar o escalar los datos previamente?\n",
        "3. Realice un gráfico mostrando la distribución de cada variable antes de ser imputada, y con ambos métodos de imputación."
      ]
    },
    {
      "cell_type": "markdown",
      "source": [
        "### Ejercicio 2.1\n",
        "Agregamos a la matriz obtenida en el punto anterior las columnas YearBuilt y BuildingArea."
      ],
      "metadata": {
        "id": "f4v56okloDHq"
      }
    },
    {
      "cell_type": "code",
      "source": [
        "encoded_df.shape"
      ],
      "metadata": {
        "colab": {
          "base_uri": "https://localhost:8080/"
        },
        "id": "AD8jzJ9JqvcA",
        "outputId": "a20f3aa7-aaaf-466d-beb8-2f867206ad64"
      },
      "execution_count": 14,
      "outputs": [
        {
          "output_type": "execute_result",
          "data": {
            "text/plain": [
              "(13580, 643)"
            ]
          },
          "metadata": {},
          "execution_count": 14
        }
      ]
    },
    {
      "cell_type": "code",
      "source": [
        "encoded_df[\"BuildingArea\"] = melb_df[\"BuildingArea\"]\n",
        "encoded_df[\"YearBuilt\"] = melb_df[\"YearBuilt\"]\n",
        "encoded_df.shape"
      ],
      "metadata": {
        "colab": {
          "base_uri": "https://localhost:8080/"
        },
        "id": "T7D6JDKyqK3d",
        "outputId": "47836cac-33ab-4cf7-be28-abac066a006e"
      },
      "execution_count": 15,
      "outputs": [
        {
          "output_type": "execute_result",
          "data": {
            "text/plain": [
              "(13580, 645)"
            ]
          },
          "metadata": {},
          "execution_count": 15
        }
      ]
    },
    {
      "cell_type": "markdown",
      "source": [
        "Removemos los outliers"
      ],
      "metadata": {
        "id": "BXf026eSmah-"
      }
    },
    {
      "cell_type": "code",
      "source": [
        "def remove_outlier(df_in, col_name):\n",
        "    q1 = df_in[col_name].quantile(0.25)\n",
        "    q3 = df_in[col_name].quantile(0.75)\n",
        "    iqr = q3-q1 #Interquartile range\n",
        "    fence_low  = q1-1.5*iqr\n",
        "    fence_high = q3+1.5*iqr\n",
        "    df_out = df_in.loc[((df_in[col_name] > fence_low) & (df_in[col_name] < fence_high)) \n",
        "      | df_in[col_name].isna() \n",
        "      | df_in[col_name].isnull()]\n",
        "    return df_out\n",
        "\n",
        "encoded_df = remove_outlier(encoded_df, \"BuildingArea\")\n",
        "encoded_df = remove_outlier(encoded_df, \"YearBuilt\")"
      ],
      "metadata": {
        "id": "6E1OO4G_rSwC"
      },
      "execution_count": 16,
      "outputs": []
    },
    {
      "cell_type": "markdown",
      "source": [
        "Visualizamos la cantidad de valores faltantes para BuilingArea y YearBuilt"
      ],
      "metadata": {
        "id": "_1gVzVL_H3GV"
      }
    },
    {
      "cell_type": "code",
      "source": [
        "import missingno as msno\n",
        "\n",
        "msno.bar(encoded_df[[\"BuildingArea\", \"YearBuilt\"]],figsize=(12, 6), fontsize=12, color='steelblue')"
      ],
      "metadata": {
        "colab": {
          "base_uri": "https://localhost:8080/",
          "height": 493
        },
        "id": "2vD_D6-JH8jZ",
        "outputId": "a05ff1ca-472f-4984-de1b-55a0c420b0d4"
      },
      "execution_count": 17,
      "outputs": [
        {
          "output_type": "execute_result",
          "data": {
            "text/plain": [
              "<matplotlib.axes._subplots.AxesSubplot at 0x7f009d926150>"
            ]
          },
          "metadata": {},
          "execution_count": 17
        },
        {
          "output_type": "display_data",
          "data": {
            "text/plain": [
              "<Figure size 864x432 with 3 Axes>"
            ],
            "image/png": "[encoded data removed]"
          },
          "metadata": {
            "needs_background": "light"
          }
        }
      ]
    },
    {
      "cell_type": "markdown",
      "source": [
        "### Ejercicio 2.2\n",
        "KNeighborsRegressor requiere estandarizar los datos para evitar que Sckit Learn introduzca valores sesgados al momento de imputar"
      ],
      "metadata": {
        "id": "9lLeapMqstOz"
      }
    },
    {
      "cell_type": "code",
      "source": [
        "building_area_and_year_built_columns = [\"BuildingArea\", \"YearBuilt\"]\n",
        "new_columns_names += building_area_and_year_built_columns"
      ],
      "metadata": {
        "id": "LntLlsk6Wecr"
      },
      "execution_count": 18,
      "outputs": []
    },
    {
      "cell_type": "code",
      "source": [
        "from sklearn.preprocessing import StandardScaler\n",
        "scaler = StandardScaler()\n",
        "standardized_encoded_df = pandas.DataFrame(scaler.fit_transform(encoded_df), columns=new_columns_names)\n",
        "\n",
        "standardized_encoded_df[:3]"
      ],
      "metadata": {
        "colab": {
          "base_uri": "https://localhost:8080/",
          "height": 254
        },
        "id": "1ewn1EIB2GBR",
        "outputId": "31a76c26-9cce-4d88-89bd-ed57f8c3ca60"
      },
      "execution_count": 19,
      "outputs": [
        {
          "output_type": "execute_result",
          "data": {
            "text/plain": [
              "   Suburb=Abbotsford  Suburb=Airport West  Suburb=Albert Park  \\\n",
              "0          15.332622            -0.070832           -0.072432   \n",
              "1          15.332622            -0.070832           -0.072432   \n",
              "2          15.332622            -0.070832           -0.072432   \n",
              "\n",
              "   Suburb=Alphington  Suburb=Altona  Suburb=Altona North  Suburb=Armadale  \\\n",
              "0          -0.050777      -0.075024             -0.06404        -0.084167   \n",
              "1          -0.050777      -0.075024             -0.06404        -0.084167   \n",
              "2          -0.050777      -0.075024             -0.06404        -0.084167   \n",
              "\n",
              "   Suburb=Ascot Vale  Suburb=Ashburton  Suburb=Ashwood  ...  Bedroom2  \\\n",
              "0          -0.098875         -0.064633       -0.057785  ... -0.934034   \n",
              "1          -0.098875         -0.064633       -0.057785  ... -0.934034   \n",
              "2          -0.098875         -0.064633       -0.057785  ...  0.126956   \n",
              "\n",
              "   Bathroom       Car  Landsize  Lattitude  Longtitude  Propertycount  \\\n",
              "0 -0.771152 -0.620752 -0.086573   0.116760    0.040823      -0.784421   \n",
              "1 -0.771152 -1.673390 -0.098000   0.011694   -0.007376      -0.784421   \n",
              "2  0.763837 -1.673390 -0.103465  -0.006028    0.002264      -0.784421   \n",
              "\n",
              "      Rooms  BuildingArea  YearBuilt  \n",
              "0 -0.970381           NaN        NaN  \n",
              "1 -0.970381     -0.906249  -1.786627  \n",
              "2  0.103929      0.340214  -1.786627  \n",
              "\n",
              "[3 rows x 645 columns]"
            ],
            "text/html": [
              "\n",
              "  <div id=\"df-4b2d38cf-8c3f-4f58-9ebb-21b6c450f58e\">\n",
              "    <div class=\"colab-df-container\">\n",
              "      <div>\n",
              "<style scoped>\n",
              "    .dataframe tbody tr th:only-of-type {\n",
              "        vertical-align: middle;\n",
              "    }\n",
              "\n",
              "    .dataframe tbody tr th {\n",
              "        vertical-align: top;\n",
              "    }\n",
              "\n",
              "    .dataframe thead th {\n",
              "        text-align: right;\n",
              "    }\n",
              "</style>\n",
              "<table border=\"1\" class=\"dataframe\">\n",
              "  <thead>\n",
              "    <tr style=\"text-align: right;\">\n",
              "      <th></th>\n",
              "      <th>Suburb=Abbotsford</th>\n",
              "      <th>Suburb=Airport West</th>\n",
              "      <th>Suburb=Albert Park</th>\n",
              "      <th>Suburb=Alphington</th>\n",
              "      <th>Suburb=Altona</th>\n",
              "      <th>Suburb=Altona North</th>\n",
              "      <th>Suburb=Armadale</th>\n",
              "      <th>Suburb=Ascot Vale</th>\n",
              "      <th>Suburb=Ashburton</th>\n",
              "      <th>Suburb=Ashwood</th>\n",
              "      <th>...</th>\n",
              "      <th>Bedroom2</th>\n",
              "      <th>Bathroom</th>\n",
              "      <th>Car</th>\n",
              "      <th>Landsize</th>\n",
              "      <th>Lattitude</th>\n",
              "      <th>Longtitude</th>\n",
              "      <th>Propertycount</th>\n",
              "      <th>Rooms</th>\n",
              "      <th>BuildingArea</th>\n",
              "      <th>YearBuilt</th>\n",
              "    </tr>\n",
              "  </thead>\n",
              "  <tbody>\n",
              "    <tr>\n",
              "      <th>0</th>\n",
              "      <td>15.332622</td>\n",
              "      <td>-0.070832</td>\n",
              "      <td>-0.072432</td>\n",
              "      <td>-0.050777</td>\n",
              "      <td>-0.075024</td>\n",
              "      <td>-0.06404</td>\n",
              "      <td>-0.084167</td>\n",
              "      <td>-0.098875</td>\n",
              "      <td>-0.064633</td>\n",
              "      <td>-0.057785</td>\n",
              "      <td>...</td>\n",
              "      <td>-0.934034</td>\n",
              "      <td>-0.771152</td>\n",
              "      <td>-0.620752</td>\n",
              "      <td>-0.086573</td>\n",
              "      <td>0.116760</td>\n",
              "      <td>0.040823</td>\n",
              "      <td>-0.784421</td>\n",
              "      <td>-0.970381</td>\n",
              "      <td>NaN</td>\n",
              "      <td>NaN</td>\n",
              "    </tr>\n",
              "    <tr>\n",
              "      <th>1</th>\n",
              "      <td>15.332622</td>\n",
              "      <td>-0.070832</td>\n",
              "      <td>-0.072432</td>\n",
              "      <td>-0.050777</td>\n",
              "      <td>-0.075024</td>\n",
              "      <td>-0.06404</td>\n",
              "      <td>-0.084167</td>\n",
              "      <td>-0.098875</td>\n",
              "      <td>-0.064633</td>\n",
              "      <td>-0.057785</td>\n",
              "      <td>...</td>\n",
              "      <td>-0.934034</td>\n",
              "      <td>-0.771152</td>\n",
              "      <td>-1.673390</td>\n",
              "      <td>-0.098000</td>\n",
              "      <td>0.011694</td>\n",
              "      <td>-0.007376</td>\n",
              "      <td>-0.784421</td>\n",
              "      <td>-0.970381</td>\n",
              "      <td>-0.906249</td>\n",
              "      <td>-1.786627</td>\n",
              "    </tr>\n",
              "    <tr>\n",
              "      <th>2</th>\n",
              "      <td>15.332622</td>\n",
              "      <td>-0.070832</td>\n",
              "      <td>-0.072432</td>\n",
              "      <td>-0.050777</td>\n",
              "      <td>-0.075024</td>\n",
              "      <td>-0.06404</td>\n",
              "      <td>-0.084167</td>\n",
              "      <td>-0.098875</td>\n",
              "      <td>-0.064633</td>\n",
              "      <td>-0.057785</td>\n",
              "      <td>...</td>\n",
              "      <td>0.126956</td>\n",
              "      <td>0.763837</td>\n",
              "      <td>-1.673390</td>\n",
              "      <td>-0.103465</td>\n",
              "      <td>-0.006028</td>\n",
              "      <td>0.002264</td>\n",
              "      <td>-0.784421</td>\n",
              "      <td>0.103929</td>\n",
              "      <td>0.340214</td>\n",
              "      <td>-1.786627</td>\n",
              "    </tr>\n",
              "  </tbody>\n",
              "</table>\n",
              "<p>3 rows × 645 columns</p>\n",
              "</div>\n",
              "      <button class=\"colab-df-convert\" onclick=\"convertToInteractive('df-4b2d38cf-8c3f-4f58-9ebb-21b6c450f58e')\"\n",
              "              title=\"Convert this dataframe to an interactive table.\"\n",
              "              style=\"display:none;\">\n",
              "        \n",
              "  <svg xmlns=\"http://www.w3.org/2000/svg\" height=\"24px\"viewBox=\"0 0 24 24\"\n",
              "       width=\"24px\">\n",
              "    <path d=\"M0 0h24v24H0V0z\" fill=\"none\"/>\n",
              "    <path d=\"M18.56 5.44l.94 2.06.94-2.06 2.06-.94-2.06-.94-.94-2.06-.94 2.06-2.06.94zm-11 1L8.5 8.5l.94-2.06 2.06-.94-2.06-.94L8.5 2.5l-.94 2.06-2.06.94zm10 10l.94 2.06.94-2.06 2.06-.94-2.06-.94-.94-2.06-.94 2.06-2.06.94z\"/><path d=\"M17.41 7.96l-1.37-1.37c-.4-.4-.92-.59-1.43-.59-.52 0-1.04.2-1.43.59L10.3 9.45l-7.72 7.72c-.78.78-.78 2.05 0 2.83L4 21.41c.39.39.9.59 1.41.59.51 0 1.02-.2 1.41-.59l7.78-7.78 2.81-2.81c.8-.78.8-2.07 0-2.86zM5.41 20L4 18.59l7.72-7.72 1.47 1.35L5.41 20z\"/>\n",
              "  </svg>\n",
              "      </button>\n",
              "      \n",
              "  <style>\n",
              "    .colab-df-container {\n",
              "      display:flex;\n",
              "      flex-wrap:wrap;\n",
              "      gap: 12px;\n",
              "    }\n",
              "\n",
              "    .colab-df-convert {\n",
              "      background-color: #E8F0FE;\n",
              "      border: none;\n",
              "      border-radius: 50%;\n",
              "      cursor: pointer;\n",
              "      display: none;\n",
              "      fill: #1967D2;\n",
              "      height: 32px;\n",
              "      padding: 0 0 0 0;\n",
              "      width: 32px;\n",
              "    }\n",
              "\n",
              "    .colab-df-convert:hover {\n",
              "      background-color: #E2EBFA;\n",
              "      box-shadow: 0px 1px 2px rgba(60, 64, 67, 0.3), 0px 1px 3px 1px rgba(60, 64, 67, 0.15);\n",
              "      fill: #174EA6;\n",
              "    }\n",
              "\n",
              "    [theme=dark] .colab-df-convert {\n",
              "      background-color: #3B4455;\n",
              "      fill: #D2E3FC;\n",
              "    }\n",
              "\n",
              "    [theme=dark] .colab-df-convert:hover {\n",
              "      background-color: #434B5C;\n",
              "      box-shadow: 0px 1px 3px 1px rgba(0, 0, 0, 0.15);\n",
              "      filter: drop-shadow(0px 1px 2px rgba(0, 0, 0, 0.3));\n",
              "      fill: #FFFFFF;\n",
              "    }\n",
              "  </style>\n",
              "\n",
              "      <script>\n",
              "        const buttonEl =\n",
              "          document.querySelector('#df-4b2d38cf-8c3f-4f58-9ebb-21b6c450f58e button.colab-df-convert');\n",
              "        buttonEl.style.display =\n",
              "          google.colab.kernel.accessAllowed ? 'block' : 'none';\n",
              "\n",
              "        async function convertToInteractive(key) {\n",
              "          const element = document.querySelector('#df-4b2d38cf-8c3f-4f58-9ebb-21b6c450f58e');\n",
              "          const dataTable =\n",
              "            await google.colab.kernel.invokeFunction('convertToInteractive',\n",
              "                                                     [key], {});\n",
              "          if (!dataTable) return;\n",
              "\n",
              "          const docLinkHtml = 'Like what you see? Visit the ' +\n",
              "            '<a target=\"_blank\" href=https://colab.research.google.com/notebooks/data_table.ipynb>data table notebook</a>'\n",
              "            + ' to learn more about interactive tables.';\n",
              "          element.innerHTML = '';\n",
              "          dataTable['output_type'] = 'display_data';\n",
              "          await google.colab.output.renderOutput(dataTable, element);\n",
              "          const docLink = document.createElement('div');\n",
              "          docLink.innerHTML = docLinkHtml;\n",
              "          element.appendChild(docLink);\n",
              "        }\n",
              "      </script>\n",
              "    </div>\n",
              "  </div>\n",
              "  "
            ]
          },
          "metadata": {},
          "execution_count": 19
        }
      ]
    },
    {
      "cell_type": "markdown",
      "source": [
        "Creamos dos copias del DataFrame estandarizado: uno para cada método de imputación.\n",
        "\n",
        "1. imputed_by_numerical_columns_df_scaled\n",
        "2. imputed_by_building_area_and_year_built_df_scaled\n",
        "\n",
        "Por limitación de memoria RAM del servidor, no podemos imputar por KNN utilizando toda la matriz expandida, por lo que limitamos el primer método de imputación a las columnas numéricas."
      ],
      "metadata": {
        "id": "8uDMSGx8Uppx"
      }
    },
    {
      "cell_type": "code",
      "source": [
        "building_area_and_year_built_columns = [\"BuildingArea\", \"YearBuilt\"]\n",
        "numerical_columns = numerical_cols + building_area_and_year_built_columns\n",
        "\n",
        "imputed_by_numerical_columns_df_scaled =  standardized_encoded_df.copy()\n",
        "imputed_by_building_area_and_year_built_df_scaled = standardized_encoded_df.copy()"
      ],
      "metadata": {
        "id": "HjVOyG6YVK1p"
      },
      "execution_count": 20,
      "outputs": []
    },
    {
      "cell_type": "markdown",
      "source": [
        "Instanciamos el imputer"
      ],
      "metadata": {
        "id": "y5P4WeiXXB64"
      }
    },
    {
      "cell_type": "code",
      "source": [
        "from sklearn.experimental import enable_iterative_imputer\n",
        "from sklearn.neighbors import KNeighborsRegressor\n",
        "from sklearn.impute import IterativeImputer\n",
        "\n",
        "knn_imputer = IterativeImputer(random_state=0, estimator=KNeighborsRegressor())"
      ],
      "metadata": {
        "id": "3eRXidAjXA3C"
      },
      "execution_count": 21,
      "outputs": []
    },
    {
      "cell_type": "markdown",
      "source": [
        "Imputamos por BuildingArea y YearBuilt"
      ],
      "metadata": {
        "id": "Z8uPD6xNF2Ea"
      }
    },
    {
      "cell_type": "code",
      "source": [
        "imputed_by_building_area_and_year_built_df_scaled[building_area_and_year_built_columns] = knn_imputer.fit_transform(\n",
        "    imputed_by_building_area_and_year_built_df_scaled[building_area_and_year_built_columns])"
      ],
      "metadata": {
        "colab": {
          "base_uri": "https://localhost:8080/"
        },
        "id": "x_ESIkm5W3nk",
        "outputId": "f2129db7-e6fa-4dba-bb27-6dbcb3e1c665"
      },
      "execution_count": 22,
      "outputs": [
        {
          "output_type": "stream",
          "name": "stderr",
          "text": [
            "/usr/local/lib/python3.7/dist-packages/sklearn/impute/_iterative.py:701: ConvergenceWarning: [IterativeImputer] Early stopping criterion not reached.\n",
            "  ConvergenceWarning,\n"
          ]
        }
      ]
    },
    {
      "cell_type": "markdown",
      "source": [
        "Imputamos por todas las columnas"
      ],
      "metadata": {
        "id": "A9nB4JOiXoJw"
      }
    },
    {
      "cell_type": "code",
      "source": [
        "imputed_by_numerical_columns_df_scaled[numerical_columns] = knn_imputer.fit_transform(\n",
        "    imputed_by_numerical_columns_df_scaled[numerical_columns])"
      ],
      "metadata": {
        "colab": {
          "base_uri": "https://localhost:8080/"
        },
        "id": "Isoe7heqXrdK",
        "outputId": "6c30a184-58b6-4d60-b172-122b092215b5"
      },
      "execution_count": 23,
      "outputs": [
        {
          "output_type": "stream",
          "name": "stderr",
          "text": [
            "/usr/local/lib/python3.7/dist-packages/sklearn/impute/_iterative.py:701: ConvergenceWarning: [IterativeImputer] Early stopping criterion not reached.\n",
            "  ConvergenceWarning,\n"
          ]
        }
      ]
    },
    {
      "cell_type": "markdown",
      "source": [
        "Volvemos a las unidades originales de las variables"
      ],
      "metadata": {
        "id": "c6IuWUuLZoPx"
      }
    },
    {
      "cell_type": "code",
      "source": [
        "imputed_by_building_area_and_year_built_df = pandas.DataFrame(scaler.inverse_transform(imputed_by_building_area_and_year_built_df_scaled), columns=new_columns_names)\n",
        "imputed_by_numerical_columns_df = pandas.DataFrame(scaler.inverse_transform(imputed_by_numerical_columns_df_scaled), columns=new_columns_names)"
      ],
      "metadata": {
        "id": "ZJSvGpPdZv5y"
      },
      "execution_count": 24,
      "outputs": []
    },
    {
      "cell_type": "markdown",
      "source": [
        "### Ejercicio 2.3\n",
        "Realizamos la comparación gráfica"
      ],
      "metadata": {
        "id": "vhktKMYdalwu"
      }
    },
    {
      "cell_type": "markdown",
      "source": [
        "Comparamos la imputación de BuildingArea"
      ],
      "metadata": {
        "id": "RWyGlRf5awSD"
      }
    },
    {
      "cell_type": "code",
      "source": [
        "year_built_original = encoded_df.YearBuilt.dropna().to_frame()\n",
        "year_built_original['Imputation'] = 'Original'\n",
        "\n",
        "year_built_imputed_by_year_buiilt_and_building_area = imputed_by_building_area_and_year_built_df.YearBuilt.to_frame()\n",
        "year_built_imputed_by_year_buiilt_and_building_area['Imputation'] = 'KNN over YearBuilt and BuildingArea'\n",
        "\n",
        "year_built_imputed_by_numerical_columns = imputed_by_numerical_columns_df.YearBuilt.to_frame()\n",
        "year_built_imputed_by_numerical_columns['Imputation']  = 'KNN over Numerical Columns'\n",
        "\n",
        "\n",
        "data = pandas.concat([year_built_original, year_built_imputed_by_year_buiilt_and_building_area, year_built_imputed_by_numerical_columns], ignore_index=True)\n",
        "fig = plt.figure(figsize=(16, 10))\n",
        "\n",
        "g = seaborn.kdeplot(data=data, x='YearBuilt', hue='Imputation')"
      ],
      "metadata": {
        "colab": {
          "base_uri": "https://localhost:8080/",
          "height": 519
        },
        "id": "pFPkIZk4asvr",
        "outputId": "0adede37-7002-4d7e-dc4a-78c0f90cf01e"
      },
      "execution_count": 25,
      "outputs": [
        {
          "output_type": "display_data",
          "data": {
            "text/plain": [
              "<Figure size 1152x720 with 1 Axes>"
            ],
            "image/png": "[encoded data removed]"
          },
          "metadata": {
            "needs_background": "light"
          }
        }
      ]
    },
    {
      "cell_type": "code",
      "source": [
        "building_area_original = encoded_df.BuildingArea.dropna().to_frame()\n",
        "building_area_original['Imputation'] = 'Original'\n",
        "\n",
        "building_area_imputed_by_year_buiilt_and_building_area = imputed_by_building_area_and_year_built_df.BuildingArea.to_frame()\n",
        "building_area_imputed_by_year_buiilt_and_building_area['Imputation'] = 'KNN over YearBuilt and BuildingArea'\n",
        "\n",
        "building_area_imputed_by_numerical_columns = imputed_by_numerical_columns_df.BuildingArea.to_frame()\n",
        "building_area_imputed_by_numerical_columns['Imputation']  = 'KNN over Numerical Columns'\n",
        "\n",
        "\n",
        "data = pandas.concat([building_area_original, building_area_imputed_by_year_buiilt_and_building_area, building_area_imputed_by_numerical_columns], ignore_index=True)\n",
        "fig = plt.figure(figsize=(16, 10))\n",
        "\n",
        "g = seaborn.kdeplot(data=data, x='BuildingArea', hue='Imputation')"
      ],
      "metadata": {
        "colab": {
          "base_uri": "https://localhost:8080/",
          "height": 519
        },
        "id": "erv90YY9dw7Y",
        "outputId": "85cde931-9022-44c5-9558-a60dc4b2aad2"
      },
      "execution_count": 26,
      "outputs": [
        {
          "output_type": "display_data",
          "data": {
            "text/plain": [
              "<Figure size 1152x720 with 1 Axes>"
            ],
            "image/png": "[encoded data removed]"
          },
          "metadata": {
            "needs_background": "light"
          }
        }
      ]
    },
    {
      "cell_type": "markdown",
      "source": [
        "Podemos identificar gráficamente que el método de imputación por KNN sobre Columnas Numéricas es mejor que el método de imputación por KNN utilizando solo las columnas YearBuilt y BuildingArea, dado que respeta mejor la distribución original de los datos y no introduce sesgos al momento de imputar (pico de la curva naranja en ambos gráficos) "
      ],
      "metadata": {
        "id": "4a3fM2Als-yV"
      }
    },
    {
      "cell_type": "code",
      "source": [
        "encoded_df = imputed_by_numerical_columns_df"
      ],
      "metadata": {
        "id": "FrSpHNGet6w8"
      },
      "execution_count": 27,
      "outputs": []
    },
    {
      "cell_type": "markdown",
      "metadata": {
        "id": "NBN7-5OIxjJW"
      },
      "source": [
        "## Ejercicio 3: Reducción de dimensionalidad.\n",
        "\n",
        "Utilizando la matriz obtenida en el ejercicio anterior:\n",
        "1. Aplique `PCA` para obtener $n$ componentes principales de la matriz, donde `n = min(20, X.shape[0])`. ¿Es necesario estandarizar o escalar los datos?\n",
        "2. Grafique la varianza capturada por los primeros $n$ componentes principales, para cada $n$.\n",
        "3. En base al gráfico, seleccione las primeras $m$ columnas de la matriz transformada para agregar como nuevas características al conjunto de datos."
      ]
    },
    {
      "cell_type": "code",
      "source": [
        "encoded_df[:3]"
      ],
      "metadata": {
        "colab": {
          "base_uri": "https://localhost:8080/",
          "height": 254
        },
        "id": "gQ80wOY-xDsv",
        "outputId": "bc62f09e-57f1-409b-cf45-b5a7abd34fc6"
      },
      "execution_count": 28,
      "outputs": [
        {
          "output_type": "execute_result",
          "data": {
            "text/plain": [
              "   Suburb=Abbotsford  Suburb=Airport West  Suburb=Albert Park  \\\n",
              "0                1.0                  0.0                 0.0   \n",
              "1                1.0                  0.0                 0.0   \n",
              "2                1.0                  0.0                 0.0   \n",
              "\n",
              "   Suburb=Alphington  Suburb=Altona  Suburb=Altona North  Suburb=Armadale  \\\n",
              "0                0.0            0.0                  0.0              0.0   \n",
              "1                0.0            0.0                  0.0              0.0   \n",
              "2                0.0            0.0                  0.0              0.0   \n",
              "\n",
              "   Suburb=Ascot Vale  Suburb=Ashburton  Suburb=Ashwood  ...  Bedroom2  \\\n",
              "0                0.0               0.0             0.0  ...       2.0   \n",
              "1                0.0               0.0             0.0  ...       2.0   \n",
              "2                0.0               0.0             0.0  ...       3.0   \n",
              "\n",
              "   Bathroom  Car  Landsize  Lattitude  Longtitude  Propertycount  Rooms  \\\n",
              "0       1.0  1.0     202.0   -37.7996    144.9984         4019.0    2.0   \n",
              "1       1.0  0.0     156.0   -37.8079    144.9934         4019.0    2.0   \n",
              "2       2.0  0.0     134.0   -37.8093    144.9944         4019.0    3.0   \n",
              "\n",
              "   BuildingArea  YearBuilt  \n",
              "0         104.2     1908.0  \n",
              "1          79.0     1900.0  \n",
              "2         150.0     1900.0  \n",
              "\n",
              "[3 rows x 645 columns]"
            ],
            "text/html": [
              "\n",
              "  <div id=\"df-a0a0acc3-049d-4e94-a519-f7d274c164f3\">\n",
              "    <div class=\"colab-df-container\">\n",
              "      <div>\n",
              "<style scoped>\n",
              "    .dataframe tbody tr th:only-of-type {\n",
              "        vertical-align: middle;\n",
              "    }\n",
              "\n",
              "    .dataframe tbody tr th {\n",
              "        vertical-align: top;\n",
              "    }\n",
              "\n",
              "    .dataframe thead th {\n",
              "        text-align: right;\n",
              "    }\n",
              "</style>\n",
              "<table border=\"1\" class=\"dataframe\">\n",
              "  <thead>\n",
              "    <tr style=\"text-align: right;\">\n",
              "      <th></th>\n",
              "      <th>Suburb=Abbotsford</th>\n",
              "      <th>Suburb=Airport West</th>\n",
              "      <th>Suburb=Albert Park</th>\n",
              "      <th>Suburb=Alphington</th>\n",
              "      <th>Suburb=Altona</th>\n",
              "      <th>Suburb=Altona North</th>\n",
              "      <th>Suburb=Armadale</th>\n",
              "      <th>Suburb=Ascot Vale</th>\n",
              "      <th>Suburb=Ashburton</th>\n",
              "      <th>Suburb=Ashwood</th>\n",
              "      <th>...</th>\n",
              "      <th>Bedroom2</th>\n",
              "      <th>Bathroom</th>\n",
              "      <th>Car</th>\n",
              "      <th>Landsize</th>\n",
              "      <th>Lattitude</th>\n",
              "      <th>Longtitude</th>\n",
              "      <th>Propertycount</th>\n",
              "      <th>Rooms</th>\n",
              "      <th>BuildingArea</th>\n",
              "      <th>YearBuilt</th>\n",
              "    </tr>\n",
              "  </thead>\n",
              "  <tbody>\n",
              "    <tr>\n",
              "      <th>0</th>\n",
              "      <td>1.0</td>\n",
              "      <td>0.0</td>\n",
              "      <td>0.0</td>\n",
              "      <td>0.0</td>\n",
              "      <td>0.0</td>\n",
              "      <td>0.0</td>\n",
              "      <td>0.0</td>\n",
              "      <td>0.0</td>\n",
              "      <td>0.0</td>\n",
              "      <td>0.0</td>\n",
              "      <td>...</td>\n",
              "      <td>2.0</td>\n",
              "      <td>1.0</td>\n",
              "      <td>1.0</td>\n",
              "      <td>202.0</td>\n",
              "      <td>-37.7996</td>\n",
              "      <td>144.9984</td>\n",
              "      <td>4019.0</td>\n",
              "      <td>2.0</td>\n",
              "      <td>104.2</td>\n",
              "      <td>1908.0</td>\n",
              "    </tr>\n",
              "    <tr>\n",
              "      <th>1</th>\n",
              "      <td>1.0</td>\n",
              "      <td>0.0</td>\n",
              "      <td>0.0</td>\n",
              "      <td>0.0</td>\n",
              "      <td>0.0</td>\n",
              "      <td>0.0</td>\n",
              "      <td>0.0</td>\n",
              "      <td>0.0</td>\n",
              "      <td>0.0</td>\n",
              "      <td>0.0</td>\n",
              "      <td>...</td>\n",
              "      <td>2.0</td>\n",
              "      <td>1.0</td>\n",
              "      <td>0.0</td>\n",
              "      <td>156.0</td>\n",
              "      <td>-37.8079</td>\n",
              "      <td>144.9934</td>\n",
              "      <td>4019.0</td>\n",
              "      <td>2.0</td>\n",
              "      <td>79.0</td>\n",
              "      <td>1900.0</td>\n",
              "    </tr>\n",
              "    <tr>\n",
              "      <th>2</th>\n",
              "      <td>1.0</td>\n",
              "      <td>0.0</td>\n",
              "      <td>0.0</td>\n",
              "      <td>0.0</td>\n",
              "      <td>0.0</td>\n",
              "      <td>0.0</td>\n",
              "      <td>0.0</td>\n",
              "      <td>0.0</td>\n",
              "      <td>0.0</td>\n",
              "      <td>0.0</td>\n",
              "      <td>...</td>\n",
              "      <td>3.0</td>\n",
              "      <td>2.0</td>\n",
              "      <td>0.0</td>\n",
              "      <td>134.0</td>\n",
              "      <td>-37.8093</td>\n",
              "      <td>144.9944</td>\n",
              "      <td>4019.0</td>\n",
              "      <td>3.0</td>\n",
              "      <td>150.0</td>\n",
              "      <td>1900.0</td>\n",
              "    </tr>\n",
              "  </tbody>\n",
              "</table>\n",
              "<p>3 rows × 645 columns</p>\n",
              "</div>\n",
              "      <button class=\"colab-df-convert\" onclick=\"convertToInteractive('df-a0a0acc3-049d-4e94-a519-f7d274c164f3')\"\n",
              "              title=\"Convert this dataframe to an interactive table.\"\n",
              "              style=\"display:none;\">\n",
              "        \n",
              "  <svg xmlns=\"http://www.w3.org/2000/svg\" height=\"24px\"viewBox=\"0 0 24 24\"\n",
              "       width=\"24px\">\n",
              "    <path d=\"M0 0h24v24H0V0z\" fill=\"none\"/>\n",
              "    <path d=\"M18.56 5.44l.94 2.06.94-2.06 2.06-.94-2.06-.94-.94-2.06-.94 2.06-2.06.94zm-11 1L8.5 8.5l.94-2.06 2.06-.94-2.06-.94L8.5 2.5l-.94 2.06-2.06.94zm10 10l.94 2.06.94-2.06 2.06-.94-2.06-.94-.94-2.06-.94 2.06-2.06.94z\"/><path d=\"M17.41 7.96l-1.37-1.37c-.4-.4-.92-.59-1.43-.59-.52 0-1.04.2-1.43.59L10.3 9.45l-7.72 7.72c-.78.78-.78 2.05 0 2.83L4 21.41c.39.39.9.59 1.41.59.51 0 1.02-.2 1.41-.59l7.78-7.78 2.81-2.81c.8-.78.8-2.07 0-2.86zM5.41 20L4 18.59l7.72-7.72 1.47 1.35L5.41 20z\"/>\n",
              "  </svg>\n",
              "      </button>\n",
              "      \n",
              "  <style>\n",
              "    .colab-df-container {\n",
              "      display:flex;\n",
              "      flex-wrap:wrap;\n",
              "      gap: 12px;\n",
              "    }\n",
              "\n",
              "    .colab-df-convert {\n",
              "      background-color: #E8F0FE;\n",
              "      border: none;\n",
              "      border-radius: 50%;\n",
              "      cursor: pointer;\n",
              "      display: none;\n",
              "      fill: #1967D2;\n",
              "      height: 32px;\n",
              "      padding: 0 0 0 0;\n",
              "      width: 32px;\n",
              "    }\n",
              "\n",
              "    .colab-df-convert:hover {\n",
              "      background-color: #E2EBFA;\n",
              "      box-shadow: 0px 1px 2px rgba(60, 64, 67, 0.3), 0px 1px 3px 1px rgba(60, 64, 67, 0.15);\n",
              "      fill: #174EA6;\n",
              "    }\n",
              "\n",
              "    [theme=dark] .colab-df-convert {\n",
              "      background-color: #3B4455;\n",
              "      fill: #D2E3FC;\n",
              "    }\n",
              "\n",
              "    [theme=dark] .colab-df-convert:hover {\n",
              "      background-color: #434B5C;\n",
              "      box-shadow: 0px 1px 3px 1px rgba(0, 0, 0, 0.15);\n",
              "      filter: drop-shadow(0px 1px 2px rgba(0, 0, 0, 0.3));\n",
              "      fill: #FFFFFF;\n",
              "    }\n",
              "  </style>\n",
              "\n",
              "      <script>\n",
              "        const buttonEl =\n",
              "          document.querySelector('#df-a0a0acc3-049d-4e94-a519-f7d274c164f3 button.colab-df-convert');\n",
              "        buttonEl.style.display =\n",
              "          google.colab.kernel.accessAllowed ? 'block' : 'none';\n",
              "\n",
              "        async function convertToInteractive(key) {\n",
              "          const element = document.querySelector('#df-a0a0acc3-049d-4e94-a519-f7d274c164f3');\n",
              "          const dataTable =\n",
              "            await google.colab.kernel.invokeFunction('convertToInteractive',\n",
              "                                                     [key], {});\n",
              "          if (!dataTable) return;\n",
              "\n",
              "          const docLinkHtml = 'Like what you see? Visit the ' +\n",
              "            '<a target=\"_blank\" href=https://colab.research.google.com/notebooks/data_table.ipynb>data table notebook</a>'\n",
              "            + ' to learn more about interactive tables.';\n",
              "          element.innerHTML = '';\n",
              "          dataTable['output_type'] = 'display_data';\n",
              "          await google.colab.output.renderOutput(dataTable, element);\n",
              "          const docLink = document.createElement('div');\n",
              "          docLink.innerHTML = docLinkHtml;\n",
              "          element.appendChild(docLink);\n",
              "        }\n",
              "      </script>\n",
              "    </div>\n",
              "  </div>\n",
              "  "
            ]
          },
          "metadata": {},
          "execution_count": 28
        }
      ]
    },
    {
      "cell_type": "code",
      "source": [
        "encoded_df.shape"
      ],
      "metadata": {
        "colab": {
          "base_uri": "https://localhost:8080/"
        },
        "id": "tWDSTlwCuq6J",
        "outputId": "a93cac4f-24b4-4328-85c9-1d4a22a1c084"
      },
      "execution_count": 29,
      "outputs": [
        {
          "output_type": "execute_result",
          "data": {
            "text/plain": [
              "(13221, 645)"
            ]
          },
          "metadata": {},
          "execution_count": 29
        }
      ]
    },
    {
      "cell_type": "markdown",
      "source": [
        "Realizaremos el PCA solo con las variables numéricas del data frame, para ello procedemos a crear uno nuevo que contenga solo esas variables:"
      ],
      "metadata": {
        "id": "RkWKwdCkbf8o"
      }
    },
    {
      "cell_type": "code",
      "source": [
        "df_num=encoded_df[['Price',  'Distance',  'Postcode',  'Bedroom2',  'Bathroom',  'Car',  'Landsize',  'Lattitude',  'Longtitude',  'Propertycount','Rooms']].copy()\n",
        " "
      ],
      "metadata": {
        "id": "-pZuIgylai04"
      },
      "execution_count": 30,
      "outputs": []
    },
    {
      "cell_type": "markdown",
      "source": [
        "Si es necesario realizar una estandarización de los datos para que todas las variables estén en las mismas unidades y ninguna variable en particular tenga un peso demasiado grande. Por ello procedemos a estandarizar:"
      ],
      "metadata": {
        "id": "E-PrWxJl1F9l"
      }
    },
    {
      "cell_type": "code",
      "source": [
        "df_standard = (df_num-df_num.mean())/df_num.std()"
      ],
      "metadata": {
        "id": "6ub___o70THb"
      },
      "execution_count": 31,
      "outputs": []
    },
    {
      "cell_type": "markdown",
      "source": [
        "Chequeamos si hay datos nulos:"
      ],
      "metadata": {
        "id": "RN3cZ4-dq0rL"
      }
    },
    {
      "cell_type": "code",
      "source": [
        "df_standard.isnull().any()"
      ],
      "metadata": {
        "colab": {
          "base_uri": "https://localhost:8080/"
        },
        "id": "kFT3upgR3VWZ",
        "outputId": "0949d49b-0ca2-4c29-c4cd-1c956a2fc944"
      },
      "execution_count": 32,
      "outputs": [
        {
          "output_type": "execute_result",
          "data": {
            "text/plain": [
              "Price            False\n",
              "Distance         False\n",
              "Postcode         False\n",
              "Bedroom2         False\n",
              "Bathroom         False\n",
              "Car              False\n",
              "Landsize         False\n",
              "Lattitude        False\n",
              "Longtitude       False\n",
              "Propertycount    False\n",
              "Rooms            False\n",
              "dtype: bool"
            ]
          },
          "metadata": {},
          "execution_count": 32
        }
      ]
    },
    {
      "cell_type": "markdown",
      "source": [
        "Le decimos que coloque cero donde había NaN"
      ],
      "metadata": {
        "id": "RGhgBvzW5L9t"
      }
    },
    {
      "cell_type": "code",
      "source": [
        "df_standard.fillna(0,inplace=True)"
      ],
      "metadata": {
        "id": "EbpEB7yq3vFs"
      },
      "execution_count": 33,
      "outputs": []
    },
    {
      "cell_type": "markdown",
      "source": [
        "Realizamos el PCA:"
      ],
      "metadata": {
        "id": "bmGiWxp15juI"
      }
    },
    {
      "cell_type": "code",
      "source": [
        "from sklearn.decomposition import PCA\n",
        "\n",
        "pca2 = PCA(n_components=4)\n",
        "pca2.fit(df_standard)\n",
        "print(\"Principal components\")\n",
        "print(pca2.components_)\n",
        "print(\"Explained variance: \")\n",
        "print(pca2.explained_variance_)\n",
        "print(\"Explained variance ratio\")\n",
        "print(pca2.explained_variance_ratio_)"
      ],
      "metadata": {
        "colab": {
          "base_uri": "https://localhost:8080/"
        },
        "id": "MQ4EVrsB11ig",
        "outputId": "72e789ec-bb13-4e79-f712-d2328e484359"
      },
      "execution_count": 34,
      "outputs": [
        {
          "output_type": "stream",
          "name": "stdout",
          "text": [
            "Principal components\n",
            "[[ 0.34128031  0.23409476  0.16883223  0.49419167  0.40453696  0.31050023\n",
            "   0.03068932 -0.11121675  0.17874884 -0.05582342  0.49755272]\n",
            " [-0.05772291  0.29390305  0.56668568 -0.20470902 -0.12251814 -0.08926056\n",
            "   0.00414704 -0.48546643  0.48951388  0.0733806  -0.20873205]\n",
            " [ 0.58682672 -0.65277862 -0.07889599 -0.07651441  0.13525492 -0.25537312\n",
            "   0.01142607 -0.32218473  0.1530169   0.04775582 -0.06555744]\n",
            " [ 0.00262207 -0.04919187  0.04001576  0.02102307  0.03114134  0.08831896\n",
            "   0.10374339  0.22191497  0.10080985  0.95715966  0.0208291 ]]\n",
            "Explained variance: \n",
            "[3.16790886 1.87827241 1.23521869 1.01614468]\n",
            "Explained variance ratio\n",
            "[0.28799171 0.17075204 0.11229261 0.09237679]\n"
          ]
        }
      ]
    },
    {
      "cell_type": "markdown",
      "source": [
        "Graficamos:"
      ],
      "metadata": {
        "id": "wbb9y9RU5nBi"
      }
    },
    {
      "cell_type": "code",
      "source": [
        "df_new_reduced = pca2.transform(df_standard)\n",
        "\n",
        "g = seaborn.JointGrid(x=df_new_reduced[:,0], y=df_new_reduced[:,1],\n",
        "                                         height=10)\n",
        "g.plot_joint(seaborn.scatterplot, s=100)\n",
        "g.plot_marginals(seaborn.stripplot)\n"
      ],
      "metadata": {
        "colab": {
          "base_uri": "https://localhost:8080/",
          "height": 729
        },
        "id": "a8FULe6X34JE",
        "outputId": "0a51419f-8c6b-42e5-fec0-18fc199cfe0f"
      },
      "execution_count": 35,
      "outputs": [
        {
          "output_type": "execute_result",
          "data": {
            "text/plain": [
              "<seaborn.axisgrid.JointGrid at 0x7f009a23c250>"
            ]
          },
          "metadata": {},
          "execution_count": 35
        },
        {
          "output_type": "display_data",
          "data": {
            "text/plain": [
              "<Figure size 720x720 with 3 Axes>"
            ],
            "image/png": "[encoded data removed]"
          },
          "metadata": {
            "needs_background": "light"
          }
        }
      ]
    },
    {
      "cell_type": "code",
      "source": [
        "# Plot the explained variance against cumulative explained variance#\n",
        "import matplotlib.pyplot as plt\n",
        "cum_sum_exp = numpy.cumsum(pca2.explained_variance_)\n",
        "plt.bar(range(0,len(pca2.explained_variance_)), pca2.explained_variance_, alpha=0.5, align='center', label='Individual explained variance')\n",
        "plt.step(range(0,len(cum_sum_exp)), cum_sum_exp, where='mid',label='Cumulative explained variance')\n",
        "plt.ylabel('Explained variance ratio')\n",
        "plt.xlabel('Principal component index')\n",
        "plt.legend(loc='best')\n",
        "plt.figure(figsize=(16, 10))\n",
        "\n",
        "plt.tight_layout()\n",
        "plt.show()"
      ],
      "metadata": {
        "colab": {
          "base_uri": "https://localhost:8080/",
          "height": 319
        },
        "id": "67XG7iCmxJP8",
        "outputId": "a69b3b8e-9f7b-4fae-ae71-e12b9705517e"
      },
      "execution_count": 36,
      "outputs": [
        {
          "output_type": "display_data",
          "data": {
            "text/plain": [
              "<Figure size 432x288 with 1 Axes>"
            ],
            "image/png": "[encoded data removed]"
          },
          "metadata": {
            "needs_background": "light"
          }
        },
        {
          "output_type": "display_data",
          "data": {
            "text/plain": [
              "<Figure size 1152x720 with 0 Axes>"
            ]
          },
          "metadata": {}
        }
      ]
    },
    {
      "cell_type": "code",
      "source": [
        "principalDf = pandas.DataFrame(data = df_new_reduced\n",
        "                               , columns = ['principal component 1', 'principal component 2','principal component 3','principal component 4' ])"
      ],
      "metadata": {
        "id": "LCsXlr_Ckdrm"
      },
      "execution_count": 37,
      "outputs": []
    },
    {
      "cell_type": "markdown",
      "source": [
        "Componentes principales:"
      ],
      "metadata": {
        "id": "Tlcxj3Wt5sD8"
      }
    },
    {
      "cell_type": "code",
      "source": [
        "principalDf[:3]"
      ],
      "metadata": {
        "id": "nI3JNDUDkot4",
        "colab": {
          "base_uri": "https://localhost:8080/",
          "height": 188
        },
        "outputId": "fe72eab0-8d3c-452c-b508-761523f95c38"
      },
      "execution_count": 38,
      "outputs": [
        {
          "output_type": "execute_result",
          "data": {
            "text/plain": [
              "   principal component 1  principal component 2  principal component 3  \\\n",
              "0              -1.536917              -0.211997               1.428548   \n",
              "1              -2.117912              -0.047219               1.282226   \n",
              "2              -0.186498              -0.705365               1.772014   \n",
              "\n",
              "   principal component 4  \n",
              "0              -0.799171  \n",
              "1              -0.923493  \n",
              "2              -0.832635  "
            ],
            "text/html": [
              "\n",
              "  <div id=\"df-42ebfe1d-83dc-461f-9579-0264216de694\">\n",
              "    <div class=\"colab-df-container\">\n",
              "      <div>\n",
              "<style scoped>\n",
              "    .dataframe tbody tr th:only-of-type {\n",
              "        vertical-align: middle;\n",
              "    }\n",
              "\n",
              "    .dataframe tbody tr th {\n",
              "        vertical-align: top;\n",
              "    }\n",
              "\n",
              "    .dataframe thead th {\n",
              "        text-align: right;\n",
              "    }\n",
              "</style>\n",
              "<table border=\"1\" class=\"dataframe\">\n",
              "  <thead>\n",
              "    <tr style=\"text-align: right;\">\n",
              "      <th></th>\n",
              "      <th>principal component 1</th>\n",
              "      <th>principal component 2</th>\n",
              "      <th>principal component 3</th>\n",
              "      <th>principal component 4</th>\n",
              "    </tr>\n",
              "  </thead>\n",
              "  <tbody>\n",
              "    <tr>\n",
              "      <th>0</th>\n",
              "      <td>-1.536917</td>\n",
              "      <td>-0.211997</td>\n",
              "      <td>1.428548</td>\n",
              "      <td>-0.799171</td>\n",
              "    </tr>\n",
              "    <tr>\n",
              "      <th>1</th>\n",
              "      <td>-2.117912</td>\n",
              "      <td>-0.047219</td>\n",
              "      <td>1.282226</td>\n",
              "      <td>-0.923493</td>\n",
              "    </tr>\n",
              "    <tr>\n",
              "      <th>2</th>\n",
              "      <td>-0.186498</td>\n",
              "      <td>-0.705365</td>\n",
              "      <td>1.772014</td>\n",
              "      <td>-0.832635</td>\n",
              "    </tr>\n",
              "  </tbody>\n",
              "</table>\n",
              "</div>\n",
              "      <button class=\"colab-df-convert\" onclick=\"convertToInteractive('df-42ebfe1d-83dc-461f-9579-0264216de694')\"\n",
              "              title=\"Convert this dataframe to an interactive table.\"\n",
              "              style=\"display:none;\">\n",
              "        \n",
              "  <svg xmlns=\"http://www.w3.org/2000/svg\" height=\"24px\"viewBox=\"0 0 24 24\"\n",
              "       width=\"24px\">\n",
              "    <path d=\"M0 0h24v24H0V0z\" fill=\"none\"/>\n",
              "    <path d=\"M18.56 5.44l.94 2.06.94-2.06 2.06-.94-2.06-.94-.94-2.06-.94 2.06-2.06.94zm-11 1L8.5 8.5l.94-2.06 2.06-.94-2.06-.94L8.5 2.5l-.94 2.06-2.06.94zm10 10l.94 2.06.94-2.06 2.06-.94-2.06-.94-.94-2.06-.94 2.06-2.06.94z\"/><path d=\"M17.41 7.96l-1.37-1.37c-.4-.4-.92-.59-1.43-.59-.52 0-1.04.2-1.43.59L10.3 9.45l-7.72 7.72c-.78.78-.78 2.05 0 2.83L4 21.41c.39.39.9.59 1.41.59.51 0 1.02-.2 1.41-.59l7.78-7.78 2.81-2.81c.8-.78.8-2.07 0-2.86zM5.41 20L4 18.59l7.72-7.72 1.47 1.35L5.41 20z\"/>\n",
              "  </svg>\n",
              "      </button>\n",
              "      \n",
              "  <style>\n",
              "    .colab-df-container {\n",
              "      display:flex;\n",
              "      flex-wrap:wrap;\n",
              "      gap: 12px;\n",
              "    }\n",
              "\n",
              "    .colab-df-convert {\n",
              "      background-color: #E8F0FE;\n",
              "      border: none;\n",
              "      border-radius: 50%;\n",
              "      cursor: pointer;\n",
              "      display: none;\n",
              "      fill: #1967D2;\n",
              "      height: 32px;\n",
              "      padding: 0 0 0 0;\n",
              "      width: 32px;\n",
              "    }\n",
              "\n",
              "    .colab-df-convert:hover {\n",
              "      background-color: #E2EBFA;\n",
              "      box-shadow: 0px 1px 2px rgba(60, 64, 67, 0.3), 0px 1px 3px 1px rgba(60, 64, 67, 0.15);\n",
              "      fill: #174EA6;\n",
              "    }\n",
              "\n",
              "    [theme=dark] .colab-df-convert {\n",
              "      background-color: #3B4455;\n",
              "      fill: #D2E3FC;\n",
              "    }\n",
              "\n",
              "    [theme=dark] .colab-df-convert:hover {\n",
              "      background-color: #434B5C;\n",
              "      box-shadow: 0px 1px 3px 1px rgba(0, 0, 0, 0.15);\n",
              "      filter: drop-shadow(0px 1px 2px rgba(0, 0, 0, 0.3));\n",
              "      fill: #FFFFFF;\n",
              "    }\n",
              "  </style>\n",
              "\n",
              "      <script>\n",
              "        const buttonEl =\n",
              "          document.querySelector('#df-42ebfe1d-83dc-461f-9579-0264216de694 button.colab-df-convert');\n",
              "        buttonEl.style.display =\n",
              "          google.colab.kernel.accessAllowed ? 'block' : 'none';\n",
              "\n",
              "        async function convertToInteractive(key) {\n",
              "          const element = document.querySelector('#df-42ebfe1d-83dc-461f-9579-0264216de694');\n",
              "          const dataTable =\n",
              "            await google.colab.kernel.invokeFunction('convertToInteractive',\n",
              "                                                     [key], {});\n",
              "          if (!dataTable) return;\n",
              "\n",
              "          const docLinkHtml = 'Like what you see? Visit the ' +\n",
              "            '<a target=\"_blank\" href=https://colab.research.google.com/notebooks/data_table.ipynb>data table notebook</a>'\n",
              "            + ' to learn more about interactive tables.';\n",
              "          element.innerHTML = '';\n",
              "          dataTable['output_type'] = 'display_data';\n",
              "          await google.colab.output.renderOutput(dataTable, element);\n",
              "          const docLink = document.createElement('div');\n",
              "          docLink.innerHTML = docLinkHtml;\n",
              "          element.appendChild(docLink);\n",
              "        }\n",
              "      </script>\n",
              "    </div>\n",
              "  </div>\n",
              "  "
            ]
          },
          "metadata": {},
          "execution_count": 38
        }
      ]
    },
    {
      "cell_type": "markdown",
      "metadata": {
        "id": "WrZTYmG_ZyDy"
      },
      "source": [
        "## Ejercicio 4: Composición del resultado\n",
        "\n",
        "Transformar nuevamente el conjunto de datos procesado en un `pandas.DataFrame` y guardarlo en un archivo.\n",
        "\n",
        "Para eso, será necesario recordar el nombre original de cada columna de la matriz, en el orden correcto. Tener en cuenta:\n",
        "1. El método `OneHotEncoder.get_feature_names` o el atributo `OneHotEncoder.categories_` permiten obtener una lista con los valores de la categoría que le corresponde a cada índice de la matriz.\n",
        "2. Ninguno de los métodos aplicados intercambia de lugar las columnas o las filas de la matriz."
      ]
    },
    {
      "cell_type": "markdown",
      "source": [
        "Unimos ambos data frames, agregando también los dos componentes principales del PCA:"
      ],
      "metadata": {
        "id": "7JqFZy8y5wD1"
      }
    },
    {
      "cell_type": "code",
      "source": [
        "df_principal_one_two=principalDf[['principal component 1','principal component 2']].copy()\n",
        " "
      ],
      "metadata": {
        "id": "POAAW-vGg2Lj"
      },
      "execution_count": 39,
      "outputs": []
    },
    {
      "cell_type": "code",
      "source": [
        "processed_melb_df = pandas.concat([encoded_df, df_principal_one_two], axis=1)"
      ],
      "metadata": {
        "id": "zWDXW-cnn-DM"
      },
      "execution_count": 40,
      "outputs": []
    },
    {
      "cell_type": "code",
      "source": [
        "processed_melb_df[:3]"
      ],
      "metadata": {
        "id": "23WvXdN3oKIb",
        "colab": {
          "base_uri": "https://localhost:8080/",
          "height": 272
        },
        "outputId": "08400c69-12a3-4bf2-f415-fcaf21d52297"
      },
      "execution_count": 41,
      "outputs": [
        {
          "output_type": "execute_result",
          "data": {
            "text/plain": [
              "   Suburb=Abbotsford  Suburb=Airport West  Suburb=Albert Park  \\\n",
              "0                1.0                  0.0                 0.0   \n",
              "1                1.0                  0.0                 0.0   \n",
              "2                1.0                  0.0                 0.0   \n",
              "\n",
              "   Suburb=Alphington  Suburb=Altona  Suburb=Altona North  Suburb=Armadale  \\\n",
              "0                0.0            0.0                  0.0              0.0   \n",
              "1                0.0            0.0                  0.0              0.0   \n",
              "2                0.0            0.0                  0.0              0.0   \n",
              "\n",
              "   Suburb=Ascot Vale  Suburb=Ashburton  Suburb=Ashwood  ...  Car  Landsize  \\\n",
              "0                0.0               0.0             0.0  ...  1.0     202.0   \n",
              "1                0.0               0.0             0.0  ...  0.0     156.0   \n",
              "2                0.0               0.0             0.0  ...  0.0     134.0   \n",
              "\n",
              "   Lattitude  Longtitude  Propertycount  Rooms  BuildingArea  YearBuilt  \\\n",
              "0   -37.7996    144.9984         4019.0    2.0         104.2     1908.0   \n",
              "1   -37.8079    144.9934         4019.0    2.0          79.0     1900.0   \n",
              "2   -37.8093    144.9944         4019.0    3.0         150.0     1900.0   \n",
              "\n",
              "   principal component 1  principal component 2  \n",
              "0              -1.536917              -0.211997  \n",
              "1              -2.117912              -0.047219  \n",
              "2              -0.186498              -0.705365  \n",
              "\n",
              "[3 rows x 647 columns]"
            ],
            "text/html": [
              "\n",
              "  <div id=\"df-7437f523-f311-4c5d-80e3-8e6d2f987238\">\n",
              "    <div class=\"colab-df-container\">\n",
              "      <div>\n",
              "<style scoped>\n",
              "    .dataframe tbody tr th:only-of-type {\n",
              "        vertical-align: middle;\n",
              "    }\n",
              "\n",
              "    .dataframe tbody tr th {\n",
              "        vertical-align: top;\n",
              "    }\n",
              "\n",
              "    .dataframe thead th {\n",
              "        text-align: right;\n",
              "    }\n",
              "</style>\n",
              "<table border=\"1\" class=\"dataframe\">\n",
              "  <thead>\n",
              "    <tr style=\"text-align: right;\">\n",
              "      <th></th>\n",
              "      <th>Suburb=Abbotsford</th>\n",
              "      <th>Suburb=Airport West</th>\n",
              "      <th>Suburb=Albert Park</th>\n",
              "      <th>Suburb=Alphington</th>\n",
              "      <th>Suburb=Altona</th>\n",
              "      <th>Suburb=Altona North</th>\n",
              "      <th>Suburb=Armadale</th>\n",
              "      <th>Suburb=Ascot Vale</th>\n",
              "      <th>Suburb=Ashburton</th>\n",
              "      <th>Suburb=Ashwood</th>\n",
              "      <th>...</th>\n",
              "      <th>Car</th>\n",
              "      <th>Landsize</th>\n",
              "      <th>Lattitude</th>\n",
              "      <th>Longtitude</th>\n",
              "      <th>Propertycount</th>\n",
              "      <th>Rooms</th>\n",
              "      <th>BuildingArea</th>\n",
              "      <th>YearBuilt</th>\n",
              "      <th>principal component 1</th>\n",
              "      <th>principal component 2</th>\n",
              "    </tr>\n",
              "  </thead>\n",
              "  <tbody>\n",
              "    <tr>\n",
              "      <th>0</th>\n",
              "      <td>1.0</td>\n",
              "      <td>0.0</td>\n",
              "      <td>0.0</td>\n",
              "      <td>0.0</td>\n",
              "      <td>0.0</td>\n",
              "      <td>0.0</td>\n",
              "      <td>0.0</td>\n",
              "      <td>0.0</td>\n",
              "      <td>0.0</td>\n",
              "      <td>0.0</td>\n",
              "      <td>...</td>\n",
              "      <td>1.0</td>\n",
              "      <td>202.0</td>\n",
              "      <td>-37.7996</td>\n",
              "      <td>144.9984</td>\n",
              "      <td>4019.0</td>\n",
              "      <td>2.0</td>\n",
              "      <td>104.2</td>\n",
              "      <td>1908.0</td>\n",
              "      <td>-1.536917</td>\n",
              "      <td>-0.211997</td>\n",
              "    </tr>\n",
              "    <tr>\n",
              "      <th>1</th>\n",
              "      <td>1.0</td>\n",
              "      <td>0.0</td>\n",
              "      <td>0.0</td>\n",
              "      <td>0.0</td>\n",
              "      <td>0.0</td>\n",
              "      <td>0.0</td>\n",
              "      <td>0.0</td>\n",
              "      <td>0.0</td>\n",
              "      <td>0.0</td>\n",
              "      <td>0.0</td>\n",
              "      <td>...</td>\n",
              "      <td>0.0</td>\n",
              "      <td>156.0</td>\n",
              "      <td>-37.8079</td>\n",
              "      <td>144.9934</td>\n",
              "      <td>4019.0</td>\n",
              "      <td>2.0</td>\n",
              "      <td>79.0</td>\n",
              "      <td>1900.0</td>\n",
              "      <td>-2.117912</td>\n",
              "      <td>-0.047219</td>\n",
              "    </tr>\n",
              "    <tr>\n",
              "      <th>2</th>\n",
              "      <td>1.0</td>\n",
              "      <td>0.0</td>\n",
              "      <td>0.0</td>\n",
              "      <td>0.0</td>\n",
              "      <td>0.0</td>\n",
              "      <td>0.0</td>\n",
              "      <td>0.0</td>\n",
              "      <td>0.0</td>\n",
              "      <td>0.0</td>\n",
              "      <td>0.0</td>\n",
              "      <td>...</td>\n",
              "      <td>0.0</td>\n",
              "      <td>134.0</td>\n",
              "      <td>-37.8093</td>\n",
              "      <td>144.9944</td>\n",
              "      <td>4019.0</td>\n",
              "      <td>3.0</td>\n",
              "      <td>150.0</td>\n",
              "      <td>1900.0</td>\n",
              "      <td>-0.186498</td>\n",
              "      <td>-0.705365</td>\n",
              "    </tr>\n",
              "  </tbody>\n",
              "</table>\n",
              "<p>3 rows × 647 columns</p>\n",
              "</div>\n",
              "      <button class=\"colab-df-convert\" onclick=\"convertToInteractive('df-7437f523-f311-4c5d-80e3-8e6d2f987238')\"\n",
              "              title=\"Convert this dataframe to an interactive table.\"\n",
              "              style=\"display:none;\">\n",
              "        \n",
              "  <svg xmlns=\"http://www.w3.org/2000/svg\" height=\"24px\"viewBox=\"0 0 24 24\"\n",
              "       width=\"24px\">\n",
              "    <path d=\"M0 0h24v24H0V0z\" fill=\"none\"/>\n",
              "    <path d=\"M18.56 5.44l.94 2.06.94-2.06 2.06-.94-2.06-.94-.94-2.06-.94 2.06-2.06.94zm-11 1L8.5 8.5l.94-2.06 2.06-.94-2.06-.94L8.5 2.5l-.94 2.06-2.06.94zm10 10l.94 2.06.94-2.06 2.06-.94-2.06-.94-.94-2.06-.94 2.06-2.06.94z\"/><path d=\"M17.41 7.96l-1.37-1.37c-.4-.4-.92-.59-1.43-.59-.52 0-1.04.2-1.43.59L10.3 9.45l-7.72 7.72c-.78.78-.78 2.05 0 2.83L4 21.41c.39.39.9.59 1.41.59.51 0 1.02-.2 1.41-.59l7.78-7.78 2.81-2.81c.8-.78.8-2.07 0-2.86zM5.41 20L4 18.59l7.72-7.72 1.47 1.35L5.41 20z\"/>\n",
              "  </svg>\n",
              "      </button>\n",
              "      \n",
              "  <style>\n",
              "    .colab-df-container {\n",
              "      display:flex;\n",
              "      flex-wrap:wrap;\n",
              "      gap: 12px;\n",
              "    }\n",
              "\n",
              "    .colab-df-convert {\n",
              "      background-color: #E8F0FE;\n",
              "      border: none;\n",
              "      border-radius: 50%;\n",
              "      cursor: pointer;\n",
              "      display: none;\n",
              "      fill: #1967D2;\n",
              "      height: 32px;\n",
              "      padding: 0 0 0 0;\n",
              "      width: 32px;\n",
              "    }\n",
              "\n",
              "    .colab-df-convert:hover {\n",
              "      background-color: #E2EBFA;\n",
              "      box-shadow: 0px 1px 2px rgba(60, 64, 67, 0.3), 0px 1px 3px 1px rgba(60, 64, 67, 0.15);\n",
              "      fill: #174EA6;\n",
              "    }\n",
              "\n",
              "    [theme=dark] .colab-df-convert {\n",
              "      background-color: #3B4455;\n",
              "      fill: #D2E3FC;\n",
              "    }\n",
              "\n",
              "    [theme=dark] .colab-df-convert:hover {\n",
              "      background-color: #434B5C;\n",
              "      box-shadow: 0px 1px 3px 1px rgba(0, 0, 0, 0.15);\n",
              "      filter: drop-shadow(0px 1px 2px rgba(0, 0, 0, 0.3));\n",
              "      fill: #FFFFFF;\n",
              "    }\n",
              "  </style>\n",
              "\n",
              "      <script>\n",
              "        const buttonEl =\n",
              "          document.querySelector('#df-7437f523-f311-4c5d-80e3-8e6d2f987238 button.colab-df-convert');\n",
              "        buttonEl.style.display =\n",
              "          google.colab.kernel.accessAllowed ? 'block' : 'none';\n",
              "\n",
              "        async function convertToInteractive(key) {\n",
              "          const element = document.querySelector('#df-7437f523-f311-4c5d-80e3-8e6d2f987238');\n",
              "          const dataTable =\n",
              "            await google.colab.kernel.invokeFunction('convertToInteractive',\n",
              "                                                     [key], {});\n",
              "          if (!dataTable) return;\n",
              "\n",
              "          const docLinkHtml = 'Like what you see? Visit the ' +\n",
              "            '<a target=\"_blank\" href=https://colab.research.google.com/notebooks/data_table.ipynb>data table notebook</a>'\n",
              "            + ' to learn more about interactive tables.';\n",
              "          element.innerHTML = '';\n",
              "          dataTable['output_type'] = 'display_data';\n",
              "          await google.colab.output.renderOutput(dataTable, element);\n",
              "          const docLink = document.createElement('div');\n",
              "          docLink.innerHTML = docLinkHtml;\n",
              "          element.appendChild(docLink);\n",
              "        }\n",
              "      </script>\n",
              "    </div>\n",
              "  </div>\n",
              "  "
            ]
          },
          "metadata": {},
          "execution_count": 41
        }
      ]
    },
    {
      "cell_type": "markdown",
      "source": [
        "Procedemos a guardar el data frame procesado en un archivo:"
      ],
      "metadata": {
        "id": "PfzkWwl-545i"
      }
    },
    {
      "cell_type": "code",
      "source": [
        "processed_melb_df.to_csv(\"processed_melb_df.csv\", index=None)\n",
        "from google.colab import files  # Download\n",
        "files.download(\"processed_melb_df.csv\")"
      ],
      "metadata": {
        "id": "gP220pPfoqP4",
        "colab": {
          "base_uri": "https://localhost:8080/",
          "height": 17
        },
        "outputId": "88e4faec-9cb2-4126-aba7-28fe2dbb49bc"
      },
      "execution_count": 42,
      "outputs": [
        {
          "output_type": "display_data",
          "data": {
            "text/plain": [
              "<IPython.core.display.Javascript object>"
            ],
            "application/javascript": [
              "\n",
              "    async function download(id, filename, size) {\n",
              "      if (!google.colab.kernel.accessAllowed) {\n",
              "        return;\n",
              "      }\n",
              "      const div = document.createElement('div');\n",
              "      const label = document.createElement('label');\n",
              "      label.textContent = `Downloading \"${filename}\": `;\n",
              "      div.appendChild(label);\n",
              "      const progress = document.createElement('progress');\n",
              "      progress.max = size;\n",
              "      div.appendChild(progress);\n",
              "      document.body.appendChild(div);\n",
              "\n",
              "      const buffers = [];\n",
              "      let downloaded = 0;\n",
              "\n",
              "      const channel = await google.colab.kernel.comms.open(id);\n",
              "      // Send a message to notify the kernel that we're ready.\n",
              "      channel.send({})\n",
              "\n",
              "      for await (const message of channel.messages) {\n",
              "        // Send a message to notify the kernel that we're ready.\n",
              "        channel.send({})\n",
              "        if (message.buffers) {\n",
              "          for (const buffer of message.buffers) {\n",
              "            buffers.push(buffer);\n",
              "            downloaded += buffer.byteLength;\n",
              "            progress.value = downloaded;\n",
              "          }\n",
              "        }\n",
              "      }\n",
              "      const blob = new Blob(buffers, {type: 'application/binary'});\n",
              "      const a = document.createElement('a');\n",
              "      a.href = window.URL.createObjectURL(blob);\n",
              "      a.download = filename;\n",
              "      div.appendChild(a);\n",
              "      a.click();\n",
              "      div.remove();\n",
              "    }\n",
              "  "
            ]
          },
          "metadata": {}
        },
        {
          "output_type": "display_data",
          "data": {
            "text/plain": [
              "<IPython.core.display.Javascript object>"
            ],
            "application/javascript": [
              "download(\"download_69babe0e-d9e3-4fde-b1ba-cbc35a8fbdc8\", \"processed_melb_df.csv\", 67595838)"
            ]
          },
          "metadata": {}
        }
      ]
    },
    {
      "cell_type": "markdown",
      "metadata": {
        "id": "mVBLFc8PhRtW"
      },
      "source": [
        "## Ejercicio 5: Documentación\n",
        "\n",
        "En un documento `.pdf` o `.md` realizar un reporte de las operaciones que realizaron para obtener el conjunto de datos final. Se debe incluir:\n",
        "  1. Criterios de exclusión (o inclusión) de filas\n",
        "  2. Interpretación de las columnas presentes\n",
        "  2. Todas las transofrmaciones realizadas\n",
        "\n",
        "Este documento es de uso técnico exclusivamente, y su objetivo es permitir que otres desarrolladores puedan reproducir los mismos pasos y obtener el mismo resultado. Debe ser detallado pero consiso. Por ejemplo:\n",
        "\n",
        "```\n",
        "  ## Criterios de exclusión de ejemplos\n",
        "  1. Se eliminan ejemplos donde el año de construcción es previo a 1900\n",
        "\n",
        "  ## Características seleccionadas\n",
        "  ### Características categóricas\n",
        "  1. Type: tipo de propiedad. 3 valores posibles\n",
        "  2. ...\n",
        "  Todas las características categóricas fueron codificadas con un\n",
        "  método OneHotEncoding utilizando como máximo sus 30 valores más \n",
        "  frecuentes.\n",
        "  \n",
        "  ### Características numéricas\n",
        "  1. Rooms: Cantidad de habitaciones\n",
        "  2. Distance: Distancia al centro de la ciudad.\n",
        "  3. airbnb_mean_price: Se agrega el precio promedio diario de \n",
        "     publicaciones de la plataforma AirBnB en el mismo código \n",
        "     postal. [Link al repositorio con datos externos].\n",
        "\n",
        "  ### Transformaciones:\n",
        "  1. Todas las características numéricas fueron estandarizadas.\n",
        "  2. La columna `Suburb` fue imputada utilizando el método ...\n",
        "  3. Las columnas `YearBuilt` y ... fueron imputadas utilizando el \n",
        "     algoritmo ...\n",
        "  4. ...\n",
        "\n",
        "  ### Datos aumentados\n",
        "  1. Se agregan las 5 primeras columnas obtenidas a través del\n",
        "     método de PCA, aplicado sobre el conjunto de datos\n",
        "     totalmente procesado.\n",
        "```\n"
      ]
    }
  ]
}