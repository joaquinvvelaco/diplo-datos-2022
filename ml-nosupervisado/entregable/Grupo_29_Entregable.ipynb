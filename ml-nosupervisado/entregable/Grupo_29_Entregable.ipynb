{
 "cells": [
  {
   "cell_type": "markdown",
   "metadata": {},
   "source": [
    "# Importar librerías"
   ]
  },
  {
   "cell_type": "code",
   "execution_count": null,
   "metadata": {},
   "outputs": [],
   "source": [
    "import pandas as pd\n",
    "import seaborn as sns\n",
    "from matplotlib import pyplot as plt\n",
    "from mpl_toolkits.mplot3d import Axes3D\n",
    "from matplotlib.colors import ListedColormap\n",
    "\n",
    "from itertools import combinations\n",
    "from sklearn.cluster import KMeans,MeanShift\n",
    "from sklearn.experimental import enable_iterative_imputer\n",
    "from sklearn.neighbors import KNeighborsRegressor\n",
    "from sklearn.impute import IterativeImputer\n",
    "from sklearn.preprocessing import StandardScaler, MinMaxScaler, RobustScaler\n",
    "from sklearn.decomposition import PCA"
   ]
  },
  {
   "cell_type": "markdown",
   "metadata": {},
   "source": [
    "# Cargar dataset"
   ]
  },
  {
   "cell_type": "code",
   "execution_count": null,
   "metadata": {},
   "outputs": [],
   "source": [
    "df = pd.read_csv(\"players_22.csv\")"
   ]
  },
  {
   "cell_type": "markdown",
   "metadata": {},
   "source": [
    "# Análisis exploratorio de la base"
   ]
  },
  {
   "cell_type": "code",
   "execution_count": null,
   "metadata": {},
   "outputs": [],
   "source": [
    "df.info()"
   ]
  },
  {
   "cell_type": "code",
   "execution_count": null,
   "metadata": {},
   "outputs": [],
   "source": [
    "df.head()"
   ]
  },
  {
   "cell_type": "code",
   "execution_count": null,
   "metadata": {},
   "outputs": [],
   "source": [
    "col_groups = df.columns.to_series().groupby(df.dtypes).groups\n",
    "group_types = {k.name: v.tolist() for k, v in col_groups.items()}\n",
    "\n",
    "group_types"
   ]
  },
  {
   "cell_type": "code",
   "execution_count": null,
   "metadata": {},
   "outputs": [],
   "source": [
    "group_types[\"float64\"]"
   ]
  },
  {
   "cell_type": "code",
   "execution_count": null,
   "metadata": {},
   "outputs": [],
   "source": [
    "group_types[\"object\"]"
   ]
  },
  {
   "cell_type": "code",
   "execution_count": null,
   "metadata": {},
   "outputs": [],
   "source": [
    "positions = ['ls',\n",
    " 'st',\n",
    " 'rs',\n",
    " 'lw',\n",
    " 'lf',\n",
    " 'cf',\n",
    " 'rf',\n",
    " 'rw',\n",
    " 'lam',\n",
    " 'cam',\n",
    " 'ram',\n",
    " 'lm',\n",
    " 'lcm',\n",
    " 'cm',\n",
    " 'rcm',\n",
    " 'rm',\n",
    " 'lwb',\n",
    " 'ldm',\n",
    " 'cdm',\n",
    " 'rdm',\n",
    " 'rwb',\n",
    " 'lb',\n",
    " 'lcb',\n",
    " 'cb',\n",
    " 'rcb',\n",
    " 'rb',\n",
    " 'gk']"
   ]
  },
  {
   "cell_type": "code",
   "execution_count": null,
   "metadata": {},
   "outputs": [],
   "source": [
    "df_splitted = df.assign(player_positions=df.player_positions.str.split(',')).explode('player_positions').reset_index(drop=True)"
   ]
  },
  {
   "cell_type": "code",
   "execution_count": null,
   "metadata": {},
   "outputs": [],
   "source": [
    "df_splitted.player_positions.unique()"
   ]
  },
  {
   "cell_type": "code",
   "execution_count": null,
   "metadata": {},
   "outputs": [],
   "source": [
    "df[df[\"club_position\"]==\"RWB\"][df[\"club_name\"]==\"Manchester City\"][[\"long_name\", \"club_position\", \"nation_position\", \"player_positions\"]]"
   ]
  },
  {
   "cell_type": "code",
   "execution_count": null,
   "metadata": {},
   "outputs": [],
   "source": [
    "df[df[\"club_position\"]==\"RWB\"][[\"long_name\", \"club_position\", \"nation_position\", \"player_positions\"]]"
   ]
  },
  {
   "cell_type": "code",
   "execution_count": null,
   "metadata": {},
   "outputs": [],
   "source": []
  },
  {
   "cell_type": "code",
   "execution_count": null,
   "metadata": {},
   "outputs": [],
   "source": [
    "numerical_cols = group_types[\"float64\"] + group_types[\"int64\"]"
   ]
  },
  {
   "cell_type": "code",
   "execution_count": null,
   "metadata": {},
   "outputs": [],
   "source": [
    "score_cols = ['attacking_crossing',\n",
    "  'attacking_finishing',\n",
    "  'attacking_heading_accuracy',\n",
    "  'attacking_short_passing',\n",
    "  'attacking_volleys',\n",
    "  'skill_dribbling',\n",
    "  'skill_curve',\n",
    "  'skill_fk_accuracy',\n",
    "  'skill_long_passing',\n",
    "  'skill_ball_control',\n",
    "  'movement_acceleration',\n",
    "  'movement_sprint_speed',\n",
    "  'movement_agility',\n",
    "  'movement_reactions',\n",
    "  'movement_balance',\n",
    "  'power_shot_power',\n",
    "  'power_jumping',\n",
    "  'power_stamina',\n",
    "  'power_strength',\n",
    "  'power_long_shots',\n",
    "  'mentality_aggression',\n",
    "  'mentality_interceptions',\n",
    "  'mentality_positioning',\n",
    "  'mentality_vision',\n",
    "  'mentality_penalties',\n",
    "  'mentality_composure',\n",
    "  'defending_marking_awareness',\n",
    "  'defending_standing_tackle',\n",
    "  'defending_sliding_tackle',\n",
    "  'goalkeeping_diving',\n",
    "  'goalkeeping_handling',\n",
    "  'goalkeeping_kicking',\n",
    "  'goalkeeping_positioning',\n",
    "  'goalkeeping_reflexes']"
   ]
  },
  {
   "cell_type": "code",
   "execution_count": null,
   "metadata": {},
   "outputs": [],
   "source": [
    "for col in score_cols:\n",
    "    print(f\"{col} - Minimo: {df[col].min()} Máximo {df[col].max()}\")"
   ]
  },
  {
   "cell_type": "code",
   "execution_count": null,
   "metadata": {},
   "outputs": [],
   "source": [
    "df[\"club_position\"].unique()"
   ]
  },
  {
   "cell_type": "code",
   "execution_count": null,
   "metadata": {},
   "outputs": [],
   "source": [
    "df[\"is_gk\"] = df[\"club_position\"] == 'GK'"
   ]
  },
  {
   "cell_type": "markdown",
   "metadata": {},
   "source": [
    "# Diagramas de dispersión"
   ]
  },
  {
   "cell_type": "code",
   "execution_count": null,
   "metadata": {},
   "outputs": [],
   "source": [
    "group_types[\"float64\"]+[\"is_gk\"]"
   ]
  },
  {
   "cell_type": "code",
   "execution_count": null,
   "metadata": {},
   "outputs": [],
   "source": [
    "sns.pairplot(df[group_types[\"float64\"]+[\"is_gk\"]], hue=\"is_gk\")"
   ]
  },
  {
   "cell_type": "code",
   "execution_count": null,
   "metadata": {},
   "outputs": [],
   "source": [
    "correlations = df[numerical_cols].corr()"
   ]
  },
  {
   "cell_type": "code",
   "execution_count": null,
   "metadata": {},
   "outputs": [],
   "source": [
    "class Correlation:\n",
    "    def __init__(self, name_var_1, name_var_2, correlation):\n",
    "        self.name_var_1 = name_var_1\n",
    "        self.name_var_2 = name_var_2\n",
    "        self.correlation = correlation\n",
    "\n",
    "    def is_very_high(self):\n",
    "        return abs(self.correlation) >= 0.8\n",
    "    \n",
    "    def is_high(self):\n",
    "        return 0.8 > abs(self.correlation) >= 0.6\n",
    "\n",
    "    def print(self):\n",
    "        print(f\"Las variables {self.name_var_1} y {self.name_var_2} tienen una correlación de {self.correlation}\")"
   ]
  },
  {
   "cell_type": "code",
   "execution_count": null,
   "metadata": {},
   "outputs": [],
   "source": [
    "combinations_columns = list(combinations(numerical_cols, r=2))"
   ]
  },
  {
   "cell_type": "code",
   "execution_count": null,
   "metadata": {},
   "outputs": [],
   "source": [
    "combinations_columns"
   ]
  },
  {
   "cell_type": "code",
   "execution_count": null,
   "metadata": {},
   "outputs": [],
   "source": [
    "\n",
    "high_correlations = []\n",
    "\n",
    "for pair in combinations_columns:\n",
    "    if(pair[0] != pair[1]):\n",
    "        correlation = Correlation(pair[0], pair[1], correlations[pair[0]][pair[1]])\n",
    "        if(correlation.is_very_high()):\n",
    "            high_correlations.append(correlation)"
   ]
  },
  {
   "cell_type": "markdown",
   "metadata": {},
   "source": [
    "# Preprocesamiento"
   ]
  },
  {
   "cell_type": "markdown",
   "metadata": {},
   "source": [
    "## Imputación de valores faltantes"
   ]
  },
  {
   "cell_type": "code",
   "execution_count": null,
   "metadata": {},
   "outputs": [],
   "source": [
    "\n",
    "knn_imputer = IterativeImputer(random_state=0, estimator=KNeighborsRegressor())\n",
    "df[numerical_cols] = knn_imputer.fit_transform(df[numerical_cols])"
   ]
  },
  {
   "cell_type": "markdown",
   "metadata": {},
   "source": [
    "## Estandarización de variables numéricas"
   ]
  },
  {
   "cell_type": "markdown",
   "metadata": {},
   "source": [
    "Escalamos los datos. Aplicaremos KMeans sobre las columnas score_cols, que como vimos anteriormente no tienen exactamente el mismo rango. "
   ]
  },
  {
   "cell_type": "code",
   "execution_count": null,
   "metadata": {},
   "outputs": [],
   "source": [
    "scaler = MinMaxScaler()\n",
    "\n",
    "standarized_df = df.copy()\n",
    "\n",
    "standarized_df[numerical_cols] = pd.DataFrame(scaler.fit_transform(df[numerical_cols]), columns=df[numerical_cols].columns)\n"
   ]
  },
  {
   "cell_type": "markdown",
   "metadata": {},
   "source": [
    "# Clustering"
   ]
  },
  {
   "cell_type": "markdown",
   "metadata": {},
   "source": [
    "## K-Means"
   ]
  },
  {
   "cell_type": "code",
   "execution_count": null,
   "metadata": {},
   "outputs": [],
   "source": [
    "# Número de clusters buscado\n",
    "n_clust = 5\n",
    "\n",
    "km = KMeans(n_clusters=n_clust, random_state=565)\n",
    "km.fit(standarized_df[score_cols])\n",
    "\n",
    "# Etiquetas asignadas por el algoritmo\n",
    "standarized_df[\"km_cluster\"] = km.labels_\n"
   ]
  },
  {
   "cell_type": "code",
   "execution_count": null,
   "metadata": {},
   "outputs": [],
   "source": [
    "standarized_df[\"club_name\"]"
   ]
  },
  {
   "cell_type": "code",
   "execution_count": null,
   "metadata": {},
   "outputs": [],
   "source": [
    "standarized_df[standarized_df[\"club_name\"] == \"FC Bayern München\"][[\"short_name\", \"km_cluster\"]]"
   ]
  },
  {
   "cell_type": "markdown",
   "metadata": {},
   "source": [
    "Según un análisis superficial de equipos como FC Bayern München, Paris Saint-Germain, Manchester United, Manchester City y Boca Juniors, al parecer los agrupamientos son los siguientes \n",
    "\n",
    "0. Defensores\n",
    "1. Arqueros\n",
    "2. Mediocampista ofensivo / Delantero \n",
    "3. Mediocampista ofensivo / Delantero \n",
    "4. Mediocampista / Lateral\n",
    "\n",
    "La diferencia entre el 2 y el 3 pasa por la calidad del jugador, siendo los 2, jugadores de baja calidad. Podríamos considerar a los mismos con un overall<0.5"
   ]
  },
  {
   "cell_type": "code",
   "execution_count": null,
   "metadata": {},
   "outputs": [],
   "source": [
    "standarized_df[\"is_expected_group\"] = standarized_df.apply(lambda player: is_expected_group(player[\"player_positions\"], \n",
    "    player['overall'], \n",
    "    player[\"km_cluster\"]), axis=1)\n",
    "\n",
    "standarized_df[\"is_expected_group\"].sum()/len(standarized_df)"
   ]
  },
  {
   "cell_type": "markdown",
   "metadata": {},
   "source": [
    "La hipótesis es cierta en el 80% de los jugadores"
   ]
  },
  {
   "cell_type": "code",
   "execution_count": null,
   "metadata": {},
   "outputs": [],
   "source": [
    "def contains(a, b):\n",
    "    for i in a:\n",
    "        if (i in b):\n",
    "            return True\n",
    "    return False"
   ]
  },
  {
   "cell_type": "code",
   "execution_count": null,
   "metadata": {},
   "outputs": [],
   "source": [
    "goalkeeper = [\"GK\"]\n",
    "backs = [\"CB\"]\n",
    "lateral_backs = [\"LB\",\"RB\",\"RWB\",\"LWB\"]\n",
    "offensive_midfielders = [\"CF\",\"CAM\",\"LM\",\"RM\"]\n",
    "midfielders = [\"CDM\", \"CM\"]\n",
    "forwards = [\"RW\",\"ST\",\"LW\"]\n",
    "\n",
    "BACK = 0\n",
    "GOALKEEPER = 1\n",
    "BAD_OFFENSIVE_MIDFIELDER_FORWARD = 2\n",
    "OFFENSIVE_MIDFIELDER_FORWARD = 3\n",
    "MIDFIELDER_LATERAL_BACK = 4\n",
    "\n",
    "\n",
    "def is_expected_group(player_positions, overall, group):\n",
    "    player_positions = player_positions.replace(\" \", \"\").split(\",\")\n",
    "\n",
    "    if (contains(player_positions, goalkeeper) & (group == GOALKEEPER)):\n",
    "        return 1\n",
    "\n",
    "    if (contains(player_positions, backs) & (group == BACK)):\n",
    "        return 1\n",
    "\n",
    "    if (contains(player_positions, lateral_backs+midfielders)  & (group == MIDFIELDER_LATERAL_BACK)):\n",
    "        return 1\n",
    "    \n",
    "    if (contains(player_positions, offensive_midfielders+forwards)):\n",
    "        if ((overall<0.5) & (group == BAD_OFFENSIVE_MIDFIELDER_FORWARD)):\n",
    "            return 1\n",
    "        if ((overall>=0.5) & (group == OFFENSIVE_MIDFIELDER_FORWARD)):\n",
    "            return 1\n",
    "            \n",
    "    return 0\n",
    "\n",
    "        "
   ]
  },
  {
   "cell_type": "markdown",
   "metadata": {},
   "source": [
    "# Embedding"
   ]
  },
  {
   "cell_type": "markdown",
   "metadata": {},
   "source": [
    "## PCA"
   ]
  },
  {
   "cell_type": "code",
   "execution_count": null,
   "metadata": {},
   "outputs": [],
   "source": [
    "pca = PCA(n_components=4)\n",
    "pca.fit(standarized_df[group_types[\"int64\"]])"
   ]
  },
  {
   "cell_type": "code",
   "execution_count": null,
   "metadata": {},
   "outputs": [],
   "source": [
    "pca.explained_variance_ratio_"
   ]
  },
  {
   "cell_type": "code",
   "execution_count": null,
   "metadata": {},
   "outputs": [],
   "source": [
    "pca.transform(standarized_df[group_types[\"int64\"]])"
   ]
  },
  {
   "cell_type": "code",
   "execution_count": null,
   "metadata": {},
   "outputs": [],
   "source": [
    "pca_df = pd.DataFrame(data = pca.transform(standarized_df[group_types[\"int64\"]]), columns=[\"pc1\", \"pc2\", \"pc3\", \"pc4\"])"
   ]
  },
  {
   "cell_type": "code",
   "execution_count": null,
   "metadata": {},
   "outputs": [],
   "source": [
    "standarized_df[\"pc1\"] = pca_df[\"pc1\"]\n",
    "standarized_df[\"pc2\"] = pca_df[\"pc2\"]\n",
    "standarized_df[\"pc3\"] = pca_df[\"pc3\"]\n",
    "standarized_df[\"pc4\"] = pca_df[\"pc4\"]"
   ]
  },
  {
   "cell_type": "code",
   "execution_count": null,
   "metadata": {},
   "outputs": [],
   "source": [
    "\n",
    "sns.set(rc={'figure.figsize':(15,15)})\n",
    "sns.scatterplot(data=standarized_df.sample(8000), x=\"pc1\", y=\"pc2\", hue=\"km_cluster\")"
   ]
  },
  {
   "cell_type": "markdown",
   "metadata": {},
   "source": [
    "Si bien las dos componentes principales conservan aproximadamente solo el 65% de la información, es suficiente para visualizar en el plano la separación entre ambos grupos.\n",
    "Se observa que la PC1 se encuentra significativamente relacionada a la capacidad que tiene el jugador para atajar (altos valores en los scores que comienzan con \"goalkeeping_\") "
   ]
  }
 ],
 "metadata": {
  "kernelspec": {
   "display_name": "Python 3.10.6 64-bit (windows store)",
   "language": "python",
   "name": "python3"
  },
  "language_info": {
   "codemirror_mode": {
    "name": "ipython",
    "version": 3
   },
   "file_extension": ".py",
   "mimetype": "text/x-python",
   "name": "python",
   "nbconvert_exporter": "python",
   "pygments_lexer": "ipython3",
   "version": "3.10.7"
  },
  "orig_nbformat": 4,
  "vscode": {
   "interpreter": {
    "hash": "91d5fa0733a3b6ae75b1f47bdf7ad85541360fca3257db01da4aa0636bba48a8"
   }
  }
 },
 "nbformat": 4,
 "nbformat_minor": 2
}
